{
 "cells": [
  {
   "cell_type": "code",
   "execution_count": 1,
   "id": "8ce5ed46",
   "metadata": {},
   "outputs": [
    {
     "name": "stderr",
     "output_type": "stream",
     "text": [
      "/home/ogech/CPC/venv/lib/python3.10/site-packages/tqdm/auto.py:21: TqdmWarning: IProgress not found. Please update jupyter and ipywidgets. See https://ipywidgets.readthedocs.io/en/stable/user_install.html\n",
      "  from .autonotebook import tqdm as notebook_tqdm\n"
     ]
    }
   ],
   "source": [
    "import torch\n",
    "import torch.nn as nn\n",
    "import torch.nn.functional as F\n",
    "import timm\n",
    "import copy"
   ]
  },
  {
   "cell_type": "markdown",
   "id": "5982314e",
   "metadata": {},
   "source": [
    "### **MoCov3 model development**"
   ]
  },
  {
   "cell_type": "code",
   "execution_count": 2,
   "id": "103ab3e4",
   "metadata": {},
   "outputs": [],
   "source": [
    "# adapted from https://github.com/facebookresearch/moco-v3.git\n",
    "class MoCov3(nn.Module):\n",
    "    def __init__(self,\n",
    "                 n_chans=4,\n",
    "                 dim=256,\n",
    "                 mlp_dim=4096,\n",
    "                 min_T=0.1,\n",
    "                 max_T=0.2,\n",
    "                 dynamic_temp=False,\n",
    "                 drop_rate=0.0,\n",
    "                 drop_path_rate=0.0,\n",
    "                 device='cuda'):\n",
    "        \"\"\"\n",
    "        :param dim: the feature dimension (default: 256)\n",
    "        :param mlp_dim: the hidden dimension of the MLP (default: 4096)\n",
    "        :param min_T: the minimum temperature (default: 0.1)\n",
    "        :param max_T: the maximum temperature (default: 0.2)\n",
    "        :param dynamic_temp: whether to use dynamic temperature (default: False)\n",
    "        :param device: the device to use (default: 'cuda')\n",
    "        \"\"\"\n",
    "        super(MoCov3, self).__init__()\n",
    "        self.min_T = min_T\n",
    "        self.max_T = max_T\n",
    "        self.dynamic_temp = dynamic_temp\n",
    "        self.device = device\n",
    "\n",
    "        # build encoders\n",
    "        self.base_encoder = timm.create_model(\n",
    "            \"resnet18\",\n",
    "            in_chans=n_chans,\n",
    "            num_classes=mlp_dim,\n",
    "            drop_rate=drop_rate,\n",
    "            drop_path_rate=drop_path_rate\n",
    "        )\n",
    "        self.momentum_encoder = copy.deepcopy(self.base_encoder)\n",
    "\n",
    "        # build the projection and prediction heads\n",
    "        self._build_projection_prediction_heads(dim, mlp_dim)\n",
    "\n",
    "        for param_m in self.momentum_encoder.parameters():\n",
    "            param_m.requires_grad = False  # not update by gradient\n",
    "\n",
    "    def _build_mlp(self, num_layers, input_dim, mlp_dim, output_dim, last_bn=True):\n",
    "        mlp = []\n",
    "        for l in range(num_layers):\n",
    "            dim1 = input_dim if l == 0 else mlp_dim\n",
    "            dim2 = output_dim if l == num_layers - 1 else mlp_dim\n",
    "\n",
    "            mlp.append(nn.Linear(dim1, dim2, bias=False))\n",
    "\n",
    "            if l < num_layers - 1:\n",
    "                mlp.append(nn.BatchNorm1d(dim2))\n",
    "                mlp.append(nn.ReLU(inplace=True))\n",
    "            elif last_bn:\n",
    "                # follow SimCLR's design: https://github.com/google-research/simclr/blob/master/model_util.py#L157\n",
    "                # for simplicity, we further removed gamma in BN\n",
    "                mlp.append(nn.BatchNorm1d(dim2, affine=False))\n",
    "\n",
    "        return nn.Sequential(*mlp)\n",
    "\n",
    "    def _build_projection_prediction_heads(self, dim, mlp_dim):\n",
    "        hidden_dim = self.base_encoder.fc.weight.shape[1]\n",
    "\n",
    "        del self.base_encoder.fc, self.momentum_encoder.fc  # remove the fc layer # noqa\n",
    "\n",
    "        # projectors\n",
    "        self.base_encoder.fc = self._build_mlp(\n",
    "            2, hidden_dim, mlp_dim, dim)\n",
    "        self.momentum_encoder.fc = self._build_mlp(\n",
    "            2, hidden_dim, mlp_dim, dim)\n",
    "\n",
    "        # predictor\n",
    "        self.predictor = self._build_mlp(2, dim, mlp_dim, dim, False)\n",
    "\n",
    "    @torch.no_grad()\n",
    "    def _update_momentum_encoder(self, m):\n",
    "        \"\"\"Momentum update of the momentum encoder\"\"\"\n",
    "        for param_b, param_m in zip(self.base_encoder.parameters(), self.momentum_encoder.parameters()):\n",
    "            param_m.data = param_m.data * m + param_b.data * (1. - m)\n",
    "\n",
    "    def _get_temp(self, cosine_sim: torch.Tensor):\n",
    "        \"\"\"\n",
    "        Get the temperature for the contrastive loss based on this paper \n",
    "        https://ieeexplore.ieee.org/stamp/stamp.jsp?arnumber=10820841\n",
    "        \"\"\"\n",
    "        return self.min_T + 0.5*(self.max_T - self.min_T)*(1+torch.cos((1 + cosine_sim)*torch.tensor(torch.pi)))\n",
    "\n",
    "    def contrastive_loss(self, q, k):\n",
    "        # normalize\n",
    "        q = nn.functional.normalize(q, dim=1)\n",
    "        k = nn.functional.normalize(k, dim=1)\n",
    "        logits = torch.einsum('nc,mc->nm', [q, k])\n",
    "        logits /= self._get_temp(logits.detach()\n",
    "                                 ) if self.dynamic_temp else self.min_T\n",
    "        labels = torch.arange(\n",
    "            logits.shape[0], dtype=torch.long).to(self.device)\n",
    "\n",
    "        return nn.CrossEntropyLoss()(logits, labels) * 2 * self.min_T \\\n",
    "            if self.dynamic_temp else nn.CrossEntropyLoss()(logits, labels), logits\n",
    "\n",
    "    def forward(self, x1, x2, m):\n",
    "        \"\"\"\n",
    "        :param x1: the first input\n",
    "        :type x1: torch.Tensor\n",
    "        :param x2: the second input\n",
    "        :type x2: torch.Tensor\n",
    "        :param m: the momentum coefficient\n",
    "        :type m: float\n",
    "        \"\"\"\n",
    "\n",
    "        # compute features\n",
    "        q1 = self.predictor(self.base_encoder(x1))\n",
    "        q2 = self.predictor(self.base_encoder(x2))\n",
    "\n",
    "        with torch.no_grad():  # no gradient\n",
    "            self._update_momentum_encoder(m)  # update the momentum encoder\n",
    "\n",
    "            # compute momentum features as targets\n",
    "            k1 = self.momentum_encoder(x1)\n",
    "            k2 = self.momentum_encoder(x2)\n",
    "\n",
    "        l1, sim1 = self.contrastive_loss(q1, k2)\n",
    "        l2, sim2 = self.contrastive_loss(q2, k1)\n",
    "        return l1 + l2, sim1, sim2"
   ]
  },
  {
   "cell_type": "markdown",
   "id": "18c88e7f",
   "metadata": {},
   "source": [
    "### **Training**"
   ]
  },
  {
   "cell_type": "code",
   "execution_count": 3,
   "id": "b91dff80",
   "metadata": {},
   "outputs": [],
   "source": [
    "from torch.utils.data import Dataset, DataLoader\n",
    "from torchvision.transforms import Compose, Lambda\n",
    "import h5py\n",
    "import numpy as np\n",
    "from tqdm.autonotebook import tqdm\n",
    "from torch.utils.tensorboard import SummaryWriter\n",
    "from datetime import datetime\n",
    "import os\n",
    "import yaml"
   ]
  },
  {
   "cell_type": "code",
   "execution_count": 4,
   "id": "b694b9ef",
   "metadata": {},
   "outputs": [],
   "source": [
    "config = {\n",
    "    \"n_chans\": 4,\n",
    "    \"dim\": 256,\n",
    "    \"mlp_dim\": 1024,\n",
    "    \"drop_rate\": 0.0,\n",
    "    \"drop_path_rate\": 0.0,\n",
    "    \"temperature\": 0.2,\n",
    "    \"dynamic_temp\": True,\n",
    "    \"batch_size\": 1024,\n",
    "    \"experiment_name\": f\"mocov3_{datetime.now().strftime('%Y-%m-%d_%H-%M-%S')}\",\n",
    "    \"num_epochs\": 100,\n",
    "    \"moco_m\": 0.996,\n",
    "    \"knn_k\": 200,\n",
    "    \"knn_t\": 0.1,\n",
    "    \"learning_rate\": 0.03,\n",
    "    \"weight_decay\": 1e-4,\n",
    "    \"dataset_path\": \"./datasets\",\n",
    "    \"checkpoint_path\": None,\n",
    "    \"comment\": \"MoCov3 model training\",\n",
    "}"
   ]
  },
  {
   "cell_type": "code",
   "execution_count": 5,
   "id": "a15f9a6b",
   "metadata": {},
   "outputs": [],
   "source": [
    "class R22_Dataset(Dataset):\n",
    "    \"\"\"\n",
    "    Avoid loading the entire dataset into memory.\n",
    "    \"\"\"\n",
    "\n",
    "    def __init__(self, h5_path,\n",
    "                 input_label=\"iq_data\",\n",
    "                 target_label=\"angles\",\n",
    "                 txfms=None):\n",
    "        self.h5_path = h5_path\n",
    "        self.input_label = input_label\n",
    "        self.target_label = target_label\n",
    "        self.txfms = txfms\n",
    "        self._file = None\n",
    "\n",
    "    def _ensure_open(self):\n",
    "        if self._file is None:\n",
    "            # open in read-only, latest libver, SWMR if you know no writers\n",
    "            self._file = h5py.File(\n",
    "                self.h5_path, 'r', libver='latest', swmr=True)\n",
    "            self._x = self._file[self.input_label]\n",
    "            self._y = self._file[self.target_label]\n",
    "\n",
    "    def __len__(self):\n",
    "        self._ensure_open()\n",
    "        return self._x.shape[0]\n",
    "\n",
    "    def __getitem__(self, idx):\n",
    "        self._ensure_open()\n",
    "        x = self._x[idx]\n",
    "        y = self._y[idx]\n",
    "        if self.txfms:\n",
    "            x = self.txfms(x)\n",
    "        return x, y\n",
    "\n",
    "    def __del__(self):\n",
    "        if self._file is not None:\n",
    "            self._file.close()"
   ]
  },
  {
   "cell_type": "code",
   "execution_count": 6,
   "id": "49dfb6fa",
   "metadata": {},
   "outputs": [],
   "source": [
    "class RandomZeroMasking:\n",
    "    \"\"\"\n",
    "    https://arxiv.org/pdf/2207.03046\n",
    "    :param max_rate: Maximum rate of zero masking.\n",
    "    :type max_rate: float (default = 0.1)\n",
    "    :param dim: Dimension to apply zero masking.\n",
    "    :type dim: int (default = -1)\n",
    "    :rtype: torch.Tensor\n",
    "    \"\"\"\n",
    "\n",
    "    def __init__(self, max_rate=.1, dim=-1):\n",
    "        self.max_rate = max_rate\n",
    "        self.dim = dim\n",
    "\n",
    "    def __call__(self, x: torch.Tensor):\n",
    "        mask_size = torch.randint(\n",
    "            0, int(x.size(self.dim)*self.max_rate) + 1, (1,)).item()\n",
    "        mask = torch.ones_like(x).to(x.device)\n",
    "        mask_idx = [slice(None)] * x.ndim\n",
    "        rand_start_idxs = torch.randint(\n",
    "            0, x.size(self.dim), (max(min((x.size(self.dim) - mask_size) // 5, 5), 1),))\n",
    "        mask_idx[self.dim] = torch.flatten(rand_start_idxs.unsqueeze(1)\n",
    "                                           + torch.arange(mask_size).unsqueeze(0))\n",
    "        mask_idx[self.dim] = mask_idx[self.dim].clamp(0, x.size(self.dim) - 1)\n",
    "        mask[mask_idx] = 0\n",
    "        return x * mask\n",
    "\n",
    "\n",
    "class RandomAntennaDropout:\n",
    "    \"\"\"\n",
    "    https://arxiv.org/pdf/2312.04519\n",
    "    :param rate: Dropout rate.\n",
    "    :type rate: float (default = 0.1)\n",
    "    :param arrangement: Channel arrangement. 'interleaved' or 'grouped'\n",
    "    :type arrangement: str (default = 'grouped')\n",
    "    :rtype: torch.Tensor\n",
    "    \"\"\"\n",
    "\n",
    "    def __init__(self, rate=0.1, arrangement='grouped'):\n",
    "        self.rate = rate\n",
    "        self.arrangement = arrangement\n",
    "\n",
    "    def __call__(self, x: torch.Tensor):\n",
    "        x = x.clone()  # avoid modifying the input tensor\n",
    "        if x.ndim == 3:\n",
    "            # Handling x of shape [4, 2, 4096]\n",
    "            mask = (torch.rand(*x.shape[:-2], 1, 1) > self.rate).float()\n",
    "            # Apply mask independently to each [2, 4096] pair\n",
    "            x = x * mask.to(x.device)\n",
    "            return x\n",
    "\n",
    "        num_pairs = x.size(-2) // 2\n",
    "\n",
    "        if self.arrangement == 'interleaved':\n",
    "            mask = (torch.rand(*x.shape[:-2], num_pairs, 1) >\n",
    "                    self.rate).repeat_interleave(2, dim=1)\n",
    "            x = x * mask.to(x.device)\n",
    "\n",
    "        elif self.arrangement == 'grouped':\n",
    "            mask = (torch.rand(*x.shape[:-2],\n",
    "                    num_pairs, 1) > self.rate).float()\n",
    "            x[:num_pairs, :] *= mask.to(x.device)\n",
    "            x[num_pairs:, :] *= mask\n",
    "\n",
    "        return x\n",
    "\n",
    "\n",
    "class RandomCircularShift:\n",
    "    \"\"\"\n",
    "    :param max_shift: Maximum shift as a fraction of the sequence length (1.0 means full length).\n",
    "    :type max_shift: float (default is 1.0)\n",
    "    \"\"\"\n",
    "\n",
    "    def __init__(self, max_shift=1.0):\n",
    "        self.max_shift = max_shift\n",
    "\n",
    "    def __call__(self, x: torch.Tensor):\n",
    "        T = x.size(-1)\n",
    "        m = int(T * self.max_shift)\n",
    "        shift = torch.randint(-m, m + 1, (1,)).item()\n",
    "        return torch.roll(x, shifts=shift, dims=-1)\n",
    "\n",
    "\n",
    "class Jitter:\n",
    "    \"\"\"\n",
    "    https://arxiv.org/pdf/2007.15951\n",
    "    :param var: Variance of the Gaussian noise.\n",
    "    :type var: float (default = 1e-5)\n",
    "    \"\"\"\n",
    "\n",
    "    def __init__(self, var=1e-5):\n",
    "        self.var = var\n",
    "\n",
    "    def __call__(self, x: torch.Tensor):\n",
    "        noise = torch.randn_like(x).to(x.device) * self.var\n",
    "        return x + noise"
   ]
  },
  {
   "cell_type": "code",
   "execution_count": 7,
   "id": "89f61598",
   "metadata": {},
   "outputs": [],
   "source": [
    "class MoCoTransform:\n",
    "    \"\"\"Take two random transform of one data\"\"\"\n",
    "\n",
    "    def __init__(self, base_transform1, base_transform2):\n",
    "        self.base_transform1 = base_transform1\n",
    "        self.base_transform2 = base_transform2\n",
    "\n",
    "    def __call__(self, x):\n",
    "        x1 = self.base_transform1(x)\n",
    "        x2 = self.base_transform2(x)\n",
    "        return [x1, x2]"
   ]
  },
  {
   "cell_type": "code",
   "execution_count": 8,
   "id": "a057ba17",
   "metadata": {},
   "outputs": [
    {
     "name": "stdout",
     "output_type": "stream",
     "text": [
      "torch.Size([1024, 4, 2, 1024]) torch.Size([1024, 4, 2, 1024]) torch.Size([1024])\n"
     ]
    }
   ],
   "source": [
    "aug1 = Compose([\n",
    "    Lambda(lambda x: torch.tensor(x, dtype=torch.float32)),\n",
    "    RandomZeroMasking(max_rate=0.2),\n",
    "    RandomAntennaDropout(rate=0.1),\n",
    "    RandomCircularShift(max_shift=0.3),\n",
    "    Jitter(var=1e-5),\n",
    "])\n",
    "\n",
    "aug2 = Compose([\n",
    "    Lambda(lambda x: torch.tensor(x, dtype=torch.float32)),\n",
    "    RandomZeroMasking(max_rate=0.2),\n",
    "    RandomAntennaDropout(rate=0.1),\n",
    "    RandomCircularShift(max_shift=0.3),\n",
    "    Jitter(var=1e-5),\n",
    "])\n",
    "\n",
    "train_ds = R22_Dataset(\n",
    "    os.path.join(config[\"dataset_path\"], \"train_preprocessed.h5\"),\n",
    "    input_label=\"iq_data\",\n",
    "    target_label=\"angles\",\n",
    "    txfms=MoCoTransform(aug1, aug2)\n",
    ")\n",
    "\n",
    "memory_ds = R22_Dataset(\n",
    "    os.path.join(config[\"dataset_path\"], \"train_preprocessed.h5\"),\n",
    "    input_label=\"iq_data\",\n",
    "    target_label=\"angles\"\n",
    ")\n",
    "\n",
    "test_ds = R22_Dataset(\n",
    "    os.path.join(config[\"dataset_path\"], \"test_preprocessed.h5\"),\n",
    "    input_label=\"iq_data\",\n",
    "    target_label=\"angles\"\n",
    ")\n",
    "\n",
    "# test with a small dataset\n",
    "seed = 42\n",
    "np.random.seed(seed)\n",
    "torch.manual_seed(seed)\n",
    "torch.cuda.manual_seed_all(seed)\n",
    "idx = torch.randperm(len(train_ds))[:225*1000]\n",
    "train_ds = torch.utils.data.Subset(train_ds, idx)\n",
    "idx = torch.randperm(len(memory_ds))[:225*1000]\n",
    "memory_ds = torch.utils.data.Subset(memory_ds, idx)\n",
    "idx = torch.randperm(len(test_ds))[:225*10]\n",
    "test_ds = torch.utils.data.Subset(test_ds, idx)\n",
    "\n",
    "prefetch_factor = 2\n",
    "num_workers = 8\n",
    "persistent_workers = True\n",
    "pin_memory = True\n",
    "\n",
    "train_loader = DataLoader(\n",
    "    train_ds,\n",
    "    batch_size=config[\"batch_size\"],\n",
    "    shuffle=True,\n",
    "    prefetch_factor=prefetch_factor,\n",
    "    num_workers=num_workers,\n",
    "    persistent_workers=persistent_workers,\n",
    "    pin_memory=pin_memory,\n",
    "    drop_last=True\n",
    ")\n",
    "\n",
    "memory_loader = DataLoader(\n",
    "    memory_ds,\n",
    "    batch_size=config[\"batch_size\"],\n",
    "    shuffle=False,\n",
    "    prefetch_factor=prefetch_factor,\n",
    "    num_workers=num_workers,\n",
    "    persistent_workers=persistent_workers,\n",
    "    pin_memory=pin_memory,\n",
    "    drop_last=False\n",
    ")\n",
    "test_loader = DataLoader(\n",
    "    test_ds,\n",
    "    batch_size=config[\"batch_size\"],\n",
    "    shuffle=False,\n",
    "    prefetch_factor=prefetch_factor,\n",
    "    num_workers=num_workers,\n",
    "    persistent_workers=persistent_workers,\n",
    "    pin_memory=pin_memory,\n",
    "    drop_last=False\n",
    ")\n",
    "\n",
    "(xb1, xb2), yb = next(iter(train_loader))\n",
    "print(xb1.shape, xb2.shape, yb.shape)\n",
    "\n",
    "device = torch.device(\"cuda:1\" if torch.cuda.is_available() else \"cpu\")"
   ]
  },
  {
   "cell_type": "code",
   "execution_count": 9,
   "id": "e9e0055d",
   "metadata": {},
   "outputs": [
    {
     "data": {
      "image/png": "[encoded data removed]",
      "text/plain": [
       "<Figure size 1000x2500 with 20 Axes>"
      ]
     },
     "metadata": {},
     "output_type": "display_data"
    }
   ],
   "source": [
    "# double checking dataloading pipeline and augmentation\n",
    "import matplotlib.pyplot as plt\n",
    "\n",
    "_, axs = plt.subplots(10, 2, figsize=(10, 25))\n",
    "idxs = torch.randint(0, config[\"batch_size\"], (10,))\n",
    "for i, idx in enumerate(idxs):\n",
    "    # each example is a 4 by 2 by k tensor\n",
    "    axs[i, 0].plot(xb1[idx, :, 0].cpu().numpy().T)\n",
    "    axs[i, 1].plot(xb2[idx, :, 0].cpu().numpy().T)"
   ]
  },
  {
   "cell_type": "code",
   "execution_count": 10,
   "id": "062765d0",
   "metadata": {},
   "outputs": [
    {
     "name": "stdout",
     "output_type": "stream",
     "text": [
      "Model has 12,494,464 trainable parameters\n"
     ]
    },
    {
     "name": "stdout",
     "output_type": "stream",
     "text": [
      "tensor(5.5200, device='cuda:1', grad_fn=<AddBackward0>)\n"
     ]
    }
   ],
   "source": [
    "# test the model\n",
    "model = MoCov3(\n",
    "    n_chans=config[\"n_chans\"],\n",
    "    dim=config[\"dim\"],\n",
    "    mlp_dim=config[\"mlp_dim\"],\n",
    "    drop_rate=config[\"drop_rate\"],\n",
    "    drop_path_rate=config[\"drop_path_rate\"],\n",
    "    min_T=config[\"temperature\"],\n",
    "    dynamic_temp=config[\"dynamic_temp\"],\n",
    "    device=device\n",
    ").to(device)\n",
    "\n",
    "print(\n",
    "    f\"Model has {sum(p.numel() for p in model.parameters() if p.requires_grad):,} trainable parameters\")\n",
    "\n",
    "loss, *_ = model(xb1.to(device), xb2.to(device), 0.999)\n",
    "print(loss)"
   ]
  },
  {
   "cell_type": "code",
   "execution_count": 11,
   "id": "97a6f66b",
   "metadata": {},
   "outputs": [],
   "source": [
    "class Tracker:\n",
    "    \"\"\"\n",
    "    A class to track the best value of a metric.\n",
    "\n",
    "    :param metric: The name of the metric to track. If 'loss' is in the metric name, the goal is to minimize it.\n",
    "    :type metric: str\n",
    "    :param mode: The mode of tracking. Can be 'auto', 'min', or 'max'. Default is 'auto'.\n",
    "    :type mode: str, optional\n",
    "    \"\"\"\n",
    "\n",
    "    def __init__(self, metric, mode='auto'):\n",
    "        self.metric = metric\n",
    "        self.mode = mode\n",
    "        self.mode_dict = {\n",
    "            'auto': np.less if 'loss' in metric else np.greater,\n",
    "            'min': np.less,\n",
    "            'max': np.greater\n",
    "        }\n",
    "        self.operator = self.mode_dict[mode]\n",
    "        self._best = np.inf if self.operator == np.less else -np.inf\n",
    "\n",
    "    @property\n",
    "    def best(self):\n",
    "        return self._best\n",
    "\n",
    "    @best.setter\n",
    "    def best(self, value):\n",
    "        self._best = value"
   ]
  },
  {
   "cell_type": "code",
   "execution_count": 12,
   "id": "10076e62",
   "metadata": {},
   "outputs": [],
   "source": [
    "def knn_predict(feature, feature_bank, feature_labels, num_classes, k=200, t=0.1):\n",
    "    # feature is [b, d], feature_bank is [d, n] and feature_labels is [n]\n",
    "    sim_mat = torch.mm(feature, feature_bank)  # [b, n]\n",
    "    sim_weight, sim_indices = sim_mat.topk(k, dim=-1)  # [b, k]\n",
    "    sim_labels = torch.gather(feature_labels.expand(\n",
    "        feature.size(0), -1), dim=-1, index=sim_indices)\n",
    "    sim_weight = (sim_weight / t).exp()\n",
    "\n",
    "    # count for each class\n",
    "    one_hot = torch.zeros(feature.size(0) * k, num_classes).to(feature.device)\n",
    "    one_hot = one_hot.scatter(\n",
    "        dim=-1, index=sim_labels.view(-1, 1), value=1.0)  # [b*k, num_classes]\n",
    "    pred_scores = torch.sum(one_hot.view(feature.size(0), -1, num_classes) * sim_weight.unsqueeze(dim=-1), dim=1)  # weighted scores [b, num_classes] # noqa\n",
    "\n",
    "    pred_labels = pred_scores.argsort(\n",
    "        dim=-1, descending=True)  # [b, num_classes]\n",
    "    return pred_labels\n",
    "\n",
    "\n",
    "@torch.no_grad()\n",
    "def knn_evaluate(model, memory_loader, test_loader, epoch, config, pbar, writer, device):\n",
    "    feature_bank, feature_labels = [], []\n",
    "    encoder = copy.deepcopy(model.base_encoder)\n",
    "    encoder.fc = nn.Identity()\n",
    "    encoder = encoder.to(device)\n",
    "    encoder.eval()\n",
    "    for x, y in tqdm(memory_loader, desc=\"Extracting features\", leave=False):\n",
    "        x, y = x.to(device), y.to(device)\n",
    "        feature = encoder(x)\n",
    "        # normalize the feature\n",
    "        feature = F.normalize(feature, dim=-1)\n",
    "        feature_bank.append(feature)\n",
    "        feature_labels.append(y)\n",
    "    feature_bank = torch.cat(feature_bank, dim=0).t().contiguous()  # [d, n]\n",
    "    feature_labels = torch.cat(feature_labels, dim=0)  # [n]\n",
    "\n",
    "    # loop over the test set\n",
    "    total_num, top1, top5 = 0, 0, 0\n",
    "    for x, y in tqdm(test_loader, desc=\"Testing\", leave=False):\n",
    "        x, y = x.to(device), y.to(device)\n",
    "        feature = encoder(x)\n",
    "        # normalize the feature\n",
    "        feature = F.normalize(feature, dim=-1)\n",
    "        pred_labels = knn_predict(feature, feature_bank, feature_labels,\n",
    "                                  num_classes=config[\"nclasses\"], k=config[\"knn_k\"], t=config[\"knn_t\"])\n",
    "        top1 += (pred_labels[:, 0] == y).sum().item()\n",
    "        top5 += (pred_labels[:, :5] == y.unsqueeze(1)).sum().item()\n",
    "        total_num += y.size(0)\n",
    "    pbar.write(\n",
    "        f\"Epoch [{epoch}/{config['num_epochs']}] Acc@1: {top1 / total_num * 100:.2f}%, Acc@5: {top5 / total_num * 100:.2f}%\"\n",
    "    )\n",
    "    writer.add_scalar(\n",
    "        f\"test/top1\", top1 / total_num * 100, epoch)\n",
    "    writer.add_scalar(\n",
    "        f\"test/top5\", top5 / total_num * 100, epoch)"
   ]
  },
  {
   "cell_type": "code",
   "execution_count": 13,
   "id": "acb35c6c",
   "metadata": {},
   "outputs": [],
   "source": [
    "def adjust_moco_momentum(epoch, config):\n",
    "    return 1. - 0.5 * (1 + np.cos(np.pi * epoch /\n",
    "                                  config[\"num_epochs\"])) * (1 - config[\"moco_m\"])"
   ]
  },
  {
   "cell_type": "code",
   "execution_count": 14,
   "id": "f6a6f60e",
   "metadata": {},
   "outputs": [],
   "source": [
    "class LARS(torch.optim.Optimizer):\n",
    "    \"\"\"\n",
    "    LARS optimizer, no rate scaling or weight decay for parameters <= 1D.\n",
    "    \"\"\"\n",
    "\n",
    "    def __init__(self, params, lr=0, weight_decay=0, momentum=0.9, trust_coefficient=0.001):\n",
    "        defaults = dict(lr=lr, weight_decay=weight_decay,\n",
    "                        momentum=momentum, trust_coefficient=trust_coefficient)\n",
    "        super().__init__(params, defaults)\n",
    "\n",
    "    @torch.no_grad()\n",
    "    def step(self):\n",
    "        for g in self.param_groups:\n",
    "            for p in g['params']:\n",
    "                dp = p.grad\n",
    "\n",
    "                if dp is None:\n",
    "                    continue\n",
    "\n",
    "                if p.ndim > 1:  # if not normalization gamma/beta or bias\n",
    "                    dp = dp.add(p, alpha=g['weight_decay'])\n",
    "                    param_norm = torch.norm(p)\n",
    "                    update_norm = torch.norm(dp)\n",
    "                    one = torch.ones_like(param_norm)\n",
    "                    q = torch.where(param_norm > 0.,\n",
    "                                    torch.where(update_norm > 0,\n",
    "                                                (g['trust_coefficient'] * param_norm / update_norm), one),\n",
    "                                    one)\n",
    "                    dp = dp.mul(q)\n",
    "\n",
    "                param_state = self.state[p]\n",
    "                if 'mu' not in param_state:\n",
    "                    param_state['mu'] = torch.zeros_like(p)\n",
    "                mu = param_state['mu']\n",
    "                mu.mul_(g['momentum']).add_(dp)\n",
    "                p.add_(mu, alpha=-g['lr'])"
   ]
  },
  {
   "cell_type": "code",
   "execution_count": null,
   "id": "bd5141f8",
   "metadata": {},
   "outputs": [
    {
     "name": "stderr",
     "output_type": "stream",
     "text": [
      "  0%|          | 0/100 [00:00<?, ?it/s]"
     ]
    },
    {
     "name": "stderr",
     "output_type": "stream",
     "text": [
      "  0%|          | 0/100 [02:10<?, ?it/s]"
     ]
    },
    {
     "name": "stdout",
     "output_type": "stream",
     "text": [
      "Epoch 0: loss = 4.2668\n"
     ]
    },
    {
     "name": "stderr",
     "output_type": "stream",
     "text": [
      "  0%|          | 0/100 [03:48<?, ?it/s]"
     ]
    },
    {
     "name": "stdout",
     "output_type": "stream",
     "text": [
      "Epoch [0/100] Acc@1: 9.20%, Acc@5: 42.58%\n",
      "Model saved to ./experiments/mocov3_2025-05-14_06-17-49/weights.pth\n"
     ]
    },
    {
     "name": "stderr",
     "output_type": "stream",
     "text": [
      "  1%|          | 1/100 [03:48<6:17:05, 228.54s/it]"
     ]
    },
    {
     "name": "stdout",
     "output_type": "stream",
     "text": [
      "Latest checkpoint saved to ./experiments/mocov3_2025-05-14_06-17-49/last_checkpoint.pt at epoch 0\n"
     ]
    },
    {
     "name": "stderr",
     "output_type": "stream",
     "text": [
      "  1%|          | 1/100 [06:02<6:17:05, 228.54s/it]"
     ]
    },
    {
     "name": "stdout",
     "output_type": "stream",
     "text": [
      "Epoch 1: loss = 3.7912\n"
     ]
    },
    {
     "name": "stderr",
     "output_type": "stream",
     "text": [
      "  1%|          | 1/100 [07:38<6:17:05, 228.54s/it]"
     ]
    },
    {
     "name": "stdout",
     "output_type": "stream",
     "text": [
      "Epoch [1/100] Acc@1: 9.82%, Acc@5: 44.62%\n"
     ]
    },
    {
     "name": "stderr",
     "output_type": "stream",
     "text": [
      "  1%|          | 1/100 [07:39<6:17:05, 228.54s/it]"
     ]
    },
    {
     "name": "stdout",
     "output_type": "stream",
     "text": [
      "Model saved to ./experiments/mocov3_2025-05-14_06-17-49/weights.pth\n"
     ]
    },
    {
     "name": "stderr",
     "output_type": "stream",
     "text": [
      "  2%|▏         | 2/100 [07:39<6:15:50, 230.11s/it]"
     ]
    },
    {
     "name": "stdout",
     "output_type": "stream",
     "text": [
      "Latest checkpoint saved to ./experiments/mocov3_2025-05-14_06-17-49/last_checkpoint.pt at epoch 1\n"
     ]
    },
    {
     "name": "stderr",
     "output_type": "stream",
     "text": [
      "  2%|▏         | 2/100 [09:53<6:15:50, 230.11s/it]"
     ]
    },
    {
     "name": "stdout",
     "output_type": "stream",
     "text": [
      "Epoch 2: loss = 3.5699\n"
     ]
    },
    {
     "name": "stderr",
     "output_type": "stream",
     "text": [
      "  2%|▏         | 2/100 [11:30<6:15:50, 230.11s/it]"
     ]
    },
    {
     "name": "stdout",
     "output_type": "stream",
     "text": [
      "Epoch [2/100] Acc@1: 10.27%, Acc@5: 48.09%\n"
     ]
    },
    {
     "name": "stderr",
     "output_type": "stream",
     "text": [
      "  2%|▏         | 2/100 [11:30<6:15:50, 230.11s/it]"
     ]
    },
    {
     "name": "stdout",
     "output_type": "stream",
     "text": [
      "Model saved to ./experiments/mocov3_2025-05-14_06-17-49/weights.pth\n"
     ]
    },
    {
     "name": "stderr",
     "output_type": "stream",
     "text": [
      "  3%|▎         | 3/100 [11:30<6:12:46, 230.58s/it]"
     ]
    },
    {
     "name": "stdout",
     "output_type": "stream",
     "text": [
      "Latest checkpoint saved to ./experiments/mocov3_2025-05-14_06-17-49/last_checkpoint.pt at epoch 2\n"
     ]
    },
    {
     "name": "stderr",
     "output_type": "stream",
     "text": [
      "  3%|▎         | 3/100 [13:44<6:12:46, 230.58s/it]"
     ]
    },
    {
     "name": "stdout",
     "output_type": "stream",
     "text": [
      "Epoch 3: loss = 3.4443\n"
     ]
    },
    {
     "name": "stderr",
     "output_type": "stream",
     "text": [
      "  3%|▎         | 3/100 [15:21<6:12:46, 230.58s/it]"
     ]
    },
    {
     "name": "stdout",
     "output_type": "stream",
     "text": [
      "Epoch [3/100] Acc@1: 10.84%, Acc@5: 48.67%\n"
     ]
    },
    {
     "name": "stderr",
     "output_type": "stream",
     "text": [
      "  3%|▎         | 3/100 [15:21<6:12:46, 230.58s/it]"
     ]
    },
    {
     "name": "stdout",
     "output_type": "stream",
     "text": [
      "Model saved to ./experiments/mocov3_2025-05-14_06-17-49/weights.pth\n"
     ]
    },
    {
     "name": "stderr",
     "output_type": "stream",
     "text": [
      "  4%|▍         | 4/100 [15:22<6:09:23, 230.87s/it]"
     ]
    },
    {
     "name": "stdout",
     "output_type": "stream",
     "text": [
      "Latest checkpoint saved to ./experiments/mocov3_2025-05-14_06-17-49/last_checkpoint.pt at epoch 3\n"
     ]
    },
    {
     "name": "stderr",
     "output_type": "stream",
     "text": [
      "  4%|▍         | 4/100 [17:35<6:09:23, 230.87s/it]"
     ]
    },
    {
     "name": "stdout",
     "output_type": "stream",
     "text": [
      "Epoch 4: loss = 3.3504\n"
     ]
    },
    {
     "name": "stderr",
     "output_type": "stream",
     "text": [
      "  4%|▍         | 4/100 [19:12<6:09:23, 230.87s/it]"
     ]
    },
    {
     "name": "stdout",
     "output_type": "stream",
     "text": [
      "Epoch [4/100] Acc@1: 11.96%, Acc@5: 51.11%\n"
     ]
    },
    {
     "name": "stderr",
     "output_type": "stream",
     "text": [
      "  4%|▍         | 4/100 [19:12<6:09:23, 230.87s/it]"
     ]
    },
    {
     "name": "stdout",
     "output_type": "stream",
     "text": [
      "Model saved to ./experiments/mocov3_2025-05-14_06-17-49/weights.pth\n"
     ]
    },
    {
     "name": "stderr",
     "output_type": "stream",
     "text": [
      "  5%|▌         | 5/100 [19:13<6:05:43, 230.99s/it]"
     ]
    },
    {
     "name": "stdout",
     "output_type": "stream",
     "text": [
      "Latest checkpoint saved to ./experiments/mocov3_2025-05-14_06-17-49/last_checkpoint.pt at epoch 4\n"
     ]
    },
    {
     "name": "stderr",
     "output_type": "stream",
     "text": [
      "  5%|▌         | 5/100 [21:26<6:05:43, 230.99s/it]"
     ]
    },
    {
     "name": "stdout",
     "output_type": "stream",
     "text": [
      "Epoch 5: loss = 3.2742\n"
     ]
    },
    {
     "name": "stderr",
     "output_type": "stream",
     "text": [
      "  5%|▌         | 5/100 [23:03<6:05:43, 230.99s/it]"
     ]
    },
    {
     "name": "stdout",
     "output_type": "stream",
     "text": [
      "Epoch [5/100] Acc@1: 11.33%, Acc@5: 49.91%\n"
     ]
    },
    {
     "name": "stderr",
     "output_type": "stream",
     "text": [
      "  5%|▌         | 5/100 [23:04<6:05:43, 230.99s/it]"
     ]
    },
    {
     "name": "stdout",
     "output_type": "stream",
     "text": [
      "Model saved to ./experiments/mocov3_2025-05-14_06-17-49/weights.pth\n"
     ]
    },
    {
     "name": "stderr",
     "output_type": "stream",
     "text": [
      "  6%|▌         | 6/100 [23:04<6:02:01, 231.08s/it]"
     ]
    },
    {
     "name": "stdout",
     "output_type": "stream",
     "text": [
      "Latest checkpoint saved to ./experiments/mocov3_2025-05-14_06-17-49/last_checkpoint.pt at epoch 5\n"
     ]
    },
    {
     "name": "stderr",
     "output_type": "stream",
     "text": [
      "  6%|▌         | 6/100 [25:18<6:02:01, 231.08s/it]"
     ]
    },
    {
     "name": "stdout",
     "output_type": "stream",
     "text": [
      "Epoch 6: loss = 3.2152\n"
     ]
    },
    {
     "name": "stderr",
     "output_type": "stream",
     "text": [
      "  6%|▌         | 6/100 [26:54<6:02:01, 231.08s/it]"
     ]
    },
    {
     "name": "stdout",
     "output_type": "stream",
     "text": [
      "Epoch [6/100] Acc@1: 11.38%, Acc@5: 50.98%\n"
     ]
    },
    {
     "name": "stderr",
     "output_type": "stream",
     "text": [
      "  6%|▌         | 6/100 [26:55<6:02:01, 231.08s/it]"
     ]
    },
    {
     "name": "stdout",
     "output_type": "stream",
     "text": [
      "Model saved to ./experiments/mocov3_2025-05-14_06-17-49/weights.pth\n"
     ]
    },
    {
     "name": "stderr",
     "output_type": "stream",
     "text": [
      "  7%|▋         | 7/100 [26:55<5:58:06, 231.04s/it]"
     ]
    },
    {
     "name": "stdout",
     "output_type": "stream",
     "text": [
      "Latest checkpoint saved to ./experiments/mocov3_2025-05-14_06-17-49/last_checkpoint.pt at epoch 6\n"
     ]
    },
    {
     "name": "stderr",
     "output_type": "stream",
     "text": [
      "  7%|▋         | 7/100 [29:09<5:58:06, 231.04s/it]"
     ]
    },
    {
     "name": "stdout",
     "output_type": "stream",
     "text": [
      "Epoch 7: loss = 3.1634\n"
     ]
    },
    {
     "name": "stderr",
     "output_type": "stream",
     "text": [
      "  7%|▋         | 7/100 [30:45<5:58:06, 231.04s/it]"
     ]
    },
    {
     "name": "stdout",
     "output_type": "stream",
     "text": [
      "Epoch [7/100] Acc@1: 12.00%, Acc@5: 51.02%\n"
     ]
    },
    {
     "name": "stderr",
     "output_type": "stream",
     "text": [
      "  7%|▋         | 7/100 [30:46<5:58:06, 231.04s/it]"
     ]
    },
    {
     "name": "stdout",
     "output_type": "stream",
     "text": [
      "Model saved to ./experiments/mocov3_2025-05-14_06-17-49/weights.pth\n"
     ]
    },
    {
     "name": "stderr",
     "output_type": "stream",
     "text": [
      "  8%|▊         | 8/100 [30:47<5:54:32, 231.23s/it]"
     ]
    },
    {
     "name": "stdout",
     "output_type": "stream",
     "text": [
      "Latest checkpoint saved to ./experiments/mocov3_2025-05-14_06-17-49/last_checkpoint.pt at epoch 7\n"
     ]
    },
    {
     "name": "stderr",
     "output_type": "stream",
     "text": [
      "  8%|▊         | 8/100 [33:00<5:54:32, 231.23s/it]"
     ]
    },
    {
     "name": "stdout",
     "output_type": "stream",
     "text": [
      "Epoch 8: loss = 3.1201\n"
     ]
    },
    {
     "name": "stderr",
     "output_type": "stream",
     "text": [
      "  8%|▊         | 8/100 [35:47<5:54:32, 231.23s/it]"
     ]
    },
    {
     "name": "stdout",
     "output_type": "stream",
     "text": [
      "Epoch [8/100] Acc@1: 13.24%, Acc@5: 53.02%\n"
     ]
    },
    {
     "name": "stderr",
     "output_type": "stream",
     "text": [
      "  8%|▊         | 8/100 [35:47<5:54:32, 231.23s/it]"
     ]
    },
    {
     "name": "stdout",
     "output_type": "stream",
     "text": [
      "Model saved to ./experiments/mocov3_2025-05-14_06-17-49/weights.pth\n"
     ]
    },
    {
     "name": "stderr",
     "output_type": "stream",
     "text": [
      "  9%|▉         | 9/100 [35:49<6:24:09, 253.29s/it]"
     ]
    },
    {
     "name": "stdout",
     "output_type": "stream",
     "text": [
      "Latest checkpoint saved to ./experiments/mocov3_2025-05-14_06-17-49/last_checkpoint.pt at epoch 8\n"
     ]
    },
    {
     "name": "stderr",
     "output_type": "stream",
     "text": [
      "  9%|▉         | 9/100 [38:02<6:24:09, 253.29s/it]"
     ]
    },
    {
     "name": "stdout",
     "output_type": "stream",
     "text": [
      "Epoch 9: loss = 3.0835\n"
     ]
    },
    {
     "name": "stderr",
     "output_type": "stream",
     "text": [
      "  9%|▉         | 9/100 [40:55<6:24:09, 253.29s/it]"
     ]
    },
    {
     "name": "stdout",
     "output_type": "stream",
     "text": [
      "Epoch [9/100] Acc@1: 13.73%, Acc@5: 53.07%\n"
     ]
    },
    {
     "name": "stderr",
     "output_type": "stream",
     "text": [
      "  9%|▉         | 9/100 [40:55<6:24:09, 253.29s/it]"
     ]
    },
    {
     "name": "stdout",
     "output_type": "stream",
     "text": [
      "Model saved to ./experiments/mocov3_2025-05-14_06-17-49/weights.pth\n"
     ]
    },
    {
     "name": "stderr",
     "output_type": "stream",
     "text": [
      " 10%|█         | 10/100 [40:56<6:45:07, 270.08s/it]"
     ]
    },
    {
     "name": "stdout",
     "output_type": "stream",
     "text": [
      "Latest checkpoint saved to ./experiments/mocov3_2025-05-14_06-17-49/last_checkpoint.pt at epoch 9\n"
     ]
    },
    {
     "name": "stderr",
     "output_type": "stream",
     "text": [
      " 10%|█         | 10/100 [43:10<6:45:07, 270.08s/it]"
     ]
    },
    {
     "name": "stdout",
     "output_type": "stream",
     "text": [
      "Epoch 10: loss = 3.0489\n"
     ]
    },
    {
     "name": "stderr",
     "output_type": "stream",
     "text": [
      " 10%|█         | 10/100 [46:04<6:45:07, 270.08s/it]"
     ]
    },
    {
     "name": "stdout",
     "output_type": "stream",
     "text": [
      "Epoch [10/100] Acc@1: 12.71%, Acc@5: 52.36%\n"
     ]
    },
    {
     "name": "stderr",
     "output_type": "stream",
     "text": [
      " 10%|█         | 10/100 [46:04<6:45:07, 270.08s/it]"
     ]
    },
    {
     "name": "stdout",
     "output_type": "stream",
     "text": [
      "Model saved to ./experiments/mocov3_2025-05-14_06-17-49/weights.pth\n"
     ]
    },
    {
     "name": "stderr",
     "output_type": "stream",
     "text": [
      " 11%|█         | 11/100 [46:05<6:58:24, 282.07s/it]"
     ]
    },
    {
     "name": "stdout",
     "output_type": "stream",
     "text": [
      "Latest checkpoint saved to ./experiments/mocov3_2025-05-14_06-17-49/last_checkpoint.pt at epoch 10\n"
     ]
    },
    {
     "name": "stderr",
     "output_type": "stream",
     "text": [
      " 11%|█         | 11/100 [48:19<6:58:24, 282.07s/it]"
     ]
    },
    {
     "name": "stdout",
     "output_type": "stream",
     "text": [
      "Epoch 11: loss = 3.0185\n"
     ]
    },
    {
     "name": "stderr",
     "output_type": "stream",
     "text": [
      " 11%|█         | 11/100 [51:24<6:58:24, 282.07s/it]"
     ]
    },
    {
     "name": "stdout",
     "output_type": "stream",
     "text": [
      "Epoch [11/100] Acc@1: 14.31%, Acc@5: 54.22%\n"
     ]
    },
    {
     "name": "stderr",
     "output_type": "stream",
     "text": [
      " 11%|█         | 11/100 [51:25<6:58:24, 282.07s/it]"
     ]
    },
    {
     "name": "stdout",
     "output_type": "stream",
     "text": [
      "Model saved to ./experiments/mocov3_2025-05-14_06-17-49/weights.pth\n"
     ]
    },
    {
     "name": "stderr",
     "output_type": "stream",
     "text": [
      " 12%|█▏        | 12/100 [51:26<7:10:42, 293.67s/it]"
     ]
    },
    {
     "name": "stdout",
     "output_type": "stream",
     "text": [
      "Latest checkpoint saved to ./experiments/mocov3_2025-05-14_06-17-49/last_checkpoint.pt at epoch 11\n"
     ]
    },
    {
     "name": "stderr",
     "output_type": "stream",
     "text": [
      " 12%|█▏        | 12/100 [53:40<7:10:42, 293.67s/it]"
     ]
    },
    {
     "name": "stdout",
     "output_type": "stream",
     "text": [
      "Epoch 12: loss = 2.9936\n"
     ]
    },
    {
     "name": "stderr",
     "output_type": "stream",
     "text": [
      " 12%|█▏        | 12/100 [56:50<7:10:42, 293.67s/it]"
     ]
    },
    {
     "name": "stdout",
     "output_type": "stream",
     "text": [
      "Epoch [12/100] Acc@1: 14.00%, Acc@5: 54.13%\n"
     ]
    },
    {
     "name": "stderr",
     "output_type": "stream",
     "text": [
      " 12%|█▏        | 12/100 [56:51<7:10:42, 293.67s/it]"
     ]
    },
    {
     "name": "stdout",
     "output_type": "stream",
     "text": [
      "Model saved to ./experiments/mocov3_2025-05-14_06-17-49/weights.pth\n"
     ]
    },
    {
     "name": "stderr",
     "output_type": "stream",
     "text": [
      " 13%|█▎        | 13/100 [56:52<7:20:04, 303.50s/it]"
     ]
    },
    {
     "name": "stdout",
     "output_type": "stream",
     "text": [
      "Latest checkpoint saved to ./experiments/mocov3_2025-05-14_06-17-49/last_checkpoint.pt at epoch 12\n"
     ]
    },
    {
     "name": "stderr",
     "output_type": "stream",
     "text": [
      " 13%|█▎        | 13/100 [59:06<7:20:04, 303.50s/it]"
     ]
    },
    {
     "name": "stdout",
     "output_type": "stream",
     "text": [
      "Epoch 13: loss = 2.9708\n"
     ]
    },
    {
     "name": "stderr",
     "output_type": "stream",
     "text": [
      " 13%|█▎        | 13/100 [1:01:55<7:20:04, 303.50s/it]"
     ]
    },
    {
     "name": "stdout",
     "output_type": "stream",
     "text": [
      "Epoch [13/100] Acc@1: 13.96%, Acc@5: 53.64%\n"
     ]
    },
    {
     "name": "stderr",
     "output_type": "stream",
     "text": [
      " 13%|█▎        | 13/100 [1:01:55<7:20:04, 303.50s/it]"
     ]
    },
    {
     "name": "stdout",
     "output_type": "stream",
     "text": [
      "Model saved to ./experiments/mocov3_2025-05-14_06-17-49/weights.pth\n"
     ]
    },
    {
     "name": "stderr",
     "output_type": "stream",
     "text": [
      " 14%|█▍        | 14/100 [1:01:56<7:15:28, 303.82s/it]"
     ]
    },
    {
     "name": "stdout",
     "output_type": "stream",
     "text": [
      "Latest checkpoint saved to ./experiments/mocov3_2025-05-14_06-17-49/last_checkpoint.pt at epoch 13\n"
     ]
    },
    {
     "name": "stderr",
     "output_type": "stream",
     "text": [
      " 14%|█▍        | 14/100 [1:04:10<7:15:28, 303.82s/it]"
     ]
    },
    {
     "name": "stdout",
     "output_type": "stream",
     "text": [
      "Epoch 14: loss = 2.9492\n"
     ]
    },
    {
     "name": "stderr",
     "output_type": "stream",
     "text": [
      " 14%|█▍        | 14/100 [1:07:13<7:15:28, 303.82s/it]"
     ]
    },
    {
     "name": "stdout",
     "output_type": "stream",
     "text": [
      "Epoch [14/100] Acc@1: 14.04%, Acc@5: 53.69%\n"
     ]
    },
    {
     "name": "stderr",
     "output_type": "stream",
     "text": [
      " 14%|█▍        | 14/100 [1:07:14<7:15:28, 303.82s/it]"
     ]
    },
    {
     "name": "stdout",
     "output_type": "stream",
     "text": [
      "Model saved to ./experiments/mocov3_2025-05-14_06-17-49/weights.pth\n"
     ]
    },
    {
     "name": "stderr",
     "output_type": "stream",
     "text": [
      " 15%|█▌        | 15/100 [1:07:14<7:16:31, 308.13s/it]"
     ]
    },
    {
     "name": "stdout",
     "output_type": "stream",
     "text": [
      "Latest checkpoint saved to ./experiments/mocov3_2025-05-14_06-17-49/last_checkpoint.pt at epoch 14\n"
     ]
    },
    {
     "name": "stderr",
     "output_type": "stream",
     "text": [
      " 15%|█▌        | 15/100 [1:09:28<7:16:31, 308.13s/it]"
     ]
    },
    {
     "name": "stdout",
     "output_type": "stream",
     "text": [
      "Epoch 15: loss = 2.9295\n"
     ]
    },
    {
     "name": "stderr",
     "output_type": "stream",
     "text": [
      " 15%|█▌        | 15/100 [1:12:25<7:16:31, 308.13s/it]"
     ]
    },
    {
     "name": "stdout",
     "output_type": "stream",
     "text": [
      "Epoch [15/100] Acc@1: 14.62%, Acc@5: 54.36%\n"
     ]
    },
    {
     "name": "stderr",
     "output_type": "stream",
     "text": [
      " 15%|█▌        | 15/100 [1:12:26<7:16:31, 308.13s/it]"
     ]
    },
    {
     "name": "stdout",
     "output_type": "stream",
     "text": [
      "Model saved to ./experiments/mocov3_2025-05-14_06-17-49/weights.pth\n"
     ]
    },
    {
     "name": "stderr",
     "output_type": "stream",
     "text": [
      " 16%|█▌        | 16/100 [1:12:27<7:13:05, 309.35s/it]"
     ]
    },
    {
     "name": "stdout",
     "output_type": "stream",
     "text": [
      "Latest checkpoint saved to ./experiments/mocov3_2025-05-14_06-17-49/last_checkpoint.pt at epoch 15\n"
     ]
    },
    {
     "name": "stderr",
     "output_type": "stream",
     "text": [
      " 16%|█▌        | 16/100 [1:14:40<7:13:05, 309.35s/it]"
     ]
    },
    {
     "name": "stdout",
     "output_type": "stream",
     "text": [
      "Epoch 16: loss = 2.9143\n"
     ]
    },
    {
     "name": "stderr",
     "output_type": "stream",
     "text": [
      " 16%|█▌        | 16/100 [1:17:40<7:13:05, 309.35s/it]"
     ]
    },
    {
     "name": "stdout",
     "output_type": "stream",
     "text": [
      "Epoch [16/100] Acc@1: 14.49%, Acc@5: 54.80%\n"
     ]
    },
    {
     "name": "stderr",
     "output_type": "stream",
     "text": [
      " 16%|█▌        | 16/100 [1:17:41<7:13:05, 309.35s/it]"
     ]
    },
    {
     "name": "stdout",
     "output_type": "stream",
     "text": [
      "Model saved to ./experiments/mocov3_2025-05-14_06-17-49/weights.pth\n"
     ]
    },
    {
     "name": "stderr",
     "output_type": "stream",
     "text": [
      " 17%|█▋        | 17/100 [1:17:41<7:10:12, 310.99s/it]"
     ]
    },
    {
     "name": "stdout",
     "output_type": "stream",
     "text": [
      "Latest checkpoint saved to ./experiments/mocov3_2025-05-14_06-17-49/last_checkpoint.pt at epoch 16\n"
     ]
    },
    {
     "name": "stderr",
     "output_type": "stream",
     "text": [
      " 17%|█▋        | 17/100 [1:19:55<7:10:12, 310.99s/it]"
     ]
    },
    {
     "name": "stdout",
     "output_type": "stream",
     "text": [
      "Epoch 17: loss = 2.8966\n"
     ]
    },
    {
     "name": "stderr",
     "output_type": "stream",
     "text": [
      " 17%|█▋        | 17/100 [1:23:03<7:10:12, 310.99s/it]"
     ]
    },
    {
     "name": "stdout",
     "output_type": "stream",
     "text": [
      "Epoch [17/100] Acc@1: 14.71%, Acc@5: 55.73%\n"
     ]
    },
    {
     "name": "stderr",
     "output_type": "stream",
     "text": [
      " 17%|█▋        | 17/100 [1:23:03<7:10:12, 310.99s/it]"
     ]
    },
    {
     "name": "stdout",
     "output_type": "stream",
     "text": [
      "Model saved to ./experiments/mocov3_2025-05-14_06-17-49/weights.pth\n"
     ]
    },
    {
     "name": "stderr",
     "output_type": "stream",
     "text": [
      " 18%|█▊        | 18/100 [1:23:04<7:09:56, 314.60s/it]"
     ]
    },
    {
     "name": "stdout",
     "output_type": "stream",
     "text": [
      "Latest checkpoint saved to ./experiments/mocov3_2025-05-14_06-17-49/last_checkpoint.pt at epoch 17\n"
     ]
    },
    {
     "name": "stderr",
     "output_type": "stream",
     "text": [
      " 18%|█▊        | 18/100 [1:25:18<7:09:56, 314.60s/it]"
     ]
    },
    {
     "name": "stdout",
     "output_type": "stream",
     "text": [
      "Epoch 18: loss = 2.8823\n"
     ]
    },
    {
     "name": "stderr",
     "output_type": "stream",
     "text": [
      " 18%|█▊        | 18/100 [1:28:14<7:09:56, 314.60s/it]"
     ]
    },
    {
     "name": "stdout",
     "output_type": "stream",
     "text": [
      "Epoch [18/100] Acc@1: 15.60%, Acc@5: 54.80%\n"
     ]
    },
    {
     "name": "stderr",
     "output_type": "stream",
     "text": [
      " 18%|█▊        | 18/100 [1:28:15<7:09:56, 314.60s/it]"
     ]
    },
    {
     "name": "stdout",
     "output_type": "stream",
     "text": [
      "Model saved to ./experiments/mocov3_2025-05-14_06-17-49/weights.pth\n"
     ]
    },
    {
     "name": "stderr",
     "output_type": "stream",
     "text": [
      " 19%|█▉        | 19/100 [1:28:16<7:03:26, 313.66s/it]"
     ]
    },
    {
     "name": "stdout",
     "output_type": "stream",
     "text": [
      "Latest checkpoint saved to ./experiments/mocov3_2025-05-14_06-17-49/last_checkpoint.pt at epoch 18\n"
     ]
    },
    {
     "name": "stderr",
     "output_type": "stream",
     "text": [
      " 19%|█▉        | 19/100 [1:30:30<7:03:26, 313.66s/it]"
     ]
    },
    {
     "name": "stdout",
     "output_type": "stream",
     "text": [
      "Epoch 19: loss = 2.8700\n"
     ]
    },
    {
     "name": "stderr",
     "output_type": "stream",
     "text": [
      " 19%|█▉        | 19/100 [1:33:37<7:03:26, 313.66s/it]"
     ]
    },
    {
     "name": "stdout",
     "output_type": "stream",
     "text": [
      "Epoch [19/100] Acc@1: 15.78%, Acc@5: 54.84%\n"
     ]
    },
    {
     "name": "stderr",
     "output_type": "stream",
     "text": [
      " 19%|█▉        | 19/100 [1:33:38<7:03:26, 313.66s/it]"
     ]
    },
    {
     "name": "stdout",
     "output_type": "stream",
     "text": [
      "Model saved to ./experiments/mocov3_2025-05-14_06-17-49/weights.pth\n"
     ]
    },
    {
     "name": "stderr",
     "output_type": "stream",
     "text": [
      " 20%|██        | 20/100 [1:33:39<7:01:54, 316.43s/it]"
     ]
    },
    {
     "name": "stdout",
     "output_type": "stream",
     "text": [
      "Latest checkpoint saved to ./experiments/mocov3_2025-05-14_06-17-49/last_checkpoint.pt at epoch 19\n"
     ]
    },
    {
     "name": "stderr",
     "output_type": "stream",
     "text": [
      " 20%|██        | 20/100 [1:35:53<7:01:54, 316.43s/it]"
     ]
    },
    {
     "name": "stdout",
     "output_type": "stream",
     "text": [
      "Epoch 20: loss = 2.8557\n"
     ]
    },
    {
     "name": "stderr",
     "output_type": "stream",
     "text": [
      " 20%|██        | 20/100 [1:39:04<7:01:54, 316.43s/it]"
     ]
    },
    {
     "name": "stdout",
     "output_type": "stream",
     "text": [
      "Epoch [20/100] Acc@1: 15.91%, Acc@5: 55.60%\n"
     ]
    },
    {
     "name": "stderr",
     "output_type": "stream",
     "text": [
      " 20%|██        | 20/100 [1:39:04<7:01:54, 316.43s/it]"
     ]
    },
    {
     "name": "stdout",
     "output_type": "stream",
     "text": [
      "Model saved to ./experiments/mocov3_2025-05-14_06-17-49/weights.pth\n"
     ]
    },
    {
     "name": "stderr",
     "output_type": "stream",
     "text": [
      " 21%|██        | 21/100 [1:39:05<7:00:20, 319.24s/it]"
     ]
    },
    {
     "name": "stdout",
     "output_type": "stream",
     "text": [
      "Latest checkpoint saved to ./experiments/mocov3_2025-05-14_06-17-49/last_checkpoint.pt at epoch 20\n"
     ]
    },
    {
     "name": "stderr",
     "output_type": "stream",
     "text": [
      " 21%|██        | 21/100 [1:41:18<7:00:20, 319.24s/it]"
     ]
    },
    {
     "name": "stdout",
     "output_type": "stream",
     "text": [
      "Epoch 21: loss = 2.8446\n"
     ]
    },
    {
     "name": "stderr",
     "output_type": "stream",
     "text": [
      " 21%|██        | 21/100 [1:44:54<7:00:20, 319.24s/it]"
     ]
    },
    {
     "name": "stdout",
     "output_type": "stream",
     "text": [
      "Epoch [21/100] Acc@1: 14.49%, Acc@5: 56.13%\n"
     ]
    },
    {
     "name": "stderr",
     "output_type": "stream",
     "text": [
      " 21%|██        | 21/100 [1:44:55<7:00:20, 319.24s/it]"
     ]
    },
    {
     "name": "stdout",
     "output_type": "stream",
     "text": [
      "Model saved to ./experiments/mocov3_2025-05-14_06-17-49/weights.pth\n"
     ]
    },
    {
     "name": "stderr",
     "output_type": "stream",
     "text": [
      " 22%|██▏       | 22/100 [1:44:56<7:07:25, 328.79s/it]"
     ]
    },
    {
     "name": "stdout",
     "output_type": "stream",
     "text": [
      "Latest checkpoint saved to ./experiments/mocov3_2025-05-14_06-17-49/last_checkpoint.pt at epoch 21\n"
     ]
    },
    {
     "name": "stderr",
     "output_type": "stream",
     "text": [
      " 22%|██▏       | 22/100 [1:47:10<7:07:25, 328.79s/it]"
     ]
    },
    {
     "name": "stdout",
     "output_type": "stream",
     "text": [
      "Epoch 22: loss = 2.8328\n"
     ]
    },
    {
     "name": "stderr",
     "output_type": "stream",
     "text": [
      " 22%|██▏       | 22/100 [1:50:22<7:07:25, 328.79s/it]"
     ]
    },
    {
     "name": "stdout",
     "output_type": "stream",
     "text": [
      "Epoch [22/100] Acc@1: 16.13%, Acc@5: 55.69%\n"
     ]
    },
    {
     "name": "stderr",
     "output_type": "stream",
     "text": [
      " 22%|██▏       | 22/100 [1:50:23<7:07:25, 328.79s/it]"
     ]
    },
    {
     "name": "stdout",
     "output_type": "stream",
     "text": [
      "Model saved to ./experiments/mocov3_2025-05-14_06-17-49/weights.pth\n"
     ]
    },
    {
     "name": "stderr",
     "output_type": "stream",
     "text": [
      " 23%|██▎       | 23/100 [1:50:23<7:01:30, 328.45s/it]"
     ]
    },
    {
     "name": "stdout",
     "output_type": "stream",
     "text": [
      "Latest checkpoint saved to ./experiments/mocov3_2025-05-14_06-17-49/last_checkpoint.pt at epoch 22\n"
     ]
    },
    {
     "name": "stderr",
     "output_type": "stream",
     "text": [
      " 23%|██▎       | 23/100 [1:52:37<7:01:30, 328.45s/it]"
     ]
    },
    {
     "name": "stdout",
     "output_type": "stream",
     "text": [
      "Epoch 23: loss = 2.8213\n"
     ]
    },
    {
     "name": "stderr",
     "output_type": "stream",
     "text": [
      " 23%|██▎       | 23/100 [1:55:41<7:01:30, 328.45s/it]"
     ]
    },
    {
     "name": "stdout",
     "output_type": "stream",
     "text": [
      "Epoch [23/100] Acc@1: 16.00%, Acc@5: 56.36%\n"
     ]
    },
    {
     "name": "stderr",
     "output_type": "stream",
     "text": [
      " 23%|██▎       | 23/100 [1:55:42<7:01:30, 328.45s/it]"
     ]
    },
    {
     "name": "stdout",
     "output_type": "stream",
     "text": [
      "Model saved to ./experiments/mocov3_2025-05-14_06-17-49/weights.pth\n"
     ]
    },
    {
     "name": "stderr",
     "output_type": "stream",
     "text": [
      " 24%|██▍       | 24/100 [1:55:43<6:52:38, 325.77s/it]"
     ]
    },
    {
     "name": "stdout",
     "output_type": "stream",
     "text": [
      "Latest checkpoint saved to ./experiments/mocov3_2025-05-14_06-17-49/last_checkpoint.pt at epoch 23\n"
     ]
    },
    {
     "name": "stderr",
     "output_type": "stream",
     "text": [
      " 24%|██▍       | 24/100 [1:57:57<6:52:38, 325.77s/it]"
     ]
    },
    {
     "name": "stdout",
     "output_type": "stream",
     "text": [
      "Epoch 24: loss = 2.8124\n"
     ]
    },
    {
     "name": "stderr",
     "output_type": "stream",
     "text": [
      " 24%|██▍       | 24/100 [2:01:06<6:52:38, 325.77s/it]"
     ]
    },
    {
     "name": "stdout",
     "output_type": "stream",
     "text": [
      "Epoch [24/100] Acc@1: 16.36%, Acc@5: 56.36%\n"
     ]
    },
    {
     "name": "stderr",
     "output_type": "stream",
     "text": [
      " 24%|██▍       | 24/100 [2:01:07<6:52:38, 325.77s/it]"
     ]
    },
    {
     "name": "stdout",
     "output_type": "stream",
     "text": [
      "Model saved to ./experiments/mocov3_2025-05-14_06-17-49/weights.pth\n"
     ]
    },
    {
     "name": "stderr",
     "output_type": "stream",
     "text": [
      " 25%|██▌       | 25/100 [2:01:08<6:46:55, 325.54s/it]"
     ]
    },
    {
     "name": "stdout",
     "output_type": "stream",
     "text": [
      "Latest checkpoint saved to ./experiments/mocov3_2025-05-14_06-17-49/last_checkpoint.pt at epoch 24\n"
     ]
    },
    {
     "name": "stderr",
     "output_type": "stream",
     "text": [
      " 25%|██▌       | 25/100 [2:03:22<6:46:55, 325.54s/it]"
     ]
    },
    {
     "name": "stdout",
     "output_type": "stream",
     "text": [
      "Epoch 25: loss = 2.8021\n"
     ]
    },
    {
     "name": "stderr",
     "output_type": "stream",
     "text": [
      " 25%|██▌       | 25/100 [2:06:21<6:46:55, 325.54s/it]"
     ]
    },
    {
     "name": "stdout",
     "output_type": "stream",
     "text": [
      "Epoch [25/100] Acc@1: 14.89%, Acc@5: 55.64%\n"
     ]
    },
    {
     "name": "stderr",
     "output_type": "stream",
     "text": [
      " 25%|██▌       | 25/100 [2:06:21<6:46:55, 325.54s/it]"
     ]
    },
    {
     "name": "stdout",
     "output_type": "stream",
     "text": [
      "Model saved to ./experiments/mocov3_2025-05-14_06-17-49/weights.pth\n"
     ]
    },
    {
     "name": "stderr",
     "output_type": "stream",
     "text": [
      " 26%|██▌       | 26/100 [2:06:22<6:37:23, 322.21s/it]"
     ]
    },
    {
     "name": "stdout",
     "output_type": "stream",
     "text": [
      "Latest checkpoint saved to ./experiments/mocov3_2025-05-14_06-17-49/last_checkpoint.pt at epoch 25\n"
     ]
    },
    {
     "name": "stderr",
     "output_type": "stream",
     "text": [
      " 26%|██▌       | 26/100 [2:08:37<6:37:23, 322.21s/it]"
     ]
    },
    {
     "name": "stdout",
     "output_type": "stream",
     "text": [
      "Epoch 26: loss = 2.7924\n"
     ]
    },
    {
     "name": "stderr",
     "output_type": "stream",
     "text": [
      " 26%|██▌       | 26/100 [2:11:36<6:37:23, 322.21s/it]"
     ]
    },
    {
     "name": "stdout",
     "output_type": "stream",
     "text": [
      "Epoch [26/100] Acc@1: 16.27%, Acc@5: 56.58%\n"
     ]
    },
    {
     "name": "stderr",
     "output_type": "stream",
     "text": [
      " 26%|██▌       | 26/100 [2:11:37<6:37:23, 322.21s/it]"
     ]
    },
    {
     "name": "stdout",
     "output_type": "stream",
     "text": [
      "Model saved to ./experiments/mocov3_2025-05-14_06-17-49/weights.pth\n"
     ]
    },
    {
     "name": "stderr",
     "output_type": "stream",
     "text": [
      " 27%|██▋       | 27/100 [2:11:38<6:29:43, 320.32s/it]"
     ]
    },
    {
     "name": "stdout",
     "output_type": "stream",
     "text": [
      "Latest checkpoint saved to ./experiments/mocov3_2025-05-14_06-17-49/last_checkpoint.pt at epoch 26\n"
     ]
    },
    {
     "name": "stderr",
     "output_type": "stream",
     "text": [
      " 27%|██▋       | 27/100 [2:13:52<6:29:43, 320.32s/it]"
     ]
    },
    {
     "name": "stdout",
     "output_type": "stream",
     "text": [
      "Epoch 27: loss = 2.7841\n"
     ]
    },
    {
     "name": "stderr",
     "output_type": "stream",
     "text": [
      " 27%|██▋       | 27/100 [2:17:04<6:29:43, 320.32s/it]"
     ]
    },
    {
     "name": "stdout",
     "output_type": "stream",
     "text": [
      "Epoch [27/100] Acc@1: 16.67%, Acc@5: 55.78%\n"
     ]
    },
    {
     "name": "stderr",
     "output_type": "stream",
     "text": [
      " 27%|██▋       | 27/100 [2:17:05<6:29:43, 320.32s/it]"
     ]
    },
    {
     "name": "stdout",
     "output_type": "stream",
     "text": [
      "Model saved to ./experiments/mocov3_2025-05-14_06-17-49/weights.pth\n"
     ]
    },
    {
     "name": "stderr",
     "output_type": "stream",
     "text": [
      " 28%|██▊       | 28/100 [2:17:06<6:27:00, 322.51s/it]"
     ]
    },
    {
     "name": "stdout",
     "output_type": "stream",
     "text": [
      "Latest checkpoint saved to ./experiments/mocov3_2025-05-14_06-17-49/last_checkpoint.pt at epoch 27\n"
     ]
    },
    {
     "name": "stderr",
     "output_type": "stream",
     "text": [
      " 28%|██▊       | 28/100 [2:19:20<6:27:00, 322.51s/it]"
     ]
    },
    {
     "name": "stdout",
     "output_type": "stream",
     "text": [
      "Epoch 28: loss = 2.7777\n"
     ]
    },
    {
     "name": "stderr",
     "output_type": "stream",
     "text": [
      " 28%|██▊       | 28/100 [2:22:44<6:27:00, 322.51s/it]"
     ]
    },
    {
     "name": "stdout",
     "output_type": "stream",
     "text": [
      "Epoch [28/100] Acc@1: 16.89%, Acc@5: 56.58%\n"
     ]
    },
    {
     "name": "stderr",
     "output_type": "stream",
     "text": [
      " 28%|██▊       | 28/100 [2:22:45<6:27:00, 322.51s/it]"
     ]
    },
    {
     "name": "stdout",
     "output_type": "stream",
     "text": [
      "Model saved to ./experiments/mocov3_2025-05-14_06-17-49/weights.pth\n"
     ]
    },
    {
     "name": "stderr",
     "output_type": "stream",
     "text": [
      " 29%|██▉       | 29/100 [2:22:46<6:27:56, 327.84s/it]"
     ]
    },
    {
     "name": "stdout",
     "output_type": "stream",
     "text": [
      "Latest checkpoint saved to ./experiments/mocov3_2025-05-14_06-17-49/last_checkpoint.pt at epoch 28\n"
     ]
    },
    {
     "name": "stderr",
     "output_type": "stream",
     "text": [
      " 29%|██▉       | 29/100 [2:25:01<6:27:56, 327.84s/it]"
     ]
    },
    {
     "name": "stdout",
     "output_type": "stream",
     "text": [
      "Epoch 29: loss = 2.7691\n"
     ]
    },
    {
     "name": "stderr",
     "output_type": "stream",
     "text": [
      " 29%|██▉       | 29/100 [2:28:14<6:27:56, 327.84s/it]"
     ]
    },
    {
     "name": "stdout",
     "output_type": "stream",
     "text": [
      "Epoch [29/100] Acc@1: 16.09%, Acc@5: 56.84%\n"
     ]
    },
    {
     "name": "stderr",
     "output_type": "stream",
     "text": [
      " 29%|██▉       | 29/100 [2:28:15<6:27:56, 327.84s/it]"
     ]
    },
    {
     "name": "stdout",
     "output_type": "stream",
     "text": [
      "Model saved to ./experiments/mocov3_2025-05-14_06-17-49/weights.pth\n"
     ]
    },
    {
     "name": "stderr",
     "output_type": "stream",
     "text": [
      " 30%|███       | 30/100 [2:28:16<6:23:10, 328.44s/it]"
     ]
    },
    {
     "name": "stdout",
     "output_type": "stream",
     "text": [
      "Latest checkpoint saved to ./experiments/mocov3_2025-05-14_06-17-49/last_checkpoint.pt at epoch 29\n"
     ]
    },
    {
     "name": "stderr",
     "output_type": "stream",
     "text": [
      " 30%|███       | 30/100 [2:30:30<6:23:10, 328.44s/it]"
     ]
    },
    {
     "name": "stdout",
     "output_type": "stream",
     "text": [
      "Epoch 30: loss = 2.7607\n"
     ]
    },
    {
     "name": "stderr",
     "output_type": "stream",
     "text": [
      " 30%|███       | 30/100 [2:33:30<6:23:10, 328.44s/it]"
     ]
    },
    {
     "name": "stdout",
     "output_type": "stream",
     "text": [
      "Epoch [30/100] Acc@1: 16.98%, Acc@5: 56.58%\n"
     ]
    },
    {
     "name": "stderr",
     "output_type": "stream",
     "text": [
      " 30%|███       | 30/100 [2:33:30<6:23:10, 328.44s/it]"
     ]
    },
    {
     "name": "stdout",
     "output_type": "stream",
     "text": [
      "Model saved to ./experiments/mocov3_2025-05-14_06-17-49/weights.pth\n"
     ]
    },
    {
     "name": "stderr",
     "output_type": "stream",
     "text": [
      " 31%|███       | 31/100 [2:33:31<6:13:14, 324.57s/it]"
     ]
    },
    {
     "name": "stdout",
     "output_type": "stream",
     "text": [
      "Latest checkpoint saved to ./experiments/mocov3_2025-05-14_06-17-49/last_checkpoint.pt at epoch 30\n"
     ]
    },
    {
     "name": "stderr",
     "output_type": "stream",
     "text": [
      " 31%|███       | 31/100 [2:35:45<6:13:14, 324.57s/it]"
     ]
    },
    {
     "name": "stdout",
     "output_type": "stream",
     "text": [
      "Epoch 31: loss = 2.7547\n"
     ]
    },
    {
     "name": "stderr",
     "output_type": "stream",
     "text": [
      " 31%|███       | 31/100 [2:39:04<6:13:14, 324.57s/it]"
     ]
    },
    {
     "name": "stdout",
     "output_type": "stream",
     "text": [
      "Epoch [31/100] Acc@1: 15.96%, Acc@5: 56.44%\n"
     ]
    },
    {
     "name": "stderr",
     "output_type": "stream",
     "text": [
      " 31%|███       | 31/100 [2:39:04<6:13:14, 324.57s/it]"
     ]
    },
    {
     "name": "stdout",
     "output_type": "stream",
     "text": [
      "Model saved to ./experiments/mocov3_2025-05-14_06-17-49/weights.pth\n"
     ]
    },
    {
     "name": "stderr",
     "output_type": "stream",
     "text": [
      " 32%|███▏      | 32/100 [2:39:05<6:10:52, 327.24s/it]"
     ]
    },
    {
     "name": "stdout",
     "output_type": "stream",
     "text": [
      "Latest checkpoint saved to ./experiments/mocov3_2025-05-14_06-17-49/last_checkpoint.pt at epoch 31\n"
     ]
    },
    {
     "name": "stderr",
     "output_type": "stream",
     "text": [
      " 32%|███▏      | 32/100 [2:41:19<6:10:52, 327.24s/it]"
     ]
    },
    {
     "name": "stdout",
     "output_type": "stream",
     "text": [
      "Epoch 32: loss = 2.7476\n"
     ]
    },
    {
     "name": "stderr",
     "output_type": "stream",
     "text": [
      " 32%|███▏      | 32/100 [2:44:19<6:10:52, 327.24s/it]"
     ]
    },
    {
     "name": "stdout",
     "output_type": "stream",
     "text": [
      "Epoch [32/100] Acc@1: 14.67%, Acc@5: 56.89%\n"
     ]
    },
    {
     "name": "stderr",
     "output_type": "stream",
     "text": [
      " 32%|███▏      | 32/100 [2:44:19<6:10:52, 327.24s/it]"
     ]
    },
    {
     "name": "stdout",
     "output_type": "stream",
     "text": [
      "Model saved to ./experiments/mocov3_2025-05-14_06-17-49/weights.pth\n"
     ]
    },
    {
     "name": "stderr",
     "output_type": "stream",
     "text": [
      " 33%|███▎      | 33/100 [2:44:20<6:01:29, 323.72s/it]"
     ]
    },
    {
     "name": "stdout",
     "output_type": "stream",
     "text": [
      "Latest checkpoint saved to ./experiments/mocov3_2025-05-14_06-17-49/last_checkpoint.pt at epoch 32\n"
     ]
    },
    {
     "name": "stderr",
     "output_type": "stream",
     "text": [
      " 33%|███▎      | 33/100 [2:46:35<6:01:29, 323.72s/it]"
     ]
    },
    {
     "name": "stdout",
     "output_type": "stream",
     "text": [
      "Epoch 33: loss = 2.7403\n"
     ]
    },
    {
     "name": "stderr",
     "output_type": "stream",
     "text": [
      " 33%|███▎      | 33/100 [2:49:38<6:01:29, 323.72s/it]"
     ]
    },
    {
     "name": "stdout",
     "output_type": "stream",
     "text": [
      "Epoch [33/100] Acc@1: 15.64%, Acc@5: 56.93%\n"
     ]
    },
    {
     "name": "stderr",
     "output_type": "stream",
     "text": [
      " 33%|███▎      | 33/100 [2:49:39<6:01:29, 323.72s/it]"
     ]
    },
    {
     "name": "stdout",
     "output_type": "stream",
     "text": [
      "Model saved to ./experiments/mocov3_2025-05-14_06-17-49/weights.pth\n"
     ]
    },
    {
     "name": "stderr",
     "output_type": "stream",
     "text": [
      " 34%|███▍      | 34/100 [2:49:40<5:54:45, 322.51s/it]"
     ]
    },
    {
     "name": "stdout",
     "output_type": "stream",
     "text": [
      "Latest checkpoint saved to ./experiments/mocov3_2025-05-14_06-17-49/last_checkpoint.pt at epoch 33\n"
     ]
    },
    {
     "name": "stderr",
     "output_type": "stream",
     "text": [
      " 34%|███▍      | 34/100 [2:51:54<5:54:45, 322.51s/it]"
     ]
    },
    {
     "name": "stdout",
     "output_type": "stream",
     "text": [
      "Epoch 34: loss = 2.7352\n"
     ]
    },
    {
     "name": "stderr",
     "output_type": "stream",
     "text": [
      " 34%|███▍      | 34/100 [2:55:03<5:54:45, 322.51s/it]"
     ]
    },
    {
     "name": "stdout",
     "output_type": "stream",
     "text": [
      "Epoch [34/100] Acc@1: 15.96%, Acc@5: 56.93%\n"
     ]
    },
    {
     "name": "stderr",
     "output_type": "stream",
     "text": [
      " 34%|███▍      | 34/100 [2:55:03<5:54:45, 322.51s/it]"
     ]
    },
    {
     "name": "stdout",
     "output_type": "stream",
     "text": [
      "Model saved to ./experiments/mocov3_2025-05-14_06-17-49/weights.pth\n"
     ]
    },
    {
     "name": "stderr",
     "output_type": "stream",
     "text": [
      " 35%|███▌      | 35/100 [2:55:04<5:49:55, 323.01s/it]"
     ]
    },
    {
     "name": "stdout",
     "output_type": "stream",
     "text": [
      "Latest checkpoint saved to ./experiments/mocov3_2025-05-14_06-17-49/last_checkpoint.pt at epoch 34\n"
     ]
    },
    {
     "name": "stderr",
     "output_type": "stream",
     "text": [
      " 35%|███▌      | 35/100 [2:57:18<5:49:55, 323.01s/it]"
     ]
    },
    {
     "name": "stdout",
     "output_type": "stream",
     "text": [
      "Epoch 35: loss = 2.7294\n"
     ]
    },
    {
     "name": "stderr",
     "output_type": "stream",
     "text": [
      " 35%|███▌      | 35/100 [3:00:09<5:49:55, 323.01s/it]"
     ]
    },
    {
     "name": "stdout",
     "output_type": "stream",
     "text": [
      "Epoch [35/100] Acc@1: 16.13%, Acc@5: 58.84%\n"
     ]
    },
    {
     "name": "stderr",
     "output_type": "stream",
     "text": [
      " 35%|███▌      | 35/100 [3:00:10<5:49:55, 323.01s/it]"
     ]
    },
    {
     "name": "stdout",
     "output_type": "stream",
     "text": [
      "Model saved to ./experiments/mocov3_2025-05-14_06-17-49/weights.pth\n"
     ]
    },
    {
     "name": "stderr",
     "output_type": "stream",
     "text": [
      " 36%|███▌      | 36/100 [3:00:11<5:39:10, 317.98s/it]"
     ]
    },
    {
     "name": "stdout",
     "output_type": "stream",
     "text": [
      "Latest checkpoint saved to ./experiments/mocov3_2025-05-14_06-17-49/last_checkpoint.pt at epoch 35\n"
     ]
    },
    {
     "name": "stderr",
     "output_type": "stream",
     "text": [
      " 36%|███▌      | 36/100 [3:02:26<5:39:10, 317.98s/it]"
     ]
    },
    {
     "name": "stdout",
     "output_type": "stream",
     "text": [
      "Epoch 36: loss = 2.7241\n"
     ]
    },
    {
     "name": "stderr",
     "output_type": "stream",
     "text": [
      " 36%|███▌      | 36/100 [3:05:36<5:39:10, 317.98s/it]"
     ]
    },
    {
     "name": "stdout",
     "output_type": "stream",
     "text": [
      "Epoch [36/100] Acc@1: 17.07%, Acc@5: 59.11%\n"
     ]
    },
    {
     "name": "stderr",
     "output_type": "stream",
     "text": [
      " 36%|███▌      | 36/100 [3:05:36<5:39:10, 317.98s/it]"
     ]
    },
    {
     "name": "stdout",
     "output_type": "stream",
     "text": [
      "Model saved to ./experiments/mocov3_2025-05-14_06-17-49/weights.pth\n"
     ]
    },
    {
     "name": "stderr",
     "output_type": "stream",
     "text": [
      " 37%|███▋      | 37/100 [3:05:37<5:36:40, 320.65s/it]"
     ]
    },
    {
     "name": "stdout",
     "output_type": "stream",
     "text": [
      "Latest checkpoint saved to ./experiments/mocov3_2025-05-14_06-17-49/last_checkpoint.pt at epoch 36\n"
     ]
    },
    {
     "name": "stderr",
     "output_type": "stream",
     "text": [
      " 37%|███▋      | 37/100 [3:07:51<5:36:40, 320.65s/it]"
     ]
    },
    {
     "name": "stdout",
     "output_type": "stream",
     "text": [
      "Epoch 37: loss = 2.7190\n"
     ]
    },
    {
     "name": "stderr",
     "output_type": "stream",
     "text": [
      " 37%|███▋      | 37/100 [3:11:04<5:36:40, 320.65s/it]"
     ]
    },
    {
     "name": "stdout",
     "output_type": "stream",
     "text": [
      "Epoch [37/100] Acc@1: 15.78%, Acc@5: 58.53%\n"
     ]
    },
    {
     "name": "stderr",
     "output_type": "stream",
     "text": [
      " 37%|███▋      | 37/100 [3:11:05<5:36:40, 320.65s/it]"
     ]
    },
    {
     "name": "stdout",
     "output_type": "stream",
     "text": [
      "Model saved to ./experiments/mocov3_2025-05-14_06-17-49/weights.pth\n"
     ]
    },
    {
     "name": "stderr",
     "output_type": "stream",
     "text": [
      " 38%|███▊      | 38/100 [3:11:06<5:33:47, 323.03s/it]"
     ]
    },
    {
     "name": "stdout",
     "output_type": "stream",
     "text": [
      "Latest checkpoint saved to ./experiments/mocov3_2025-05-14_06-17-49/last_checkpoint.pt at epoch 37\n"
     ]
    },
    {
     "name": "stderr",
     "output_type": "stream",
     "text": [
      " 38%|███▊      | 38/100 [3:13:20<5:33:47, 323.03s/it]"
     ]
    },
    {
     "name": "stdout",
     "output_type": "stream",
     "text": [
      "Epoch 38: loss = 2.7145\n"
     ]
    },
    {
     "name": "stderr",
     "output_type": "stream",
     "text": [
      " 38%|███▊      | 38/100 [3:16:29<5:33:47, 323.03s/it]"
     ]
    },
    {
     "name": "stdout",
     "output_type": "stream",
     "text": [
      "Epoch [38/100] Acc@1: 16.44%, Acc@5: 58.80%\n"
     ]
    },
    {
     "name": "stderr",
     "output_type": "stream",
     "text": [
      " 38%|███▊      | 38/100 [3:16:29<5:33:47, 323.03s/it]"
     ]
    },
    {
     "name": "stdout",
     "output_type": "stream",
     "text": [
      "Model saved to ./experiments/mocov3_2025-05-14_06-17-49/weights.pth\n"
     ]
    },
    {
     "name": "stderr",
     "output_type": "stream",
     "text": [
      " 39%|███▉      | 39/100 [3:16:30<5:28:40, 323.28s/it]"
     ]
    },
    {
     "name": "stdout",
     "output_type": "stream",
     "text": [
      "Latest checkpoint saved to ./experiments/mocov3_2025-05-14_06-17-49/last_checkpoint.pt at epoch 38\n"
     ]
    },
    {
     "name": "stderr",
     "output_type": "stream",
     "text": [
      " 39%|███▉      | 39/100 [3:18:44<5:28:40, 323.28s/it]"
     ]
    },
    {
     "name": "stdout",
     "output_type": "stream",
     "text": [
      "Epoch 39: loss = 2.7106\n"
     ]
    },
    {
     "name": "stderr",
     "output_type": "stream",
     "text": [
      " 39%|███▉      | 39/100 [3:21:45<5:28:40, 323.28s/it]"
     ]
    },
    {
     "name": "stdout",
     "output_type": "stream",
     "text": [
      "Epoch [39/100] Acc@1: 16.09%, Acc@5: 58.98%\n"
     ]
    },
    {
     "name": "stderr",
     "output_type": "stream",
     "text": [
      " 39%|███▉      | 39/100 [3:21:46<5:28:40, 323.28s/it]"
     ]
    },
    {
     "name": "stdout",
     "output_type": "stream",
     "text": [
      "Model saved to ./experiments/mocov3_2025-05-14_06-17-49/weights.pth\n"
     ]
    },
    {
     "name": "stderr",
     "output_type": "stream",
     "text": [
      " 40%|████      | 40/100 [3:21:47<5:21:17, 321.29s/it]"
     ]
    },
    {
     "name": "stdout",
     "output_type": "stream",
     "text": [
      "Latest checkpoint saved to ./experiments/mocov3_2025-05-14_06-17-49/last_checkpoint.pt at epoch 39\n"
     ]
    },
    {
     "name": "stderr",
     "output_type": "stream",
     "text": [
      " 40%|████      | 40/100 [3:24:00<5:21:17, 321.29s/it]"
     ]
    },
    {
     "name": "stdout",
     "output_type": "stream",
     "text": [
      "Epoch 40: loss = 2.7063\n"
     ]
    },
    {
     "name": "stderr",
     "output_type": "stream",
     "text": [
      " 40%|████      | 40/100 [3:27:12<5:21:17, 321.29s/it]"
     ]
    },
    {
     "name": "stdout",
     "output_type": "stream",
     "text": [
      "Epoch [40/100] Acc@1: 16.04%, Acc@5: 58.67%\n"
     ]
    },
    {
     "name": "stderr",
     "output_type": "stream",
     "text": [
      " 40%|████      | 40/100 [3:27:12<5:21:17, 321.29s/it]"
     ]
    },
    {
     "name": "stdout",
     "output_type": "stream",
     "text": [
      "Model saved to ./experiments/mocov3_2025-05-14_06-17-49/weights.pth\n"
     ]
    },
    {
     "name": "stderr",
     "output_type": "stream",
     "text": [
      " 41%|████      | 41/100 [3:27:13<5:17:32, 322.92s/it]"
     ]
    },
    {
     "name": "stdout",
     "output_type": "stream",
     "text": [
      "Latest checkpoint saved to ./experiments/mocov3_2025-05-14_06-17-49/last_checkpoint.pt at epoch 40\n"
     ]
    },
    {
     "name": "stderr",
     "output_type": "stream",
     "text": [
      " 41%|████      | 41/100 [3:29:27<5:17:32, 322.92s/it]"
     ]
    },
    {
     "name": "stdout",
     "output_type": "stream",
     "text": [
      "Epoch 41: loss = 2.7025\n"
     ]
    },
    {
     "name": "stderr",
     "output_type": "stream",
     "text": [
      " 41%|████      | 41/100 [3:32:28<5:17:32, 322.92s/it]"
     ]
    },
    {
     "name": "stdout",
     "output_type": "stream",
     "text": [
      "Epoch [41/100] Acc@1: 15.91%, Acc@5: 59.11%\n"
     ]
    },
    {
     "name": "stderr",
     "output_type": "stream",
     "text": [
      " 41%|████      | 41/100 [3:32:28<5:17:32, 322.92s/it]"
     ]
    },
    {
     "name": "stdout",
     "output_type": "stream",
     "text": [
      "Model saved to ./experiments/mocov3_2025-05-14_06-17-49/weights.pth\n"
     ]
    },
    {
     "name": "stderr",
     "output_type": "stream",
     "text": [
      " 42%|████▏     | 42/100 [3:32:29<5:10:10, 320.87s/it]"
     ]
    },
    {
     "name": "stdout",
     "output_type": "stream",
     "text": [
      "Latest checkpoint saved to ./experiments/mocov3_2025-05-14_06-17-49/last_checkpoint.pt at epoch 41\n"
     ]
    },
    {
     "name": "stderr",
     "output_type": "stream",
     "text": [
      " 42%|████▏     | 42/100 [3:34:43<5:10:10, 320.87s/it]"
     ]
    },
    {
     "name": "stdout",
     "output_type": "stream",
     "text": [
      "Epoch 42: loss = 2.7002\n"
     ]
    },
    {
     "name": "stderr",
     "output_type": "stream",
     "text": [
      " 42%|████▏     | 42/100 [3:37:46<5:10:10, 320.87s/it]"
     ]
    },
    {
     "name": "stdout",
     "output_type": "stream",
     "text": [
      "Epoch [42/100] Acc@1: 15.96%, Acc@5: 59.07%\n"
     ]
    },
    {
     "name": "stderr",
     "output_type": "stream",
     "text": [
      " 42%|████▏     | 42/100 [3:37:46<5:10:10, 320.87s/it]"
     ]
    },
    {
     "name": "stdout",
     "output_type": "stream",
     "text": [
      "Model saved to ./experiments/mocov3_2025-05-14_06-17-49/weights.pth\n"
     ]
    },
    {
     "name": "stderr",
     "output_type": "stream",
     "text": [
      " 43%|████▎     | 43/100 [3:37:47<5:04:02, 320.04s/it]"
     ]
    },
    {
     "name": "stdout",
     "output_type": "stream",
     "text": [
      "Latest checkpoint saved to ./experiments/mocov3_2025-05-14_06-17-49/last_checkpoint.pt at epoch 42\n"
     ]
    },
    {
     "name": "stderr",
     "output_type": "stream",
     "text": [
      " 43%|████▎     | 43/100 [3:39:58<5:04:02, 320.04s/it]"
     ]
    },
    {
     "name": "stdout",
     "output_type": "stream",
     "text": [
      "Epoch 43: loss = 2.6958\n"
     ]
    },
    {
     "name": "stderr",
     "output_type": "stream",
     "text": [
      " 43%|████▎     | 43/100 [3:43:00<5:04:02, 320.04s/it]"
     ]
    },
    {
     "name": "stdout",
     "output_type": "stream",
     "text": [
      "Epoch [43/100] Acc@1: 16.71%, Acc@5: 59.11%\n"
     ]
    },
    {
     "name": "stderr",
     "output_type": "stream",
     "text": [
      " 43%|████▎     | 43/100 [3:43:01<5:04:02, 320.04s/it]"
     ]
    },
    {
     "name": "stdout",
     "output_type": "stream",
     "text": [
      "Model saved to ./experiments/mocov3_2025-05-14_06-17-49/weights.pth\n"
     ]
    },
    {
     "name": "stderr",
     "output_type": "stream",
     "text": [
      " 44%|████▍     | 44/100 [3:43:02<4:57:04, 318.30s/it]"
     ]
    },
    {
     "name": "stdout",
     "output_type": "stream",
     "text": [
      "Latest checkpoint saved to ./experiments/mocov3_2025-05-14_06-17-49/last_checkpoint.pt at epoch 43\n"
     ]
    },
    {
     "name": "stderr",
     "output_type": "stream",
     "text": [
      " 44%|████▍     | 44/100 [3:45:11<4:57:04, 318.30s/it]"
     ]
    },
    {
     "name": "stdout",
     "output_type": "stream",
     "text": [
      "Epoch 44: loss = 2.6913\n"
     ]
    },
    {
     "name": "stderr",
     "output_type": "stream",
     "text": [
      " 44%|████▍     | 44/100 [3:48:04<4:57:04, 318.30s/it]"
     ]
    },
    {
     "name": "stdout",
     "output_type": "stream",
     "text": [
      "Epoch [44/100] Acc@1: 16.62%, Acc@5: 60.36%\n"
     ]
    },
    {
     "name": "stderr",
     "output_type": "stream",
     "text": [
      " 44%|████▍     | 44/100 [3:48:05<4:57:04, 318.30s/it]"
     ]
    },
    {
     "name": "stdout",
     "output_type": "stream",
     "text": [
      "Model saved to ./experiments/mocov3_2025-05-14_06-17-49/weights.pth\n"
     ]
    },
    {
     "name": "stderr",
     "output_type": "stream",
     "text": [
      " 45%|████▌     | 45/100 [3:48:06<4:47:55, 314.09s/it]"
     ]
    },
    {
     "name": "stdout",
     "output_type": "stream",
     "text": [
      "Latest checkpoint saved to ./experiments/mocov3_2025-05-14_06-17-49/last_checkpoint.pt at epoch 44\n"
     ]
    },
    {
     "name": "stderr",
     "output_type": "stream",
     "text": [
      " 45%|████▌     | 45/100 [3:50:16<4:47:55, 314.09s/it]"
     ]
    },
    {
     "name": "stdout",
     "output_type": "stream",
     "text": [
      "Epoch 45: loss = 2.6916\n"
     ]
    },
    {
     "name": "stderr",
     "output_type": "stream",
     "text": [
      " 45%|████▌     | 45/100 [3:53:20<4:47:55, 314.09s/it]"
     ]
    },
    {
     "name": "stdout",
     "output_type": "stream",
     "text": [
      "Epoch [45/100] Acc@1: 16.62%, Acc@5: 58.84%\n"
     ]
    },
    {
     "name": "stderr",
     "output_type": "stream",
     "text": [
      " 46%|████▌     | 46/100 [3:53:21<4:42:51, 314.29s/it]"
     ]
    },
    {
     "name": "stdout",
     "output_type": "stream",
     "text": [
      "Latest checkpoint saved to ./experiments/mocov3_2025-05-14_06-17-49/last_checkpoint.pt at epoch 45\n"
     ]
    },
    {
     "name": "stderr",
     "output_type": "stream",
     "text": [
      " 46%|████▌     | 46/100 [3:55:31<4:42:51, 314.29s/it]"
     ]
    },
    {
     "name": "stdout",
     "output_type": "stream",
     "text": [
      "Epoch 46: loss = 2.6864\n"
     ]
    },
    {
     "name": "stderr",
     "output_type": "stream",
     "text": [
      " 46%|████▌     | 46/100 [3:59:03<4:42:51, 314.29s/it]"
     ]
    },
    {
     "name": "stdout",
     "output_type": "stream",
     "text": [
      "Epoch [46/100] Acc@1: 16.71%, Acc@5: 59.38%\n"
     ]
    },
    {
     "name": "stderr",
     "output_type": "stream",
     "text": [
      " 46%|████▌     | 46/100 [3:59:03<4:42:51, 314.29s/it]"
     ]
    },
    {
     "name": "stdout",
     "output_type": "stream",
     "text": [
      "Model saved to ./experiments/mocov3_2025-05-14_06-17-49/weights.pth\n"
     ]
    },
    {
     "name": "stderr",
     "output_type": "stream",
     "text": [
      " 47%|████▋     | 47/100 [3:59:04<4:45:12, 322.87s/it]"
     ]
    },
    {
     "name": "stdout",
     "output_type": "stream",
     "text": [
      "Latest checkpoint saved to ./experiments/mocov3_2025-05-14_06-17-49/last_checkpoint.pt at epoch 46\n"
     ]
    },
    {
     "name": "stderr",
     "output_type": "stream",
     "text": [
      " 47%|████▋     | 47/100 [4:01:13<4:45:12, 322.87s/it]"
     ]
    },
    {
     "name": "stdout",
     "output_type": "stream",
     "text": [
      "Epoch 47: loss = 2.6838\n"
     ]
    },
    {
     "name": "stderr",
     "output_type": "stream",
     "text": [
      " 47%|████▋     | 47/100 [4:04:28<4:45:12, 322.87s/it]"
     ]
    },
    {
     "name": "stdout",
     "output_type": "stream",
     "text": [
      "Epoch [47/100] Acc@1: 15.78%, Acc@5: 60.22%\n"
     ]
    },
    {
     "name": "stderr",
     "output_type": "stream",
     "text": [
      " 47%|████▋     | 47/100 [4:04:28<4:45:12, 322.87s/it]"
     ]
    },
    {
     "name": "stdout",
     "output_type": "stream",
     "text": [
      "Model saved to ./experiments/mocov3_2025-05-14_06-17-49/weights.pth\n"
     ]
    },
    {
     "name": "stderr",
     "output_type": "stream",
     "text": [
      " 48%|████▊     | 48/100 [4:04:29<4:40:32, 323.69s/it]"
     ]
    },
    {
     "name": "stdout",
     "output_type": "stream",
     "text": [
      "Latest checkpoint saved to ./experiments/mocov3_2025-05-14_06-17-49/last_checkpoint.pt at epoch 47\n"
     ]
    },
    {
     "name": "stderr",
     "output_type": "stream",
     "text": [
      " 48%|████▊     | 48/100 [4:06:38<4:40:32, 323.69s/it]"
     ]
    },
    {
     "name": "stdout",
     "output_type": "stream",
     "text": [
      "Epoch 48: loss = 2.6829\n"
     ]
    },
    {
     "name": "stderr",
     "output_type": "stream",
     "text": [
      " 48%|████▊     | 48/100 [4:09:57<4:40:32, 323.69s/it]"
     ]
    },
    {
     "name": "stdout",
     "output_type": "stream",
     "text": [
      "Epoch [48/100] Acc@1: 17.42%, Acc@5: 60.98%\n"
     ]
    },
    {
     "name": "stderr",
     "output_type": "stream",
     "text": [
      " 48%|████▊     | 48/100 [4:09:58<4:40:32, 323.69s/it]"
     ]
    },
    {
     "name": "stdout",
     "output_type": "stream",
     "text": [
      "Model saved to ./experiments/mocov3_2025-05-14_06-17-49/weights.pth\n"
     ]
    },
    {
     "name": "stderr",
     "output_type": "stream",
     "text": [
      " 49%|████▉     | 49/100 [4:09:59<4:36:43, 325.55s/it]"
     ]
    },
    {
     "name": "stdout",
     "output_type": "stream",
     "text": [
      "Latest checkpoint saved to ./experiments/mocov3_2025-05-14_06-17-49/last_checkpoint.pt at epoch 48\n"
     ]
    },
    {
     "name": "stderr",
     "output_type": "stream",
     "text": [
      " 49%|████▉     | 49/100 [4:12:08<4:36:43, 325.55s/it]"
     ]
    },
    {
     "name": "stdout",
     "output_type": "stream",
     "text": [
      "Epoch 49: loss = 2.6809\n"
     ]
    },
    {
     "name": "stderr",
     "output_type": "stream",
     "text": [
      " 49%|████▉     | 49/100 [4:15:25<4:36:43, 325.55s/it]"
     ]
    },
    {
     "name": "stdout",
     "output_type": "stream",
     "text": [
      "Epoch [49/100] Acc@1: 16.04%, Acc@5: 60.18%\n"
     ]
    },
    {
     "name": "stderr",
     "output_type": "stream",
     "text": [
      " 49%|████▉     | 49/100 [4:15:26<4:36:43, 325.55s/it]"
     ]
    },
    {
     "name": "stdout",
     "output_type": "stream",
     "text": [
      "Model saved to ./experiments/mocov3_2025-05-14_06-17-49/weights.pth\n"
     ]
    },
    {
     "name": "stderr",
     "output_type": "stream",
     "text": [
      " 50%|█████     | 50/100 [4:15:27<4:31:46, 326.13s/it]"
     ]
    },
    {
     "name": "stdout",
     "output_type": "stream",
     "text": [
      "Latest checkpoint saved to ./experiments/mocov3_2025-05-14_06-17-49/last_checkpoint.pt at epoch 49\n"
     ]
    },
    {
     "name": "stderr",
     "output_type": "stream",
     "text": [
      " 50%|█████     | 50/100 [4:17:37<4:31:46, 326.13s/it]"
     ]
    },
    {
     "name": "stdout",
     "output_type": "stream",
     "text": [
      "Epoch 50: loss = 2.6777\n"
     ]
    },
    {
     "name": "stderr",
     "output_type": "stream",
     "text": [
      " 50%|█████     | 50/100 [4:20:52<4:31:46, 326.13s/it]"
     ]
    },
    {
     "name": "stdout",
     "output_type": "stream",
     "text": [
      "Epoch [50/100] Acc@1: 16.13%, Acc@5: 60.40%\n"
     ]
    },
    {
     "name": "stderr",
     "output_type": "stream",
     "text": [
      " 50%|█████     | 50/100 [4:20:53<4:31:46, 326.13s/it]"
     ]
    },
    {
     "name": "stdout",
     "output_type": "stream",
     "text": [
      "Model saved to ./experiments/mocov3_2025-05-14_06-17-49/weights.pth\n"
     ]
    },
    {
     "name": "stderr",
     "output_type": "stream",
     "text": [
      " 51%|█████     | 51/100 [4:20:54<4:26:41, 326.57s/it]"
     ]
    },
    {
     "name": "stdout",
     "output_type": "stream",
     "text": [
      "Latest checkpoint saved to ./experiments/mocov3_2025-05-14_06-17-49/last_checkpoint.pt at epoch 50\n"
     ]
    },
    {
     "name": "stderr",
     "output_type": "stream",
     "text": [
      " 51%|█████     | 51/100 [4:23:03<4:26:41, 326.57s/it]"
     ]
    },
    {
     "name": "stdout",
     "output_type": "stream",
     "text": [
      "Epoch 51: loss = 2.6765\n"
     ]
    },
    {
     "name": "stderr",
     "output_type": "stream",
     "text": [
      " 51%|█████     | 51/100 [4:26:24<4:26:41, 326.57s/it]"
     ]
    },
    {
     "name": "stdout",
     "output_type": "stream",
     "text": [
      "Epoch [51/100] Acc@1: 16.27%, Acc@5: 60.49%\n"
     ]
    },
    {
     "name": "stderr",
     "output_type": "stream",
     "text": [
      " 51%|█████     | 51/100 [4:26:25<4:26:41, 326.57s/it]"
     ]
    },
    {
     "name": "stdout",
     "output_type": "stream",
     "text": [
      "Model saved to ./experiments/mocov3_2025-05-14_06-17-49/weights.pth\n"
     ]
    },
    {
     "name": "stderr",
     "output_type": "stream",
     "text": [
      " 52%|█████▏    | 52/100 [4:26:26<4:22:34, 328.21s/it]"
     ]
    },
    {
     "name": "stdout",
     "output_type": "stream",
     "text": [
      "Latest checkpoint saved to ./experiments/mocov3_2025-05-14_06-17-49/last_checkpoint.pt at epoch 51\n"
     ]
    },
    {
     "name": "stderr",
     "output_type": "stream",
     "text": [
      " 52%|█████▏    | 52/100 [4:28:35<4:22:34, 328.21s/it]"
     ]
    },
    {
     "name": "stdout",
     "output_type": "stream",
     "text": [
      "Epoch 52: loss = 2.6749\n"
     ]
    },
    {
     "name": "stderr",
     "output_type": "stream",
     "text": [
      " 52%|█████▏    | 52/100 [4:32:00<4:22:34, 328.21s/it]"
     ]
    },
    {
     "name": "stdout",
     "output_type": "stream",
     "text": [
      "Epoch [52/100] Acc@1: 16.49%, Acc@5: 60.62%\n"
     ]
    },
    {
     "name": "stderr",
     "output_type": "stream",
     "text": [
      " 52%|█████▏    | 52/100 [4:32:01<4:22:34, 328.21s/it]"
     ]
    },
    {
     "name": "stdout",
     "output_type": "stream",
     "text": [
      "Model saved to ./experiments/mocov3_2025-05-14_06-17-49/weights.pth\n"
     ]
    },
    {
     "name": "stderr",
     "output_type": "stream",
     "text": [
      " 53%|█████▎    | 53/100 [4:32:02<4:18:55, 330.54s/it]"
     ]
    },
    {
     "name": "stdout",
     "output_type": "stream",
     "text": [
      "Latest checkpoint saved to ./experiments/mocov3_2025-05-14_06-17-49/last_checkpoint.pt at epoch 52\n"
     ]
    },
    {
     "name": "stderr",
     "output_type": "stream",
     "text": [
      " 53%|█████▎    | 53/100 [4:34:11<4:18:55, 330.54s/it]"
     ]
    },
    {
     "name": "stdout",
     "output_type": "stream",
     "text": [
      "Epoch 53: loss = 2.6712\n"
     ]
    },
    {
     "name": "stderr",
     "output_type": "stream",
     "text": [
      " 53%|█████▎    | 53/100 [4:37:27<4:18:55, 330.54s/it]"
     ]
    },
    {
     "name": "stdout",
     "output_type": "stream",
     "text": [
      "Epoch [53/100] Acc@1: 16.67%, Acc@5: 60.00%\n"
     ]
    },
    {
     "name": "stderr",
     "output_type": "stream",
     "text": [
      " 53%|█████▎    | 53/100 [4:37:27<4:18:55, 330.54s/it]"
     ]
    },
    {
     "name": "stdout",
     "output_type": "stream",
     "text": [
      "Model saved to ./experiments/mocov3_2025-05-14_06-17-49/weights.pth\n"
     ]
    },
    {
     "name": "stderr",
     "output_type": "stream",
     "text": [
      " 54%|█████▍    | 54/100 [4:37:28<4:12:17, 329.07s/it]"
     ]
    },
    {
     "name": "stdout",
     "output_type": "stream",
     "text": [
      "Latest checkpoint saved to ./experiments/mocov3_2025-05-14_06-17-49/last_checkpoint.pt at epoch 53\n"
     ]
    },
    {
     "name": "stderr",
     "output_type": "stream",
     "text": [
      " 54%|█████▍    | 54/100 [4:39:37<4:12:17, 329.07s/it]"
     ]
    },
    {
     "name": "stdout",
     "output_type": "stream",
     "text": [
      "Epoch 54: loss = 2.6718\n"
     ]
    },
    {
     "name": "stderr",
     "output_type": "stream",
     "text": [
      " 54%|█████▍    | 54/100 [4:42:50<4:12:17, 329.07s/it]"
     ]
    },
    {
     "name": "stdout",
     "output_type": "stream",
     "text": [
      "Epoch [54/100] Acc@1: 16.80%, Acc@5: 61.07%\n"
     ]
    },
    {
     "name": "stderr",
     "output_type": "stream",
     "text": [
      " 55%|█████▌    | 55/100 [4:42:51<4:05:26, 327.26s/it]"
     ]
    },
    {
     "name": "stdout",
     "output_type": "stream",
     "text": [
      "Latest checkpoint saved to ./experiments/mocov3_2025-05-14_06-17-49/last_checkpoint.pt at epoch 54\n"
     ]
    },
    {
     "name": "stderr",
     "output_type": "stream",
     "text": [
      " 55%|█████▌    | 55/100 [4:45:00<4:05:26, 327.26s/it]"
     ]
    },
    {
     "name": "stdout",
     "output_type": "stream",
     "text": [
      "Epoch 55: loss = 2.6694\n"
     ]
    },
    {
     "name": "stderr",
     "output_type": "stream",
     "text": [
      " 55%|█████▌    | 55/100 [4:48:22<4:05:26, 327.26s/it]"
     ]
    },
    {
     "name": "stdout",
     "output_type": "stream",
     "text": [
      "Epoch [55/100] Acc@1: 16.93%, Acc@5: 60.58%\n"
     ]
    },
    {
     "name": "stderr",
     "output_type": "stream",
     "text": [
      " 55%|█████▌    | 55/100 [4:48:23<4:05:26, 327.26s/it]"
     ]
    },
    {
     "name": "stdout",
     "output_type": "stream",
     "text": [
      "Model saved to ./experiments/mocov3_2025-05-14_06-17-49/weights.pth\n"
     ]
    },
    {
     "name": "stderr",
     "output_type": "stream",
     "text": [
      " 56%|█████▌    | 56/100 [4:48:23<4:01:04, 328.74s/it]"
     ]
    },
    {
     "name": "stdout",
     "output_type": "stream",
     "text": [
      "Latest checkpoint saved to ./experiments/mocov3_2025-05-14_06-17-49/last_checkpoint.pt at epoch 55\n"
     ]
    },
    {
     "name": "stderr",
     "output_type": "stream",
     "text": [
      " 56%|█████▌    | 56/100 [4:50:32<4:01:04, 328.74s/it]"
     ]
    },
    {
     "name": "stdout",
     "output_type": "stream",
     "text": [
      "Epoch 56: loss = 2.6685\n"
     ]
    },
    {
     "name": "stderr",
     "output_type": "stream",
     "text": [
      " 56%|█████▌    | 56/100 [4:53:44<4:01:04, 328.74s/it]"
     ]
    },
    {
     "name": "stdout",
     "output_type": "stream",
     "text": [
      "Epoch [56/100] Acc@1: 16.27%, Acc@5: 59.82%\n"
     ]
    },
    {
     "name": "stderr",
     "output_type": "stream",
     "text": [
      " 56%|█████▌    | 56/100 [4:53:44<4:01:04, 328.74s/it]"
     ]
    },
    {
     "name": "stdout",
     "output_type": "stream",
     "text": [
      "Model saved to ./experiments/mocov3_2025-05-14_06-17-49/weights.pth\n"
     ]
    },
    {
     "name": "stderr",
     "output_type": "stream",
     "text": [
      " 57%|█████▋    | 57/100 [4:53:46<3:54:16, 326.89s/it]"
     ]
    },
    {
     "name": "stdout",
     "output_type": "stream",
     "text": [
      "Latest checkpoint saved to ./experiments/mocov3_2025-05-14_06-17-49/last_checkpoint.pt at epoch 56\n"
     ]
    },
    {
     "name": "stderr",
     "output_type": "stream",
     "text": [
      " 57%|█████▋    | 57/100 [4:55:55<3:54:16, 326.89s/it]"
     ]
    },
    {
     "name": "stdout",
     "output_type": "stream",
     "text": [
      "Epoch 57: loss = 2.6682\n"
     ]
    },
    {
     "name": "stderr",
     "output_type": "stream",
     "text": [
      " 57%|█████▋    | 57/100 [4:57:45<3:54:16, 326.89s/it]"
     ]
    },
    {
     "name": "stdout",
     "output_type": "stream",
     "text": [
      "Epoch [57/100] Acc@1: 16.36%, Acc@5: 59.91%\n"
     ]
    },
    {
     "name": "stderr",
     "output_type": "stream",
     "text": [
      " 57%|█████▋    | 57/100 [4:57:45<3:54:16, 326.89s/it]"
     ]
    },
    {
     "name": "stdout",
     "output_type": "stream",
     "text": [
      "Model saved to ./experiments/mocov3_2025-05-14_06-17-49/weights.pth\n"
     ]
    },
    {
     "name": "stderr",
     "output_type": "stream",
     "text": [
      " 58%|█████▊    | 58/100 [4:57:45<3:30:32, 300.78s/it]"
     ]
    },
    {
     "name": "stdout",
     "output_type": "stream",
     "text": [
      "Latest checkpoint saved to ./experiments/mocov3_2025-05-14_06-17-49/last_checkpoint.pt at epoch 57\n"
     ]
    },
    {
     "name": "stderr",
     "output_type": "stream",
     "text": [
      " 58%|█████▊    | 58/100 [4:59:57<3:30:32, 300.78s/it]"
     ]
    },
    {
     "name": "stdout",
     "output_type": "stream",
     "text": [
      "Epoch 58: loss = 2.6657\n"
     ]
    },
    {
     "name": "stderr",
     "output_type": "stream",
     "text": [
      " 58%|█████▊    | 58/100 [5:01:34<3:30:32, 300.78s/it]"
     ]
    },
    {
     "name": "stdout",
     "output_type": "stream",
     "text": [
      "Epoch [58/100] Acc@1: 16.89%, Acc@5: 60.93%\n"
     ]
    },
    {
     "name": "stderr",
     "output_type": "stream",
     "text": [
      " 58%|█████▊    | 58/100 [5:01:34<3:30:32, 300.78s/it]"
     ]
    },
    {
     "name": "stdout",
     "output_type": "stream",
     "text": [
      "Model saved to ./experiments/mocov3_2025-05-14_06-17-49/weights.pth\n"
     ]
    },
    {
     "name": "stderr",
     "output_type": "stream",
     "text": [
      " 59%|█████▉    | 59/100 [5:01:35<3:10:52, 279.33s/it]"
     ]
    },
    {
     "name": "stdout",
     "output_type": "stream",
     "text": [
      "Latest checkpoint saved to ./experiments/mocov3_2025-05-14_06-17-49/last_checkpoint.pt at epoch 58\n"
     ]
    },
    {
     "name": "stderr",
     "output_type": "stream",
     "text": [
      " 59%|█████▉    | 59/100 [5:03:48<3:10:52, 279.33s/it]"
     ]
    },
    {
     "name": "stdout",
     "output_type": "stream",
     "text": [
      "Epoch 59: loss = 2.6642\n"
     ]
    },
    {
     "name": "stderr",
     "output_type": "stream",
     "text": [
      " 59%|█████▉    | 59/100 [5:05:25<3:10:52, 279.33s/it]"
     ]
    },
    {
     "name": "stdout",
     "output_type": "stream",
     "text": [
      "Epoch [59/100] Acc@1: 17.02%, Acc@5: 61.42%\n"
     ]
    },
    {
     "name": "stderr",
     "output_type": "stream",
     "text": [
      " 59%|█████▉    | 59/100 [5:05:25<3:10:52, 279.33s/it]"
     ]
    },
    {
     "name": "stdout",
     "output_type": "stream",
     "text": [
      "Model saved to ./experiments/mocov3_2025-05-14_06-17-49/weights.pth\n"
     ]
    },
    {
     "name": "stderr",
     "output_type": "stream",
     "text": [
      " 60%|██████    | 60/100 [5:05:25<2:56:29, 264.74s/it]"
     ]
    },
    {
     "name": "stdout",
     "output_type": "stream",
     "text": [
      "Latest checkpoint saved to ./experiments/mocov3_2025-05-14_06-17-49/last_checkpoint.pt at epoch 59\n"
     ]
    },
    {
     "name": "stderr",
     "output_type": "stream",
     "text": [
      " 60%|██████    | 60/100 [5:07:39<2:56:29, 264.74s/it]"
     ]
    },
    {
     "name": "stdout",
     "output_type": "stream",
     "text": [
      "Epoch 60: loss = 2.6634\n"
     ]
    },
    {
     "name": "stderr",
     "output_type": "stream",
     "text": [
      " 60%|██████    | 60/100 [5:09:15<2:56:29, 264.74s/it]"
     ]
    },
    {
     "name": "stdout",
     "output_type": "stream",
     "text": [
      "Epoch [60/100] Acc@1: 17.24%, Acc@5: 60.49%\n"
     ]
    },
    {
     "name": "stderr",
     "output_type": "stream",
     "text": [
      " 60%|██████    | 60/100 [5:09:16<2:56:29, 264.74s/it]"
     ]
    },
    {
     "name": "stdout",
     "output_type": "stream",
     "text": [
      "Model saved to ./experiments/mocov3_2025-05-14_06-17-49/weights.pth\n"
     ]
    },
    {
     "name": "stderr",
     "output_type": "stream",
     "text": [
      " 61%|██████    | 61/100 [5:09:16<2:45:27, 254.55s/it]"
     ]
    },
    {
     "name": "stdout",
     "output_type": "stream",
     "text": [
      "Latest checkpoint saved to ./experiments/mocov3_2025-05-14_06-17-49/last_checkpoint.pt at epoch 60\n"
     ]
    },
    {
     "name": "stderr",
     "output_type": "stream",
     "text": [
      " 61%|██████    | 61/100 [5:11:29<2:45:27, 254.55s/it]"
     ]
    },
    {
     "name": "stdout",
     "output_type": "stream",
     "text": [
      "Epoch 61: loss = 2.6632\n"
     ]
    },
    {
     "name": "stderr",
     "output_type": "stream",
     "text": [
      " 61%|██████    | 61/100 [5:13:06<2:45:27, 254.55s/it]"
     ]
    },
    {
     "name": "stdout",
     "output_type": "stream",
     "text": [
      "Epoch [61/100] Acc@1: 17.42%, Acc@5: 61.20%\n"
     ]
    },
    {
     "name": "stderr",
     "output_type": "stream",
     "text": [
      " 61%|██████    | 61/100 [5:13:07<2:45:27, 254.55s/it]"
     ]
    },
    {
     "name": "stdout",
     "output_type": "stream",
     "text": [
      "Model saved to ./experiments/mocov3_2025-05-14_06-17-49/weights.pth\n"
     ]
    },
    {
     "name": "stderr",
     "output_type": "stream",
     "text": [
      " 62%|██████▏   | 62/100 [5:13:07<2:36:42, 247.43s/it]"
     ]
    },
    {
     "name": "stdout",
     "output_type": "stream",
     "text": [
      "Latest checkpoint saved to ./experiments/mocov3_2025-05-14_06-17-49/last_checkpoint.pt at epoch 61\n"
     ]
    },
    {
     "name": "stderr",
     "output_type": "stream",
     "text": [
      " 62%|██████▏   | 62/100 [5:15:20<2:36:42, 247.43s/it]"
     ]
    },
    {
     "name": "stdout",
     "output_type": "stream",
     "text": [
      "Epoch 62: loss = 2.6626\n"
     ]
    },
    {
     "name": "stderr",
     "output_type": "stream",
     "text": [
      " 62%|██████▏   | 62/100 [5:16:57<2:36:42, 247.43s/it]"
     ]
    },
    {
     "name": "stdout",
     "output_type": "stream",
     "text": [
      "Epoch [62/100] Acc@1: 16.71%, Acc@5: 60.49%\n"
     ]
    },
    {
     "name": "stderr",
     "output_type": "stream",
     "text": [
      " 62%|██████▏   | 62/100 [5:16:57<2:36:42, 247.43s/it]"
     ]
    },
    {
     "name": "stdout",
     "output_type": "stream",
     "text": [
      "Model saved to ./experiments/mocov3_2025-05-14_06-17-49/weights.pth\n"
     ]
    },
    {
     "name": "stderr",
     "output_type": "stream",
     "text": [
      " 63%|██████▎   | 63/100 [5:16:58<2:29:29, 242.41s/it]"
     ]
    },
    {
     "name": "stdout",
     "output_type": "stream",
     "text": [
      "Latest checkpoint saved to ./experiments/mocov3_2025-05-14_06-17-49/last_checkpoint.pt at epoch 62\n"
     ]
    },
    {
     "name": "stderr",
     "output_type": "stream",
     "text": [
      " 63%|██████▎   | 63/100 [5:19:11<2:29:29, 242.41s/it]"
     ]
    },
    {
     "name": "stdout",
     "output_type": "stream",
     "text": [
      "Epoch 63: loss = 2.6617\n"
     ]
    },
    {
     "name": "stderr",
     "output_type": "stream",
     "text": [
      " 63%|██████▎   | 63/100 [5:20:48<2:29:29, 242.41s/it]"
     ]
    },
    {
     "name": "stdout",
     "output_type": "stream",
     "text": [
      "Epoch [63/100] Acc@1: 16.71%, Acc@5: 61.42%\n"
     ]
    },
    {
     "name": "stderr",
     "output_type": "stream",
     "text": [
      " 63%|██████▎   | 63/100 [5:20:48<2:29:29, 242.41s/it]"
     ]
    },
    {
     "name": "stdout",
     "output_type": "stream",
     "text": [
      "Model saved to ./experiments/mocov3_2025-05-14_06-17-49/weights.pth\n"
     ]
    },
    {
     "name": "stderr",
     "output_type": "stream",
     "text": [
      " 64%|██████▍   | 64/100 [5:20:49<2:23:22, 238.95s/it]"
     ]
    },
    {
     "name": "stdout",
     "output_type": "stream",
     "text": [
      "Latest checkpoint saved to ./experiments/mocov3_2025-05-14_06-17-49/last_checkpoint.pt at epoch 63\n"
     ]
    },
    {
     "name": "stderr",
     "output_type": "stream",
     "text": [
      " 64%|██████▍   | 64/100 [5:23:02<2:23:22, 238.95s/it]"
     ]
    },
    {
     "name": "stdout",
     "output_type": "stream",
     "text": [
      "Epoch 64: loss = 2.6616\n"
     ]
    },
    {
     "name": "stderr",
     "output_type": "stream",
     "text": [
      " 64%|██████▍   | 64/100 [5:24:39<2:23:22, 238.95s/it]"
     ]
    },
    {
     "name": "stdout",
     "output_type": "stream",
     "text": [
      "Epoch [64/100] Acc@1: 16.98%, Acc@5: 61.07%\n"
     ]
    },
    {
     "name": "stderr",
     "output_type": "stream",
     "text": [
      " 64%|██████▍   | 64/100 [5:24:39<2:23:22, 238.95s/it]"
     ]
    },
    {
     "name": "stdout",
     "output_type": "stream",
     "text": [
      "Model saved to ./experiments/mocov3_2025-05-14_06-17-49/weights.pth\n"
     ]
    },
    {
     "name": "stderr",
     "output_type": "stream",
     "text": [
      " 65%|██████▌   | 65/100 [5:24:39<2:17:57, 236.49s/it]"
     ]
    },
    {
     "name": "stdout",
     "output_type": "stream",
     "text": [
      "Latest checkpoint saved to ./experiments/mocov3_2025-05-14_06-17-49/last_checkpoint.pt at epoch 64\n"
     ]
    },
    {
     "name": "stderr",
     "output_type": "stream",
     "text": [
      " 65%|██████▌   | 65/100 [5:26:53<2:17:57, 236.49s/it]"
     ]
    },
    {
     "name": "stdout",
     "output_type": "stream",
     "text": [
      "Epoch 65: loss = 2.6612\n"
     ]
    },
    {
     "name": "stderr",
     "output_type": "stream",
     "text": [
      " 65%|██████▌   | 65/100 [5:28:29<2:17:57, 236.49s/it]"
     ]
    },
    {
     "name": "stdout",
     "output_type": "stream",
     "text": [
      "Epoch [65/100] Acc@1: 17.07%, Acc@5: 61.29%\n"
     ]
    },
    {
     "name": "stderr",
     "output_type": "stream",
     "text": [
      " 65%|██████▌   | 65/100 [5:28:30<2:17:57, 236.49s/it]"
     ]
    },
    {
     "name": "stdout",
     "output_type": "stream",
     "text": [
      "Model saved to ./experiments/mocov3_2025-05-14_06-17-49/weights.pth\n"
     ]
    },
    {
     "name": "stderr",
     "output_type": "stream",
     "text": [
      " 66%|██████▌   | 66/100 [5:28:30<2:13:04, 234.85s/it]"
     ]
    },
    {
     "name": "stdout",
     "output_type": "stream",
     "text": [
      "Latest checkpoint saved to ./experiments/mocov3_2025-05-14_06-17-49/last_checkpoint.pt at epoch 65\n"
     ]
    },
    {
     "name": "stderr",
     "output_type": "stream",
     "text": [
      " 66%|██████▌   | 66/100 [5:30:44<2:13:04, 234.85s/it]"
     ]
    },
    {
     "name": "stdout",
     "output_type": "stream",
     "text": [
      "Epoch 66: loss = 2.6602\n"
     ]
    },
    {
     "name": "stderr",
     "output_type": "stream",
     "text": [
      " 66%|██████▌   | 66/100 [5:32:20<2:13:04, 234.85s/it]"
     ]
    },
    {
     "name": "stdout",
     "output_type": "stream",
     "text": [
      "Epoch [66/100] Acc@1: 17.02%, Acc@5: 61.07%\n"
     ]
    },
    {
     "name": "stderr",
     "output_type": "stream",
     "text": [
      " 66%|██████▌   | 66/100 [5:32:21<2:13:04, 234.85s/it]"
     ]
    },
    {
     "name": "stdout",
     "output_type": "stream",
     "text": [
      "Model saved to ./experiments/mocov3_2025-05-14_06-17-49/weights.pth\n"
     ]
    },
    {
     "name": "stderr",
     "output_type": "stream",
     "text": [
      " 67%|██████▋   | 67/100 [5:32:21<2:08:32, 233.70s/it]"
     ]
    },
    {
     "name": "stdout",
     "output_type": "stream",
     "text": [
      "Latest checkpoint saved to ./experiments/mocov3_2025-05-14_06-17-49/last_checkpoint.pt at epoch 66\n"
     ]
    },
    {
     "name": "stderr",
     "output_type": "stream",
     "text": [
      " 67%|██████▋   | 67/100 [5:34:35<2:08:32, 233.70s/it]"
     ]
    },
    {
     "name": "stdout",
     "output_type": "stream",
     "text": [
      "Epoch 67: loss = 2.6605\n"
     ]
    },
    {
     "name": "stderr",
     "output_type": "stream",
     "text": [
      " 67%|██████▋   | 67/100 [5:36:11<2:08:32, 233.70s/it]"
     ]
    },
    {
     "name": "stdout",
     "output_type": "stream",
     "text": [
      "Epoch [67/100] Acc@1: 17.24%, Acc@5: 60.71%\n"
     ]
    },
    {
     "name": "stderr",
     "output_type": "stream",
     "text": [
      " 68%|██████▊   | 68/100 [5:36:12<2:04:08, 232.75s/it]"
     ]
    },
    {
     "name": "stdout",
     "output_type": "stream",
     "text": [
      "Latest checkpoint saved to ./experiments/mocov3_2025-05-14_06-17-49/last_checkpoint.pt at epoch 67\n"
     ]
    },
    {
     "name": "stderr",
     "output_type": "stream",
     "text": [
      " 68%|██████▊   | 68/100 [5:38:25<2:04:08, 232.75s/it]"
     ]
    },
    {
     "name": "stdout",
     "output_type": "stream",
     "text": [
      "Epoch 68: loss = 2.6597\n"
     ]
    },
    {
     "name": "stderr",
     "output_type": "stream",
     "text": [
      " 68%|██████▊   | 68/100 [5:40:02<2:04:08, 232.75s/it]"
     ]
    },
    {
     "name": "stdout",
     "output_type": "stream",
     "text": [
      "Epoch [68/100] Acc@1: 17.42%, Acc@5: 60.84%\n"
     ]
    },
    {
     "name": "stderr",
     "output_type": "stream",
     "text": [
      " 68%|██████▊   | 68/100 [5:40:02<2:04:08, 232.75s/it]"
     ]
    },
    {
     "name": "stdout",
     "output_type": "stream",
     "text": [
      "Model saved to ./experiments/mocov3_2025-05-14_06-17-49/weights.pth\n"
     ]
    },
    {
     "name": "stderr",
     "output_type": "stream",
     "text": [
      " 69%|██████▉   | 69/100 [5:40:03<1:59:56, 232.13s/it]"
     ]
    },
    {
     "name": "stdout",
     "output_type": "stream",
     "text": [
      "Latest checkpoint saved to ./experiments/mocov3_2025-05-14_06-17-49/last_checkpoint.pt at epoch 68\n"
     ]
    },
    {
     "name": "stderr",
     "output_type": "stream",
     "text": [
      " 69%|██████▉   | 69/100 [5:42:16<1:59:56, 232.13s/it]"
     ]
    },
    {
     "name": "stdout",
     "output_type": "stream",
     "text": [
      "Epoch 69: loss = 2.6586\n"
     ]
    },
    {
     "name": "stderr",
     "output_type": "stream",
     "text": [
      " 69%|██████▉   | 69/100 [5:43:52<1:59:56, 232.13s/it]"
     ]
    },
    {
     "name": "stdout",
     "output_type": "stream",
     "text": [
      "Epoch [69/100] Acc@1: 16.62%, Acc@5: 60.49%\n"
     ]
    },
    {
     "name": "stderr",
     "output_type": "stream",
     "text": [
      " 69%|██████▉   | 69/100 [5:43:53<1:59:56, 232.13s/it]"
     ]
    },
    {
     "name": "stdout",
     "output_type": "stream",
     "text": [
      "Model saved to ./experiments/mocov3_2025-05-14_06-17-49/weights.pth\n"
     ]
    },
    {
     "name": "stderr",
     "output_type": "stream",
     "text": [
      " 70%|███████   | 70/100 [5:43:53<1:55:51, 231.71s/it]"
     ]
    },
    {
     "name": "stdout",
     "output_type": "stream",
     "text": [
      "Latest checkpoint saved to ./experiments/mocov3_2025-05-14_06-17-49/last_checkpoint.pt at epoch 69\n"
     ]
    },
    {
     "name": "stderr",
     "output_type": "stream",
     "text": [
      " 70%|███████   | 70/100 [5:46:07<1:55:51, 231.71s/it]"
     ]
    },
    {
     "name": "stdout",
     "output_type": "stream",
     "text": [
      "Epoch 70: loss = 2.6593\n"
     ]
    },
    {
     "name": "stderr",
     "output_type": "stream",
     "text": [
      " 70%|███████   | 70/100 [5:47:43<1:55:51, 231.71s/it]"
     ]
    },
    {
     "name": "stdout",
     "output_type": "stream",
     "text": [
      "Epoch [70/100] Acc@1: 16.76%, Acc@5: 60.53%\n"
     ]
    },
    {
     "name": "stderr",
     "output_type": "stream",
     "text": [
      " 71%|███████   | 71/100 [5:47:44<1:51:48, 231.33s/it]"
     ]
    },
    {
     "name": "stdout",
     "output_type": "stream",
     "text": [
      "Latest checkpoint saved to ./experiments/mocov3_2025-05-14_06-17-49/last_checkpoint.pt at epoch 70\n"
     ]
    },
    {
     "name": "stderr",
     "output_type": "stream",
     "text": [
      " 71%|███████   | 71/100 [5:49:57<1:51:48, 231.33s/it]"
     ]
    },
    {
     "name": "stdout",
     "output_type": "stream",
     "text": [
      "Epoch 71: loss = 2.6589\n"
     ]
    },
    {
     "name": "stderr",
     "output_type": "stream",
     "text": [
      " 71%|███████   | 71/100 [5:51:34<1:51:48, 231.33s/it]"
     ]
    },
    {
     "name": "stdout",
     "output_type": "stream",
     "text": [
      "Epoch [71/100] Acc@1: 17.42%, Acc@5: 61.02%\n"
     ]
    },
    {
     "name": "stderr",
     "output_type": "stream",
     "text": [
      " 72%|███████▏  | 72/100 [5:51:34<1:47:50, 231.09s/it]"
     ]
    },
    {
     "name": "stdout",
     "output_type": "stream",
     "text": [
      "Latest checkpoint saved to ./experiments/mocov3_2025-05-14_06-17-49/last_checkpoint.pt at epoch 71\n"
     ]
    },
    {
     "name": "stderr",
     "output_type": "stream",
     "text": [
      " 72%|███████▏  | 72/100 [5:53:48<1:47:50, 231.09s/it]"
     ]
    },
    {
     "name": "stdout",
     "output_type": "stream",
     "text": [
      "Epoch 72: loss = 2.6594\n"
     ]
    },
    {
     "name": "stderr",
     "output_type": "stream",
     "text": [
      " 72%|███████▏  | 72/100 [5:55:24<1:47:50, 231.09s/it]"
     ]
    },
    {
     "name": "stdout",
     "output_type": "stream",
     "text": [
      "Epoch [72/100] Acc@1: 17.16%, Acc@5: 61.02%\n"
     ]
    },
    {
     "name": "stderr",
     "output_type": "stream",
     "text": [
      " 73%|███████▎  | 73/100 [5:55:25<1:43:54, 230.90s/it]"
     ]
    },
    {
     "name": "stdout",
     "output_type": "stream",
     "text": [
      "Latest checkpoint saved to ./experiments/mocov3_2025-05-14_06-17-49/last_checkpoint.pt at epoch 72\n"
     ]
    },
    {
     "name": "stderr",
     "output_type": "stream",
     "text": [
      " 73%|███████▎  | 73/100 [5:57:38<1:43:54, 230.90s/it]"
     ]
    },
    {
     "name": "stdout",
     "output_type": "stream",
     "text": [
      "Epoch 73: loss = 2.6584\n"
     ]
    },
    {
     "name": "stderr",
     "output_type": "stream",
     "text": [
      " 73%|███████▎  | 73/100 [5:59:15<1:43:54, 230.90s/it]"
     ]
    },
    {
     "name": "stdout",
     "output_type": "stream",
     "text": [
      "Epoch [73/100] Acc@1: 17.73%, Acc@5: 60.93%\n"
     ]
    },
    {
     "name": "stderr",
     "output_type": "stream",
     "text": [
      " 73%|███████▎  | 73/100 [5:59:15<1:43:54, 230.90s/it]"
     ]
    },
    {
     "name": "stdout",
     "output_type": "stream",
     "text": [
      "Model saved to ./experiments/mocov3_2025-05-14_06-17-49/weights.pth\n"
     ]
    },
    {
     "name": "stderr",
     "output_type": "stream",
     "text": [
      " 74%|███████▍  | 74/100 [5:59:16<1:40:03, 230.89s/it]"
     ]
    },
    {
     "name": "stdout",
     "output_type": "stream",
     "text": [
      "Latest checkpoint saved to ./experiments/mocov3_2025-05-14_06-17-49/last_checkpoint.pt at epoch 73\n"
     ]
    },
    {
     "name": "stderr",
     "output_type": "stream",
     "text": [
      " 74%|███████▍  | 74/100 [6:01:29<1:40:03, 230.89s/it]"
     ]
    },
    {
     "name": "stdout",
     "output_type": "stream",
     "text": [
      "Epoch 74: loss = 2.6604\n"
     ]
    },
    {
     "name": "stderr",
     "output_type": "stream",
     "text": [
      " 74%|███████▍  | 74/100 [6:03:06<1:40:03, 230.89s/it]"
     ]
    },
    {
     "name": "stdout",
     "output_type": "stream",
     "text": [
      "Epoch [74/100] Acc@1: 17.64%, Acc@5: 61.16%\n"
     ]
    },
    {
     "name": "stderr",
     "output_type": "stream",
     "text": [
      " 75%|███████▌  | 75/100 [6:03:06<1:36:09, 230.80s/it]"
     ]
    },
    {
     "name": "stdout",
     "output_type": "stream",
     "text": [
      "Latest checkpoint saved to ./experiments/mocov3_2025-05-14_06-17-49/last_checkpoint.pt at epoch 74\n"
     ]
    },
    {
     "name": "stderr",
     "output_type": "stream",
     "text": [
      " 75%|███████▌  | 75/100 [6:05:19<1:36:09, 230.80s/it]"
     ]
    },
    {
     "name": "stdout",
     "output_type": "stream",
     "text": [
      "Epoch 75: loss = 2.6584\n"
     ]
    },
    {
     "name": "stderr",
     "output_type": "stream",
     "text": [
      " 75%|███████▌  | 75/100 [6:06:56<1:36:09, 230.80s/it]"
     ]
    },
    {
     "name": "stdout",
     "output_type": "stream",
     "text": [
      "Epoch [75/100] Acc@1: 17.02%, Acc@5: 61.24%\n"
     ]
    },
    {
     "name": "stderr",
     "output_type": "stream",
     "text": [
      " 75%|███████▌  | 75/100 [6:06:57<1:36:09, 230.80s/it]"
     ]
    },
    {
     "name": "stdout",
     "output_type": "stream",
     "text": [
      "Model saved to ./experiments/mocov3_2025-05-14_06-17-49/weights.pth\n"
     ]
    },
    {
     "name": "stderr",
     "output_type": "stream",
     "text": [
      " 76%|███████▌  | 76/100 [6:06:57<1:32:20, 230.83s/it]"
     ]
    },
    {
     "name": "stdout",
     "output_type": "stream",
     "text": [
      "Latest checkpoint saved to ./experiments/mocov3_2025-05-14_06-17-49/last_checkpoint.pt at epoch 75\n"
     ]
    },
    {
     "name": "stderr",
     "output_type": "stream",
     "text": [
      " 76%|███████▌  | 76/100 [6:09:10<1:32:20, 230.83s/it]"
     ]
    },
    {
     "name": "stdout",
     "output_type": "stream",
     "text": [
      "Epoch 76: loss = 2.6574\n"
     ]
    },
    {
     "name": "stderr",
     "output_type": "stream",
     "text": [
      " 76%|███████▌  | 76/100 [6:10:47<1:32:20, 230.83s/it]"
     ]
    },
    {
     "name": "stdout",
     "output_type": "stream",
     "text": [
      "Epoch [76/100] Acc@1: 17.60%, Acc@5: 60.80%\n"
     ]
    },
    {
     "name": "stderr",
     "output_type": "stream",
     "text": [
      " 76%|███████▌  | 76/100 [6:10:47<1:32:20, 230.83s/it]"
     ]
    },
    {
     "name": "stdout",
     "output_type": "stream",
     "text": [
      "Model saved to ./experiments/mocov3_2025-05-14_06-17-49/weights.pth\n"
     ]
    },
    {
     "name": "stderr",
     "output_type": "stream",
     "text": [
      " 77%|███████▋  | 77/100 [6:10:48<1:28:28, 230.80s/it]"
     ]
    },
    {
     "name": "stdout",
     "output_type": "stream",
     "text": [
      "Latest checkpoint saved to ./experiments/mocov3_2025-05-14_06-17-49/last_checkpoint.pt at epoch 76\n"
     ]
    },
    {
     "name": "stderr",
     "output_type": "stream",
     "text": [
      " 77%|███████▋  | 77/100 [6:13:01<1:28:28, 230.80s/it]"
     ]
    },
    {
     "name": "stdout",
     "output_type": "stream",
     "text": [
      "Epoch 77: loss = 2.6579\n"
     ]
    },
    {
     "name": "stderr",
     "output_type": "stream",
     "text": [
      " 77%|███████▋  | 77/100 [6:14:38<1:28:28, 230.80s/it]"
     ]
    },
    {
     "name": "stdout",
     "output_type": "stream",
     "text": [
      "Epoch [77/100] Acc@1: 17.11%, Acc@5: 60.84%\n"
     ]
    },
    {
     "name": "stderr",
     "output_type": "stream",
     "text": [
      " 78%|███████▊  | 78/100 [6:14:38<1:24:34, 230.65s/it]"
     ]
    },
    {
     "name": "stdout",
     "output_type": "stream",
     "text": [
      "Latest checkpoint saved to ./experiments/mocov3_2025-05-14_06-17-49/last_checkpoint.pt at epoch 77\n"
     ]
    },
    {
     "name": "stderr",
     "output_type": "stream",
     "text": [
      " 78%|███████▊  | 78/100 [6:16:51<1:24:34, 230.65s/it]"
     ]
    },
    {
     "name": "stdout",
     "output_type": "stream",
     "text": [
      "Epoch 78: loss = 2.6584\n"
     ]
    },
    {
     "name": "stderr",
     "output_type": "stream",
     "text": [
      " 78%|███████▊  | 78/100 [6:18:28<1:24:34, 230.65s/it]"
     ]
    },
    {
     "name": "stdout",
     "output_type": "stream",
     "text": [
      "Epoch [78/100] Acc@1: 17.47%, Acc@5: 60.98%\n"
     ]
    },
    {
     "name": "stderr",
     "output_type": "stream",
     "text": [
      " 79%|███████▉  | 79/100 [6:18:29<1:20:43, 230.62s/it]"
     ]
    },
    {
     "name": "stdout",
     "output_type": "stream",
     "text": [
      "Latest checkpoint saved to ./experiments/mocov3_2025-05-14_06-17-49/last_checkpoint.pt at epoch 78\n"
     ]
    },
    {
     "name": "stderr",
     "output_type": "stream",
     "text": [
      " 79%|███████▉  | 79/100 [6:20:42<1:20:43, 230.62s/it]"
     ]
    },
    {
     "name": "stdout",
     "output_type": "stream",
     "text": [
      "Epoch 79: loss = 2.6580\n"
     ]
    },
    {
     "name": "stderr",
     "output_type": "stream",
     "text": [
      " 79%|███████▉  | 79/100 [6:22:19<1:20:43, 230.62s/it]"
     ]
    },
    {
     "name": "stdout",
     "output_type": "stream",
     "text": [
      "Epoch [79/100] Acc@1: 17.42%, Acc@5: 61.60%\n"
     ]
    },
    {
     "name": "stderr",
     "output_type": "stream",
     "text": [
      " 80%|████████  | 80/100 [6:22:19<1:16:51, 230.58s/it]"
     ]
    },
    {
     "name": "stdout",
     "output_type": "stream",
     "text": [
      "Latest checkpoint saved to ./experiments/mocov3_2025-05-14_06-17-49/last_checkpoint.pt at epoch 79\n"
     ]
    },
    {
     "name": "stderr",
     "output_type": "stream",
     "text": [
      " 80%|████████  | 80/100 [6:24:32<1:16:51, 230.58s/it]"
     ]
    },
    {
     "name": "stdout",
     "output_type": "stream",
     "text": [
      "Epoch 80: loss = 2.6581\n"
     ]
    },
    {
     "name": "stderr",
     "output_type": "stream",
     "text": [
      " 80%|████████  | 80/100 [6:26:09<1:16:51, 230.58s/it]"
     ]
    },
    {
     "name": "stdout",
     "output_type": "stream",
     "text": [
      "Epoch [80/100] Acc@1: 17.07%, Acc@5: 60.93%\n"
     ]
    },
    {
     "name": "stderr",
     "output_type": "stream",
     "text": [
      " 81%|████████  | 81/100 [6:26:10<1:13:00, 230.53s/it]"
     ]
    },
    {
     "name": "stdout",
     "output_type": "stream",
     "text": [
      "Latest checkpoint saved to ./experiments/mocov3_2025-05-14_06-17-49/last_checkpoint.pt at epoch 80\n"
     ]
    },
    {
     "name": "stderr",
     "output_type": "stream",
     "text": [
      " 81%|████████  | 81/100 [6:28:23<1:13:00, 230.53s/it]"
     ]
    },
    {
     "name": "stdout",
     "output_type": "stream",
     "text": [
      "Epoch 81: loss = 2.6592\n"
     ]
    },
    {
     "name": "stderr",
     "output_type": "stream",
     "text": [
      " 81%|████████  | 81/100 [6:29:59<1:13:00, 230.53s/it]"
     ]
    },
    {
     "name": "stdout",
     "output_type": "stream",
     "text": [
      "Epoch [81/100] Acc@1: 17.20%, Acc@5: 61.20%\n"
     ]
    },
    {
     "name": "stderr",
     "output_type": "stream",
     "text": [
      " 82%|████████▏ | 82/100 [6:30:00<1:09:07, 230.43s/it]"
     ]
    },
    {
     "name": "stdout",
     "output_type": "stream",
     "text": [
      "Latest checkpoint saved to ./experiments/mocov3_2025-05-14_06-17-49/last_checkpoint.pt at epoch 81\n"
     ]
    },
    {
     "name": "stderr",
     "output_type": "stream",
     "text": [
      " 82%|████████▏ | 82/100 [6:32:13<1:09:07, 230.43s/it]"
     ]
    },
    {
     "name": "stdout",
     "output_type": "stream",
     "text": [
      "Epoch 82: loss = 2.6589\n"
     ]
    },
    {
     "name": "stderr",
     "output_type": "stream",
     "text": [
      " 82%|████████▏ | 82/100 [6:33:50<1:09:07, 230.43s/it]"
     ]
    },
    {
     "name": "stdout",
     "output_type": "stream",
     "text": [
      "Epoch [82/100] Acc@1: 17.51%, Acc@5: 61.07%\n"
     ]
    },
    {
     "name": "stderr",
     "output_type": "stream",
     "text": [
      " 83%|████████▎ | 83/100 [6:33:50<1:05:16, 230.39s/it]"
     ]
    },
    {
     "name": "stdout",
     "output_type": "stream",
     "text": [
      "Latest checkpoint saved to ./experiments/mocov3_2025-05-14_06-17-49/last_checkpoint.pt at epoch 82\n"
     ]
    },
    {
     "name": "stderr",
     "output_type": "stream",
     "text": [
      " 83%|████████▎ | 83/100 [6:36:03<1:05:16, 230.39s/it]"
     ]
    },
    {
     "name": "stdout",
     "output_type": "stream",
     "text": [
      "Epoch 83: loss = 2.6574\n"
     ]
    },
    {
     "name": "stderr",
     "output_type": "stream",
     "text": [
      " 83%|████████▎ | 83/100 [6:37:40<1:05:16, 230.39s/it]"
     ]
    },
    {
     "name": "stdout",
     "output_type": "stream",
     "text": [
      "Epoch [83/100] Acc@1: 17.33%, Acc@5: 61.38%\n"
     ]
    },
    {
     "name": "stderr",
     "output_type": "stream",
     "text": [
      " 83%|████████▎ | 83/100 [6:37:40<1:05:16, 230.39s/it]"
     ]
    },
    {
     "name": "stdout",
     "output_type": "stream",
     "text": [
      "Model saved to ./experiments/mocov3_2025-05-14_06-17-49/weights.pth\n"
     ]
    },
    {
     "name": "stderr",
     "output_type": "stream",
     "text": [
      " 84%|████████▍ | 84/100 [6:37:41<1:01:27, 230.48s/it]"
     ]
    },
    {
     "name": "stdout",
     "output_type": "stream",
     "text": [
      "Latest checkpoint saved to ./experiments/mocov3_2025-05-14_06-17-49/last_checkpoint.pt at epoch 83\n"
     ]
    },
    {
     "name": "stderr",
     "output_type": "stream",
     "text": [
      " 84%|████████▍ | 84/100 [6:39:54<1:01:27, 230.48s/it]"
     ]
    },
    {
     "name": "stdout",
     "output_type": "stream",
     "text": [
      "Epoch 84: loss = 2.6572\n"
     ]
    },
    {
     "name": "stderr",
     "output_type": "stream",
     "text": [
      " 84%|████████▍ | 84/100 [6:41:30<1:01:27, 230.48s/it]"
     ]
    },
    {
     "name": "stdout",
     "output_type": "stream",
     "text": [
      "Epoch [84/100] Acc@1: 17.47%, Acc@5: 61.73%\n"
     ]
    },
    {
     "name": "stderr",
     "output_type": "stream",
     "text": [
      " 84%|████████▍ | 84/100 [6:41:31<1:01:27, 230.48s/it]"
     ]
    },
    {
     "name": "stdout",
     "output_type": "stream",
     "text": [
      "Model saved to ./experiments/mocov3_2025-05-14_06-17-49/weights.pth\n"
     ]
    },
    {
     "name": "stderr",
     "output_type": "stream",
     "text": [
      " 85%|████████▌ | 85/100 [6:41:31<57:37, 230.47s/it]  "
     ]
    },
    {
     "name": "stdout",
     "output_type": "stream",
     "text": [
      "Latest checkpoint saved to ./experiments/mocov3_2025-05-14_06-17-49/last_checkpoint.pt at epoch 84\n"
     ]
    },
    {
     "name": "stderr",
     "output_type": "stream",
     "text": [
      " 85%|████████▌ | 85/100 [6:43:44<57:37, 230.47s/it]"
     ]
    },
    {
     "name": "stdout",
     "output_type": "stream",
     "text": [
      "Epoch 85: loss = 2.6579\n"
     ]
    },
    {
     "name": "stderr",
     "output_type": "stream",
     "text": [
      " 85%|████████▌ | 85/100 [6:45:21<57:37, 230.47s/it]"
     ]
    },
    {
     "name": "stdout",
     "output_type": "stream",
     "text": [
      "Epoch [85/100] Acc@1: 17.51%, Acc@5: 61.47%\n"
     ]
    },
    {
     "name": "stderr",
     "output_type": "stream",
     "text": [
      " 86%|████████▌ | 86/100 [6:45:21<53:45, 230.38s/it]"
     ]
    },
    {
     "name": "stdout",
     "output_type": "stream",
     "text": [
      "Latest checkpoint saved to ./experiments/mocov3_2025-05-14_06-17-49/last_checkpoint.pt at epoch 85\n"
     ]
    },
    {
     "name": "stderr",
     "output_type": "stream",
     "text": [
      " 86%|████████▌ | 86/100 [6:47:34<53:45, 230.38s/it]"
     ]
    },
    {
     "name": "stdout",
     "output_type": "stream",
     "text": [
      "Epoch 86: loss = 2.6581\n"
     ]
    },
    {
     "name": "stderr",
     "output_type": "stream",
     "text": [
      " 86%|████████▌ | 86/100 [6:49:11<53:45, 230.38s/it]"
     ]
    },
    {
     "name": "stdout",
     "output_type": "stream",
     "text": [
      "Epoch [86/100] Acc@1: 17.24%, Acc@5: 60.93%\n"
     ]
    },
    {
     "name": "stderr",
     "output_type": "stream",
     "text": [
      " 87%|████████▋ | 87/100 [6:49:11<49:53, 230.27s/it]"
     ]
    },
    {
     "name": "stdout",
     "output_type": "stream",
     "text": [
      "Latest checkpoint saved to ./experiments/mocov3_2025-05-14_06-17-49/last_checkpoint.pt at epoch 86\n"
     ]
    },
    {
     "name": "stderr",
     "output_type": "stream",
     "text": [
      " 87%|████████▋ | 87/100 [6:51:24<49:53, 230.27s/it]"
     ]
    },
    {
     "name": "stdout",
     "output_type": "stream",
     "text": [
      "Epoch 87: loss = 2.6577\n"
     ]
    },
    {
     "name": "stderr",
     "output_type": "stream",
     "text": [
      " 87%|████████▋ | 87/100 [6:53:01<49:53, 230.27s/it]"
     ]
    },
    {
     "name": "stdout",
     "output_type": "stream",
     "text": [
      "Epoch [87/100] Acc@1: 16.93%, Acc@5: 60.76%\n"
     ]
    },
    {
     "name": "stderr",
     "output_type": "stream",
     "text": [
      " 88%|████████▊ | 88/100 [6:53:02<46:02, 230.24s/it]"
     ]
    },
    {
     "name": "stdout",
     "output_type": "stream",
     "text": [
      "Latest checkpoint saved to ./experiments/mocov3_2025-05-14_06-17-49/last_checkpoint.pt at epoch 87\n"
     ]
    },
    {
     "name": "stderr",
     "output_type": "stream",
     "text": [
      " 88%|████████▊ | 88/100 [6:55:14<46:02, 230.24s/it]"
     ]
    },
    {
     "name": "stdout",
     "output_type": "stream",
     "text": [
      "Epoch 88: loss = 2.6570\n"
     ]
    },
    {
     "name": "stderr",
     "output_type": "stream",
     "text": [
      " 88%|████████▊ | 88/100 [6:56:51<46:02, 230.24s/it]"
     ]
    },
    {
     "name": "stdout",
     "output_type": "stream",
     "text": [
      "Epoch [88/100] Acc@1: 17.38%, Acc@5: 61.02%\n"
     ]
    },
    {
     "name": "stderr",
     "output_type": "stream",
     "text": [
      " 88%|████████▊ | 88/100 [6:56:51<46:02, 230.24s/it]"
     ]
    },
    {
     "name": "stdout",
     "output_type": "stream",
     "text": [
      "Model saved to ./experiments/mocov3_2025-05-14_06-17-49/weights.pth\n"
     ]
    },
    {
     "name": "stderr",
     "output_type": "stream",
     "text": [
      " 89%|████████▉ | 89/100 [6:56:52<42:12, 230.27s/it]"
     ]
    },
    {
     "name": "stdout",
     "output_type": "stream",
     "text": [
      "Latest checkpoint saved to ./experiments/mocov3_2025-05-14_06-17-49/last_checkpoint.pt at epoch 88\n"
     ]
    },
    {
     "name": "stderr",
     "output_type": "stream",
     "text": [
      " 89%|████████▉ | 89/100 [6:59:05<42:12, 230.27s/it]"
     ]
    },
    {
     "name": "stdout",
     "output_type": "stream",
     "text": [
      "Epoch 89: loss = 2.6573\n"
     ]
    },
    {
     "name": "stderr",
     "output_type": "stream",
     "text": [
      " 89%|████████▉ | 89/100 [7:00:42<42:12, 230.27s/it]"
     ]
    },
    {
     "name": "stdout",
     "output_type": "stream",
     "text": [
      "Epoch [89/100] Acc@1: 17.60%, Acc@5: 61.56%\n"
     ]
    },
    {
     "name": "stderr",
     "output_type": "stream",
     "text": [
      " 90%|█████████ | 90/100 [7:00:42<38:22, 230.25s/it]"
     ]
    },
    {
     "name": "stdout",
     "output_type": "stream",
     "text": [
      "Latest checkpoint saved to ./experiments/mocov3_2025-05-14_06-17-49/last_checkpoint.pt at epoch 89\n"
     ]
    },
    {
     "name": "stderr",
     "output_type": "stream",
     "text": [
      " 90%|█████████ | 90/100 [7:02:55<38:22, 230.25s/it]"
     ]
    },
    {
     "name": "stdout",
     "output_type": "stream",
     "text": [
      "Epoch 90: loss = 2.6577\n"
     ]
    },
    {
     "name": "stderr",
     "output_type": "stream",
     "text": [
      " 90%|█████████ | 90/100 [7:04:32<38:22, 230.25s/it]"
     ]
    },
    {
     "name": "stdout",
     "output_type": "stream",
     "text": [
      "Epoch [90/100] Acc@1: 17.56%, Acc@5: 61.78%\n"
     ]
    },
    {
     "name": "stderr",
     "output_type": "stream",
     "text": [
      " 91%|█████████ | 91/100 [7:04:32<34:31, 230.22s/it]"
     ]
    },
    {
     "name": "stdout",
     "output_type": "stream",
     "text": [
      "Latest checkpoint saved to ./experiments/mocov3_2025-05-14_06-17-49/last_checkpoint.pt at epoch 90\n"
     ]
    },
    {
     "name": "stderr",
     "output_type": "stream",
     "text": [
      " 91%|█████████ | 91/100 [7:06:45<34:31, 230.22s/it]"
     ]
    },
    {
     "name": "stdout",
     "output_type": "stream",
     "text": [
      "Epoch 91: loss = 2.6581\n"
     ]
    },
    {
     "name": "stderr",
     "output_type": "stream",
     "text": [
      " 91%|█████████ | 91/100 [7:08:22<34:31, 230.22s/it]"
     ]
    },
    {
     "name": "stdout",
     "output_type": "stream",
     "text": [
      "Epoch [91/100] Acc@1: 17.29%, Acc@5: 61.60%\n"
     ]
    },
    {
     "name": "stderr",
     "output_type": "stream",
     "text": [
      " 92%|█████████▏| 92/100 [7:08:23<30:42, 230.35s/it]"
     ]
    },
    {
     "name": "stdout",
     "output_type": "stream",
     "text": [
      "Latest checkpoint saved to ./experiments/mocov3_2025-05-14_06-17-49/last_checkpoint.pt at epoch 91\n"
     ]
    },
    {
     "name": "stderr",
     "output_type": "stream",
     "text": [
      " 92%|█████████▏| 92/100 [7:10:36<30:42, 230.35s/it]"
     ]
    },
    {
     "name": "stdout",
     "output_type": "stream",
     "text": [
      "Epoch 92: loss = 2.6565\n"
     ]
    },
    {
     "name": "stderr",
     "output_type": "stream",
     "text": [
      " 92%|█████████▏| 92/100 [7:12:13<30:42, 230.35s/it]"
     ]
    },
    {
     "name": "stdout",
     "output_type": "stream",
     "text": [
      "Epoch [92/100] Acc@1: 17.64%, Acc@5: 61.51%\n"
     ]
    },
    {
     "name": "stderr",
     "output_type": "stream",
     "text": [
      " 92%|█████████▏| 92/100 [7:12:13<30:42, 230.35s/it]"
     ]
    },
    {
     "name": "stdout",
     "output_type": "stream",
     "text": [
      "Model saved to ./experiments/mocov3_2025-05-14_06-17-49/weights.pth\n"
     ]
    },
    {
     "name": "stderr",
     "output_type": "stream",
     "text": [
      " 93%|█████████▎| 93/100 [7:12:13<26:52, 230.39s/it]"
     ]
    },
    {
     "name": "stdout",
     "output_type": "stream",
     "text": [
      "Latest checkpoint saved to ./experiments/mocov3_2025-05-14_06-17-49/last_checkpoint.pt at epoch 92\n"
     ]
    },
    {
     "name": "stderr",
     "output_type": "stream",
     "text": [
      " 93%|█████████▎| 93/100 [7:14:27<26:52, 230.39s/it]"
     ]
    },
    {
     "name": "stdout",
     "output_type": "stream",
     "text": [
      "Epoch 93: loss = 2.6574\n"
     ]
    },
    {
     "name": "stderr",
     "output_type": "stream",
     "text": [
      " 93%|█████████▎| 93/100 [7:16:03<26:52, 230.39s/it]"
     ]
    },
    {
     "name": "stdout",
     "output_type": "stream",
     "text": [
      "Epoch [93/100] Acc@1: 17.51%, Acc@5: 61.47%\n"
     ]
    },
    {
     "name": "stderr",
     "output_type": "stream",
     "text": [
      " 94%|█████████▍| 94/100 [7:16:04<23:02, 230.42s/it]"
     ]
    },
    {
     "name": "stdout",
     "output_type": "stream",
     "text": [
      "Latest checkpoint saved to ./experiments/mocov3_2025-05-14_06-17-49/last_checkpoint.pt at epoch 93\n"
     ]
    },
    {
     "name": "stderr",
     "output_type": "stream",
     "text": [
      " 94%|█████████▍| 94/100 [7:18:19<23:02, 230.42s/it]"
     ]
    },
    {
     "name": "stdout",
     "output_type": "stream",
     "text": [
      "Epoch 94: loss = 2.6576\n"
     ]
    },
    {
     "name": "stderr",
     "output_type": "stream",
     "text": [
      " 94%|█████████▍| 94/100 [7:21:12<23:02, 230.42s/it]"
     ]
    },
    {
     "name": "stdout",
     "output_type": "stream",
     "text": [
      "Epoch [94/100] Acc@1: 17.42%, Acc@5: 61.47%\n"
     ]
    },
    {
     "name": "stderr",
     "output_type": "stream",
     "text": [
      " 95%|█████████▌| 95/100 [7:21:13<21:10, 254.04s/it]"
     ]
    },
    {
     "name": "stdout",
     "output_type": "stream",
     "text": [
      "Latest checkpoint saved to ./experiments/mocov3_2025-05-14_06-17-49/last_checkpoint.pt at epoch 94\n"
     ]
    },
    {
     "name": "stderr",
     "output_type": "stream",
     "text": [
      " 95%|█████████▌| 95/100 [7:24:57<21:10, 254.04s/it]"
     ]
    },
    {
     "name": "stdout",
     "output_type": "stream",
     "text": [
      "Epoch 95: loss = 2.6578\n"
     ]
    },
    {
     "name": "stderr",
     "output_type": "stream",
     "text": []
    }
   ],
   "source": [
    "# add the label encoder angles to the config\n",
    "with open(\"label_encoder_angles.yaml\", \"r\") as f:\n",
    "    label_encoder_angles = yaml.safe_load(f)\n",
    "config.update(**label_encoder_angles)\n",
    "# dump the config\n",
    "path = os.path.join(\"./experiments\", config[\"experiment_name\"])\n",
    "os.makedirs(path, exist_ok=True)\n",
    "with open(os.path.join(path, \"config.yaml\"), \"w\") as f:\n",
    "    yaml.dump(config, f, default_flow_style=False)\n",
    "\n",
    "optim = LARS(\n",
    "    model.parameters(),\n",
    "    lr=config[\"learning_rate\"] * config[\"batch_size\"] / 256,\n",
    "    weight_decay=config[\"weight_decay\"],\n",
    ")\n",
    "scheduler = torch.optim.lr_scheduler.CosineAnnealingLR(\n",
    "    optim,\n",
    "    T_max=config[\"num_epochs\"],\n",
    "    eta_min=1e-6,\n",
    ")\n",
    "\n",
    "scaler = torch.amp.GradScaler(device=device.type, enabled=True)\n",
    "writer = SummaryWriter(\n",
    "    log_dir=os.path.join(\"./experiments/\", config[\"experiment_name\"]),\n",
    ")\n",
    "tracker = Tracker(\"loss/epoch\", mode=\"min\")\n",
    "\n",
    "start_epoch = 0\n",
    "# resume training from a checkpoint if it exists\n",
    "checkpoint_path = config[\"checkpoint_path\"]\n",
    "if checkpoint_path and os.path.exists(checkpoint_path):\n",
    "    checkpoint = torch.load(checkpoint_path)\n",
    "    model.load_state_dict(checkpoint[\"state_dict\"])\n",
    "    optim.load_state_dict(checkpoint[\"opt_state_dict\"])\n",
    "    scheduler.load_state_dict(checkpoint[\"sch_state_dict\"])\n",
    "    start_epoch = checkpoint[\"epoch\"]\n",
    "    print(f\"Resuming training from epoch {start_epoch}\")\n",
    "\n",
    "step = 0\n",
    "with tqdm(range(start_epoch, config[\"num_epochs\"])) as master_bar:\n",
    "    for epoch in master_bar:\n",
    "        model.train()\n",
    "        avg_loss = 0.0\n",
    "        moco_m = config[\"moco_m\"]  # reset every epoch\n",
    "        with tqdm(train_loader, leave=False) as pbar:\n",
    "            for (xb1, xb2), _ in pbar:\n",
    "                xb1, xb2 = xb1.to(device), xb2.to(device)\n",
    "                optim.zero_grad()\n",
    "\n",
    "                moco_m = adjust_moco_momentum(epoch, config)\n",
    "                with torch.amp.autocast(device_type=device.type,\n",
    "                                        enabled=True):\n",
    "                    loss, *_ = model(xb1, xb2, moco_m)\n",
    "\n",
    "                scaler.scale(loss).backward()\n",
    "                # # clip gradients\n",
    "                # scaler.unscale_(optim)\n",
    "                # norm = torch.nn.utils.clip_grad_norm_(\n",
    "                #     model.parameters(), 1.0, norm_type=2\n",
    "                # )\n",
    "                scaler.step(optim)\n",
    "                scaler.update()\n",
    "\n",
    "                avg_loss += loss.item()\n",
    "\n",
    "                pbar.set_postfix(\n",
    "                    {\"loss/step\": loss.item(),\n",
    "                     #  \"norm\": norm.item()\n",
    "                     })\n",
    "                writer.add_scalar(\"loss/step\", loss.item(), step)\n",
    "                # writer.add_scalar(\"norm/step\", norm.item(), step)\n",
    "                step += 1\n",
    "                pbar.update(1)\n",
    "\n",
    "        avg_loss /= len(train_loader)\n",
    "        writer.add_scalar(\"loss/epoch\", avg_loss, epoch)\n",
    "        master_bar.write(f\"Epoch {epoch}: loss = {avg_loss:.4f}\")\n",
    "        scheduler.step()\n",
    "        writer.add_scalar(\n",
    "            \"learning_rate/epoch\",\n",
    "            optim.param_groups[0][\"lr\"],\n",
    "            epoch,\n",
    "        )\n",
    "\n",
    "        # evaluate the model\n",
    "        knn_evaluate(\n",
    "            model,\n",
    "            memory_loader,\n",
    "            test_loader,\n",
    "            epoch,\n",
    "            config,\n",
    "            master_bar,\n",
    "            writer,\n",
    "            device,\n",
    "        )\n",
    "\n",
    "        writer.flush()\n",
    "        if tracker.operator(avg_loss, tracker.best):\n",
    "            tracker.best = avg_loss\n",
    "            # Save the model checkpoint\n",
    "            checkpoint_path = os.path.join(\n",
    "                \"./experiments\", f\"{config['experiment_name']}/weights.pth\"\n",
    "            )\n",
    "            torch.save(model.state_dict(), checkpoint_path)\n",
    "            master_bar.write(f\"Model saved to {checkpoint_path}\")\n",
    "        # save the latest checkpoint\n",
    "        checkpoint_path = os.path.join(\n",
    "            \"./experiments\", f\"{config['experiment_name']}/last_checkpoint.pt\")\n",
    "        torch.save({\n",
    "            \"state_dict\": model.state_dict(),\n",
    "            \"opt_state_dict\": optim.state_dict(),\n",
    "            \"sch_state_dict\": scheduler.state_dict(),\n",
    "            \"epoch\": epoch}, checkpoint_path)\n",
    "        master_bar.write(\n",
    "            f\"Latest checkpoint saved to {checkpoint_path} at epoch {epoch}\"\n",
    "        )\n",
    "\n",
    "writer.close()\n",
    "print(\"Training complete.\")"
   ]
  },
  {
   "cell_type": "markdown",
   "id": "89690c35",
   "metadata": {},
   "source": [
    "**Notes**:\n",
    "\n",
    "- MoCov3 converges to about 18% top1 accuracy and 62% top5 accuracy with a portion of the dataset which will serve as baseline (trained for about 7 hours)\n",
    "\n",
    "**Next Steps**:\n",
    "\n",
    "- Implement MoCo and compare results"
   ]
  },
  {
   "cell_type": "markdown",
   "id": "0433bf30",
   "metadata": {},
   "source": [
    "### **Linear Probing**"
   ]
  },
  {
   "cell_type": "code",
   "execution_count": null,
   "id": "3b3d621f",
   "metadata": {},
   "outputs": [],
   "source": []
  }
 ],
 "metadata": {
  "kernelspec": {
   "display_name": "venv",
   "language": "python",
   "name": "python3"
  },
  "language_info": {
   "codemirror_mode": {
    "name": "ipython",
    "version": 3
   },
   "file_extension": ".py",
   "mimetype": "text/x-python",
   "name": "python",
   "nbconvert_exporter": "python",
   "pygments_lexer": "ipython3",
   "version": "3.10.12"
  }
 },
 "nbformat": 4,
 "nbformat_minor": 5
}
