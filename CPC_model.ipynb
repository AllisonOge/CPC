{
 "cells": [
  {
   "cell_type": "code",
   "execution_count": 1,
   "id": "5a3f7641",
   "metadata": {},
   "outputs": [
    {
     "name": "stderr",
     "output_type": "stream",
     "text": [
      "/home/ogech/CPC/venv/lib/python3.10/site-packages/tqdm/auto.py:21: TqdmWarning: IProgress not found. Please update jupyter and ipywidgets. See https://ipywidgets.readthedocs.io/en/stable/user_install.html\n",
      "  from .autonotebook import tqdm as notebook_tqdm\n"
     ]
    }
   ],
   "source": [
    "import torch\n",
    "import torch.nn as nn\n",
    "import torch.nn.functional as F\n",
    "import timm"
   ]
  },
  {
   "cell_type": "markdown",
   "id": "71fd0853",
   "metadata": {},
   "source": [
    "**Possible next steps**\n",
    "\n",
    "- Potential datasets; R22, RF fingerprinting and RF class dataset"
   ]
  },
  {
   "cell_type": "markdown",
   "id": "5f9d1e6d",
   "metadata": {},
   "source": [
    "### **CPC model development**"
   ]
  },
  {
   "cell_type": "code",
   "execution_count": 2,
   "id": "a4f469fc",
   "metadata": {},
   "outputs": [],
   "source": [
    "class CPC(nn.Module):\n",
    "    def __init__(self,\n",
    "                 in_features: int,\n",
    "                 hidden_features: int,\n",
    "                 slice_length: int = 1024,\n",
    "                 history_steps: int = 12,\n",
    "                 drop_rate: float = 0.2,\n",
    "                 drop_path_rate: float = 0.7):\n",
    "        super(CPC, self).__init__()\n",
    "\n",
    "        # define some hyperparameters\n",
    "        self.slice_length = slice_length\n",
    "        self.history_steps = history_steps\n",
    "\n",
    "        # define an encoder\n",
    "        self.encoder = timm.create_model(\n",
    "            \"resnet18\",\n",
    "            in_chans=in_features,\n",
    "            num_classes=hidden_features,\n",
    "            drop_rate=drop_rate,\n",
    "            drop_path_rate=drop_path_rate,\n",
    "        )\n",
    "\n",
    "        # define the autoregressive model\n",
    "        self.autoregressor = nn.GRU(\n",
    "            input_size=hidden_features,\n",
    "            hidden_size=hidden_features,\n",
    "            num_layers=1,\n",
    "            batch_first=True\n",
    "        )\n",
    "\n",
    "    def forward(self, x: torch.Tensor):\n",
    "        # x is of shape (B, Ca, C, T)\n",
    "\n",
    "        # some preprocessing: slice the input into chunks of length slice_length w/o overlap\n",
    "        x = x.unfold(-1, self.slice_length,\n",
    "                     self.slice_length).permute(0, 3, 1, 2, 4)  # (B, num_chunks, Ca, C, slice_length)\n",
    "\n",
    "        # pass the input through the encoder\n",
    "        B, N, Ca, C, T = x.size()\n",
    "        x = self.encoder(x.contiguous().view(B*N, Ca, C, T))\n",
    "        x = x.view(B, N, -1)  # (B, num_chunks, D)\n",
    "\n",
    "        # pass the history_steps chunks through the autoregressive model\n",
    "        h0 = torch.zeros(1, x.size(0), x.size(-1)\n",
    "                         ).to(x.device)  # (num_layers, B, D)\n",
    "\n",
    "        # c, h0 = torch.stack(\n",
    "        #     [self.autoregressor(x[:, :t])\n",
    "        #                         for t in range(1, self.history_steps + 1)]\n",
    "        #     )  # (B, history_steps, D) # noqa\n",
    "\n",
    "        # return c[:, -1], x[:, self.history_steps:], h0\n",
    "\n",
    "        ct = torch.zeros(B, self.history_steps, x.size(-1)).to(x.device)\n",
    "        preds = torch.zeros(B, self.history_steps, x.size(-1)).to(x.device)\n",
    "        for t in range(1, self.history_steps + 1):\n",
    "            out, h0 = self.autoregressor(x[:, :t], h0)\n",
    "            ct[:, t-1, :] = out[:, -1, :]\n",
    "            preds[:, t-1, :] = x[:, t, :]\n",
    "\n",
    "        return ct, preds, h0"
   ]
  },
  {
   "cell_type": "code",
   "execution_count": 3,
   "id": "bcfc0a86",
   "metadata": {},
   "outputs": [],
   "source": [
    "def nt_xent_loss(c_t, z_fut, temperature=1.0):\n",
    "    # c_t and z_fut is of shape (B, K, D)\n",
    "    # normalize the vectors\n",
    "    c_t = F.normalize(c_t, p=2, dim=-1)\n",
    "    z_fut = F.normalize(z_fut, p=2, dim=-1)\n",
    "\n",
    "    B, K, D = z_fut.size()\n",
    "    # compute the cosine similarity\n",
    "    logits = torch.einsum(\"bjd, bkd -> bjk\", c_t, z_fut) / \\\n",
    "        temperature  # (B, K, K)\n",
    "\n",
    "    # plot the logits\n",
    "    # import matplotlib.pyplot as plt\n",
    "    # plt.imshow(logits.view(B*K, K).detach().cpu().numpy(),\n",
    "    #            cmap='hot', interpolation='nearest', aspect='auto')\n",
    "    # positives are the diagonal pairs j == k\n",
    "    true_labels = torch.arange(K).repeat(B).to(c_t.device)  # (B*K,)\n",
    "\n",
    "    # compute the loss\n",
    "    return F.cross_entropy(logits.view(B*K, K), true_labels)"
   ]
  },
  {
   "cell_type": "code",
   "execution_count": 4,
   "id": "ec321334",
   "metadata": {},
   "outputs": [],
   "source": [
    "from torchvision.datasets import DatasetFolder\n",
    "from torch.utils.data import DataLoader\n",
    "import numpy as np\n",
    "from tqdm.autonotebook import tqdm\n",
    "from torch.utils.tensorboard import SummaryWriter\n",
    "from datetime import datetime\n",
    "import os\n",
    "import shutil\n",
    "import yaml\n",
    "import pandas as pd\n",
    "from sklearn.model_selection import train_test_split\n",
    "import copy"
   ]
  },
  {
   "cell_type": "code",
   "execution_count": 5,
   "id": "261654e8",
   "metadata": {},
   "outputs": [],
   "source": [
    "config = {\n",
    "    \"in_features\": 4,\n",
    "    \"hidden_features\": 256,\n",
    "    \"slice_length\": 1024,\n",
    "    \"history_steps\": 8,\n",
    "    \"drop_rate\": 0.0,\n",
    "    \"drop_path_rate\": 0.0,\n",
    "    \"temperature\": 0.1,\n",
    "    \"batch_size\": 128,\n",
    "    \"experiment_name\": f\"cpc_{datetime.now().strftime('%Y-%m-%d_%H-%M-%S')}\",\n",
    "    \"num_epochs\": 100,\n",
    "    \"knn_k\": 200,\n",
    "    \"knn_t\": 0.1,\n",
    "    \"learning_rate\": 1.8e-3,\n",
    "    \"weight_decay\": 2.5e-6,\n",
    "    \"dataset_path\": \"./oct10_outdoor_gain_experiments\",\n",
    "    \"checkpoint_path\": None,\n",
    "    \"comment\": \"CPC model training\",\n",
    "}"
   ]
  },
  {
   "cell_type": "markdown",
   "id": "68ed2ae3",
   "metadata": {},
   "source": [
    "### **Data prep**"
   ]
  },
  {
   "cell_type": "code",
   "execution_count": null,
   "id": "d666d937",
   "metadata": {},
   "outputs": [],
   "source": [
    "# split the dataset into train and test\n",
    "records = []\n",
    "for dirpath, _, files in os.walk(config[\"dataset_path\"]):\n",
    "    for file in files:\n",
    "        filepath = os.path.join(dirpath, file)\n",
    "        with open(filepath, \"rb\") as f:\n",
    "            _ = np.load(f)\n",
    "            metadata = np.load(f, allow_pickle=True).item()\n",
    "            mod, *_, gain = dirpath.split(\"/\")[-1].split(\"_\")\n",
    "            # strip g from the gain\n",
    "            gain = int(gain[1:])\n",
    "            records.append({\n",
    "                \"filepath\": filepath,\n",
    "                \"azimuth\": metadata[\"servo_azimuth\"],\n",
    "                \"elevation\": metadata[\"servo_elevation\"],\n",
    "                \"mod\": mod,\n",
    "                \"gain\": gain,\n",
    "            })"
   ]
  },
  {
   "cell_type": "code",
   "execution_count": null,
   "id": "ea0d0d1f",
   "metadata": {},
   "outputs": [],
   "source": [
    "df = pd.DataFrame(records)\n",
    "df[\"strata\"] = list(zip(df[\"azimuth\"], df[\"elevation\"]))\n",
    "# df[\"strata\"].value_counts().sort_values(ascending=False)\n",
    "\n",
    "train_df, test_df = train_test_split(\n",
    "    df,\n",
    "    test_size=0.2,\n",
    "    random_state=42,\n",
    "    stratify=df[\"strata\"],\n",
    ")"
   ]
  },
  {
   "cell_type": "code",
   "execution_count": null,
   "id": "6056c9f3",
   "metadata": {},
   "outputs": [],
   "source": [
    "train_df.drop(\"strata\", axis=1).to_csv(\"train.csv\", index=False)\n",
    "test_df.drop(\"strata\", axis=1).to_csv(\"test.csv\", index=False)"
   ]
  },
  {
   "cell_type": "code",
   "execution_count": null,
   "id": "f462ade1",
   "metadata": {},
   "outputs": [],
   "source": [
    "# move files to the train and test folders\n",
    "os.makedirs(\"datasets/train\", exist_ok=True)\n",
    "os.makedirs(\"datasets/test\", exist_ok=True)\n",
    "for _, row in train_df.iterrows():\n",
    "    os.makedirs(os.path.join(\"datasets/train\", row[\"mod\"]), exist_ok=True)\n",
    "    shutil.move(row[\"filepath\"], os.path.join(\"datasets/train\", row[\"mod\"]))\n",
    "for _, row in test_df.iterrows():\n",
    "    os.makedirs(os.path.join(\"datasets/test\", row[\"mod\"]), exist_ok=True)\n",
    "    shutil.move(row[\"filepath\"], os.path.join(\"datasets/test\", row[\"mod\"]))\n",
    "\n",
    "# delete the original dataset folder\n",
    "shutil.rmtree(config[\"dataset_path\"])"
   ]
  },
  {
   "cell_type": "markdown",
   "id": "672823e4",
   "metadata": {},
   "source": [
    "### **Training**"
   ]
  },
  {
   "cell_type": "code",
   "execution_count": 6,
   "id": "8c343509",
   "metadata": {},
   "outputs": [
    {
     "data": {
      "text/plain": [
       "(torch.Size([4, 2, 9216]), 96, torch.Size([4, 2, 9216]), 93)"
      ]
     },
     "execution_count": 6,
     "metadata": {},
     "output_type": "execute_result"
    }
   ],
   "source": [
    "class R22_Dataset(DatasetFolder):\n",
    "    \"\"\"\n",
    "    Ensures every sample tensor ends up the same length (the minimum\n",
    "    length across your entire dataset), by trimming.\n",
    "    \"\"\"\n",
    "\n",
    "    def __init__(self, root, load_fn, transform=None, **kwargs):\n",
    "        super().__init__(root, loader=load_fn, transform=transform, **kwargs)\n",
    "        # # 1) scan every file once to find the minimum length\n",
    "        # lengths = []\n",
    "        # for path, _ in self.samples:\n",
    "        #     # load only the array header, not the entire payload\n",
    "        #     arr = np.load(path, mmap_mode='r', allow_pickle=False)\n",
    "        #     lengths.append(arr.shape[-1])\n",
    "        # self.min_length = min(lengths)\n",
    "\n",
    "    def __len__(self):\n",
    "        return len(self.samples)\n",
    "\n",
    "    def __getitem__(self, index):\n",
    "        path = self.samples[index][0]\n",
    "        sample, target = self.loader(path)\n",
    "        if self.transform is not None:\n",
    "            sample = self.transform(sample)\n",
    "        # # 2) trim the sample to the minimum length\n",
    "        # sample = sample[..., :self.min_length]\n",
    "        return sample, target\n",
    "\n",
    "\n",
    "with open(\"label_encoder_angles.yaml\", \"r\") as f:\n",
    "    label_encoder_angles = yaml.safe_load(f)\n",
    "\n",
    "class2idx = {c: i for i, c in enumerate(label_encoder_angles[\"classes\"])}\n",
    "\n",
    "\n",
    "def load_fn(path):\n",
    "    with open(path, \"rb\") as f:\n",
    "        data = np.load(f)\n",
    "        metadata = np.load(f, allow_pickle=True).item()\n",
    "    data = np.stack((data.real, data.imag), axis=1)\n",
    "    # drop the first 1024 samples\n",
    "    data = data[:, :, 1024:]\n",
    "    # drop the last 1024 samples\n",
    "    data = data[:, :, :-1024]\n",
    "    # CPC uses a portion of the entire sequence in the loss\n",
    "    min_sequence_length = int(\n",
    "        config[\"slice_length\"] * (config[\"history_steps\"] + 1))\n",
    "    idx = np.random.randint(0, data.shape[-1] - min_sequence_length)\n",
    "    data = data[:, :,  idx:idx + min_sequence_length]\n",
    "    # # normalize the data\n",
    "    # data = (data - np.mean(data, axis=(1, 2), keepdims=True)) / \\\n",
    "    #     (np.std(data, axis=(1, 2), keepdims=True) + 1e-8)\n",
    "    return data.astype(np.float32), class2idx.get(\n",
    "        str(tuple((metadata[\"servo_azimuth\"], metadata[\"servo_elevation\"]))))\n",
    "\n",
    "\n",
    "train_ds = R22_Dataset(\n",
    "    root=\"./datasets/train\",\n",
    "    load_fn=load_fn,\n",
    "    transform=lambda x: torch.from_numpy(x),\n",
    "    extensions=[\".npy\"],\n",
    ")\n",
    "\n",
    "test_ds = R22_Dataset(\n",
    "    root=\"./datasets/test\",\n",
    "    load_fn=load_fn,\n",
    "    transform=lambda x: torch.from_numpy(x),\n",
    "    extensions=[\".npy\"],\n",
    ")\n",
    "\n",
    "train_ds[0][0].shape, train_ds[0][1], test_ds[0][0].shape, test_ds[0][1]"
   ]
  },
  {
   "cell_type": "code",
   "execution_count": 8,
   "id": "410dac99",
   "metadata": {},
   "outputs": [
    {
     "name": "stdout",
     "output_type": "stream",
     "text": [
      "torch.Size([128, 4, 2, 9216]) torch.Size([128])\n"
     ]
    }
   ],
   "source": [
    "train_loader = DataLoader(\n",
    "    train_ds,\n",
    "    batch_size=config[\"batch_size\"],\n",
    "    shuffle=True,\n",
    "    num_workers=8,  # Adjust based on your system\n",
    "    pin_memory=True,\n",
    "    prefetch_factor=2,\n",
    "    persistent_workers=True,\n",
    ")\n",
    "\n",
    "memory_loader = DataLoader(\n",
    "    train_ds,\n",
    "    batch_size=config[\"batch_size\"],\n",
    "    shuffle=False,\n",
    "    num_workers=8,  # Adjust based on your system\n",
    "    pin_memory=True,\n",
    "    prefetch_factor=2,\n",
    "    persistent_workers=True,\n",
    ")\n",
    "\n",
    "test_loader = DataLoader(\n",
    "    test_ds,\n",
    "    batch_size=config[\"batch_size\"],\n",
    "    shuffle=False,\n",
    "    num_workers=8,  # Adjust based on your system\n",
    "    pin_memory=True,\n",
    "    prefetch_factor=2,\n",
    "    persistent_workers=True,\n",
    ")\n",
    "\n",
    "xb, yb = next(iter(train_loader))\n",
    "print(xb.shape, yb.shape)\n",
    "\n",
    "device = torch.device(\"cuda:0\" if torch.cuda.is_available() else \"cpu\")"
   ]
  },
  {
   "cell_type": "code",
   "execution_count": 9,
   "id": "ef824bc8",
   "metadata": {},
   "outputs": [
    {
     "name": "stdout",
     "output_type": "stream",
     "text": [
      "torch.Size([128, 8, 256]) torch.Size([128, 8, 256])\n",
      "tensor(2.0795, device='cuda:0', grad_fn=<NllLossBackward0>)\n"
     ]
    }
   ],
   "source": [
    "model = CPC(\n",
    "    in_features=config[\"in_features\"],\n",
    "    hidden_features=config[\"hidden_features\"],\n",
    "    slice_length=config[\"slice_length\"],\n",
    "    history_steps=config[\"history_steps\"],\n",
    "    drop_rate=config[\"drop_rate\"],\n",
    "    drop_path_rate=config[\"drop_path_rate\"],\n",
    ").to(device)\n",
    "c_t, z_fut, _ = model(xb.to(device))\n",
    "print(c_t.shape, z_fut.shape)\n",
    "loss = nt_xent_loss(c_t, z_fut)\n",
    "print(loss)"
   ]
  },
  {
   "cell_type": "code",
   "execution_count": 10,
   "id": "467b15ea",
   "metadata": {},
   "outputs": [],
   "source": [
    "class Tracker:\n",
    "    \"\"\"\n",
    "    A class to track the best value of a metric.\n",
    "\n",
    "    :param metric: The name of the metric to track. If 'loss' is in the metric name, the goal is to minimize it.\n",
    "    :type metric: str\n",
    "    :param mode: The mode of tracking. Can be 'auto', 'min', or 'max'. Default is 'auto'.\n",
    "    :type mode: str, optional\n",
    "    \"\"\"\n",
    "\n",
    "    def __init__(self, metric, mode='auto'):\n",
    "        self.metric = metric\n",
    "        self.mode = mode\n",
    "        self.mode_dict = {\n",
    "            'auto': np.less if 'loss' in metric else np.greater,\n",
    "            'min': np.less,\n",
    "            'max': np.greater\n",
    "        }\n",
    "        self.operator = self.mode_dict[mode]\n",
    "        self._best = np.inf if self.operator == np.less else -np.inf\n",
    "\n",
    "    @property\n",
    "    def best(self):\n",
    "        return self._best\n",
    "\n",
    "    @best.setter\n",
    "    def best(self, value):\n",
    "        self._best = value"
   ]
  },
  {
   "cell_type": "code",
   "execution_count": 11,
   "id": "4427aa0b",
   "metadata": {},
   "outputs": [],
   "source": [
    "def knn_predict(feature, feature_bank, feature_labels, num_classes, k=200, t=0.1):\n",
    "    # feature is [b, d], feature_bank is [d, n] and feature_labels is [n]\n",
    "    sim_mat = torch.mm(feature, feature_bank)  # [b, n]\n",
    "    sim_weight, sim_indices = sim_mat.topk(k, dim=-1)  # [b, k]\n",
    "    sim_labels = torch.gather(feature_labels.expand(\n",
    "        feature.size(0), -1), dim=-1, index=sim_indices)\n",
    "    sim_weight = (sim_weight / t).exp()\n",
    "\n",
    "    # count for each class\n",
    "    one_hot = torch.zeros(feature.size(0) * k, num_classes).to(feature.device)\n",
    "    one_hot = one_hot.scatter(\n",
    "        dim=-1, index=sim_labels.view(-1, 1), value=1.0)  # [b*k, num_classes]\n",
    "    pred_scores = torch.sum(one_hot.view(feature.size(0), -1, num_classes) * sim_weight.unsqueeze(dim=-1), dim=1)  # weighted scores [b, num_classes] # noqa\n",
    "\n",
    "    pred_labels = pred_scores.argsort(\n",
    "        dim=-1, descending=True)  # [b, num_classes]\n",
    "    return pred_labels\n",
    "\n",
    "\n",
    "@torch.no_grad()\n",
    "def knn_evaluate(model, memory_loader, test_loader, epoch, config, pbar, writer, device):\n",
    "    feature_bank, feature_labels = [], []\n",
    "    encoder = copy.deepcopy(model.encoder)\n",
    "    encoder.fc = nn.Identity()\n",
    "    encoder = encoder.to(device)\n",
    "    encoder.eval()\n",
    "    for x, y in memory_loader:\n",
    "        x, y = x.to(device), y.to(device)\n",
    "        feature = encoder(x)\n",
    "        # normalize the feature\n",
    "        feature = F.normalize(feature, dim=-1)\n",
    "        feature_bank.append(feature)\n",
    "        feature_labels.append(y)\n",
    "    feature_bank = torch.cat(feature_bank, dim=0).t().contiguous()  # [d, n]\n",
    "    feature_labels = torch.cat(feature_labels, dim=0)  # [n]\n",
    "\n",
    "    # loop over the test set\n",
    "    total_num, top1, top5 = 0, 0, 0\n",
    "    for x, y in test_loader:\n",
    "        x, y = x.to(device), y.to(device)\n",
    "        feature = encoder(x)\n",
    "        # normalize the feature\n",
    "        feature = F.normalize(feature, dim=-1)\n",
    "        pred_labels = knn_predict(feature, feature_bank, feature_labels,\n",
    "                                  num_classes=config[\"nclasses\"], k=config[\"knn_k\"], t=config[\"knn_t\"])\n",
    "        top1 += (pred_labels[:, 0] == y).sum().item()\n",
    "        top5 += (pred_labels[:, :5] == y.unsqueeze(1)).sum().item()\n",
    "        total_num += y.size(0)\n",
    "    pbar.write(\n",
    "        f\"Epoch [{epoch}/{config['num_epochs']}] Acc@1: {top1 / total_num * 100:.2f}%, Acc@5: {top5 / total_num * 100:.2f}%\"\n",
    "    )\n",
    "    writer.add_scalar(\n",
    "        f\"test/top1\", top1 / total_num * 100, epoch)\n",
    "    writer.add_scalar(\n",
    "        f\"test/top5\", top5 / total_num * 100, epoch)"
   ]
  },
  {
   "cell_type": "code",
   "execution_count": 12,
   "id": "638cfec0",
   "metadata": {},
   "outputs": [
    {
     "name": "stderr",
     "output_type": "stream",
     "text": [
      "100%|██████████| 29/29 [01:39<00:00,  3.42s/it, loss/step=2.07, norm=0.102]\n",
      "  0%|          | 0/100 [01:39<?, ?it/s]"
     ]
    },
    {
     "name": "stdout",
     "output_type": "stream",
     "text": [
      "Epoch 0: loss = 2.0761\n"
     ]
    },
    {
     "name": "stderr",
     "output_type": "stream",
     "text": [
      "  0%|          | 0/100 [03:19<?, ?it/s]"
     ]
    },
    {
     "name": "stdout",
     "output_type": "stream",
     "text": [
      "Epoch [0/100] Acc@1: 0.65%, Acc@5: 6.29%\n",
      "Model saved to ./experiments/cpc_2025-05-14_06-46-08/weights.pth\n"
     ]
    },
    {
     "name": "stderr",
     "output_type": "stream",
     "text": [
      "  1%|          | 1/100 [03:19<5:29:29, 199.69s/it]"
     ]
    },
    {
     "name": "stdout",
     "output_type": "stream",
     "text": [
      "Latest checkpoint saved to ./experiments/cpc_2025-05-14_06-46-08/last_checkpoint.pt at epoch 0\n"
     ]
    },
    {
     "name": "stderr",
     "output_type": "stream",
     "text": [
      "100%|██████████| 29/29 [01:29<00:00,  3.07s/it, loss/step=2.06, norm=0.263]\n",
      "  1%|          | 1/100 [04:48<5:29:29, 199.69s/it]"
     ]
    },
    {
     "name": "stdout",
     "output_type": "stream",
     "text": [
      "Epoch 1: loss = 2.0684\n"
     ]
    },
    {
     "name": "stderr",
     "output_type": "stream",
     "text": [
      "  1%|          | 1/100 [06:27<5:29:29, 199.69s/it]"
     ]
    },
    {
     "name": "stdout",
     "output_type": "stream",
     "text": [
      "Epoch [1/100] Acc@1: 0.76%, Acc@5: 9.76%\n",
      "Model saved to ./experiments/cpc_2025-05-14_06-46-08/weights.pth\n"
     ]
    },
    {
     "name": "stderr",
     "output_type": "stream",
     "text": [
      "  2%|▏         | 2/100 [06:28<5:15:25, 193.12s/it]"
     ]
    },
    {
     "name": "stdout",
     "output_type": "stream",
     "text": [
      "Latest checkpoint saved to ./experiments/cpc_2025-05-14_06-46-08/last_checkpoint.pt at epoch 1\n"
     ]
    },
    {
     "name": "stderr",
     "output_type": "stream",
     "text": [
      "100%|██████████| 29/29 [01:41<00:00,  3.49s/it, loss/step=2.05, norm=0.239]\n",
      "  2%|▏         | 2/100 [08:09<5:15:25, 193.12s/it]"
     ]
    },
    {
     "name": "stdout",
     "output_type": "stream",
     "text": [
      "Epoch 2: loss = 2.0566\n"
     ]
    },
    {
     "name": "stderr",
     "output_type": "stream",
     "text": [
      "  2%|▏         | 2/100 [09:17<5:15:25, 193.12s/it]"
     ]
    },
    {
     "name": "stdout",
     "output_type": "stream",
     "text": [
      "Epoch [2/100] Acc@1: 0.65%, Acc@5: 6.51%\n",
      "Model saved to ./experiments/cpc_2025-05-14_06-46-08/weights.pth\n"
     ]
    },
    {
     "name": "stderr",
     "output_type": "stream",
     "text": [
      "  3%|▎         | 3/100 [09:18<4:55:24, 182.73s/it]"
     ]
    },
    {
     "name": "stdout",
     "output_type": "stream",
     "text": [
      "Latest checkpoint saved to ./experiments/cpc_2025-05-14_06-46-08/last_checkpoint.pt at epoch 2\n"
     ]
    },
    {
     "name": "stderr",
     "output_type": "stream",
     "text": [
      "100%|██████████| 29/29 [01:34<00:00,  3.25s/it, loss/step=2.04, norm=0.358]\n",
      "  3%|▎         | 3/100 [10:52<4:55:24, 182.73s/it]"
     ]
    },
    {
     "name": "stdout",
     "output_type": "stream",
     "text": [
      "Epoch 3: loss = 2.0316\n"
     ]
    },
    {
     "name": "stderr",
     "output_type": "stream",
     "text": [
      "  3%|▎         | 3/100 [12:11<4:55:24, 182.73s/it]"
     ]
    },
    {
     "name": "stdout",
     "output_type": "stream",
     "text": [
      "Epoch [3/100] Acc@1: 0.98%, Acc@5: 6.72%\n",
      "Model saved to ./experiments/cpc_2025-05-14_06-46-08/weights.pth\n"
     ]
    },
    {
     "name": "stderr",
     "output_type": "stream",
     "text": [
      "  4%|▍         | 4/100 [12:12<4:46:41, 179.18s/it]"
     ]
    },
    {
     "name": "stdout",
     "output_type": "stream",
     "text": [
      "Latest checkpoint saved to ./experiments/cpc_2025-05-14_06-46-08/last_checkpoint.pt at epoch 3\n"
     ]
    },
    {
     "name": "stderr",
     "output_type": "stream",
     "text": [
      "100%|██████████| 29/29 [01:20<00:00,  2.76s/it, loss/step=1.98, norm=0.445]\n",
      "  4%|▍         | 4/100 [13:32<4:46:41, 179.18s/it]"
     ]
    },
    {
     "name": "stdout",
     "output_type": "stream",
     "text": [
      "Epoch 4: loss = 2.0202\n"
     ]
    },
    {
     "name": "stderr",
     "output_type": "stream",
     "text": [
      "  4%|▍         | 4/100 [14:29<4:46:41, 179.18s/it]"
     ]
    },
    {
     "name": "stdout",
     "output_type": "stream",
     "text": [
      "Epoch [4/100] Acc@1: 0.43%, Acc@5: 4.77%\n",
      "Model saved to ./experiments/cpc_2025-05-14_06-46-08/weights.pth\n"
     ]
    },
    {
     "name": "stderr",
     "output_type": "stream",
     "text": [
      "  5%|▌         | 5/100 [14:30<4:20:24, 164.47s/it]"
     ]
    },
    {
     "name": "stdout",
     "output_type": "stream",
     "text": [
      "Latest checkpoint saved to ./experiments/cpc_2025-05-14_06-46-08/last_checkpoint.pt at epoch 4\n"
     ]
    },
    {
     "name": "stderr",
     "output_type": "stream",
     "text": [
      "100%|██████████| 29/29 [01:31<00:00,  3.15s/it, loss/step=1.99, norm=0.231]\n",
      "  5%|▌         | 5/100 [16:02<4:20:24, 164.47s/it]"
     ]
    },
    {
     "name": "stdout",
     "output_type": "stream",
     "text": [
      "Epoch 5: loss = 2.0000\n"
     ]
    },
    {
     "name": "stderr",
     "output_type": "stream",
     "text": [
      "  5%|▌         | 5/100 [17:20<4:20:24, 164.47s/it]"
     ]
    },
    {
     "name": "stdout",
     "output_type": "stream",
     "text": [
      "Epoch [5/100] Acc@1: 0.54%, Acc@5: 4.12%\n",
      "Model saved to ./experiments/cpc_2025-05-14_06-46-08/weights.pth\n"
     ]
    },
    {
     "name": "stderr",
     "output_type": "stream",
     "text": [
      "  6%|▌         | 6/100 [17:21<4:20:51, 166.51s/it]"
     ]
    },
    {
     "name": "stdout",
     "output_type": "stream",
     "text": [
      "Latest checkpoint saved to ./experiments/cpc_2025-05-14_06-46-08/last_checkpoint.pt at epoch 5\n"
     ]
    },
    {
     "name": "stderr",
     "output_type": "stream",
     "text": [
      "100%|██████████| 29/29 [01:05<00:00,  2.27s/it, loss/step=1.98, norm=0.262]\n",
      "  6%|▌         | 6/100 [18:26<4:20:51, 166.51s/it]"
     ]
    },
    {
     "name": "stdout",
     "output_type": "stream",
     "text": [
      "Epoch 6: loss = 1.9870\n"
     ]
    },
    {
     "name": "stderr",
     "output_type": "stream",
     "text": [
      "  6%|▌         | 6/100 [19:32<4:20:51, 166.51s/it]"
     ]
    },
    {
     "name": "stdout",
     "output_type": "stream",
     "text": [
      "Epoch [6/100] Acc@1: 0.87%, Acc@5: 3.69%\n",
      "Model saved to ./experiments/cpc_2025-05-14_06-46-08/weights.pth\n"
     ]
    },
    {
     "name": "stderr",
     "output_type": "stream",
     "text": [
      "  7%|▋         | 7/100 [19:32<4:00:22, 155.08s/it]"
     ]
    },
    {
     "name": "stdout",
     "output_type": "stream",
     "text": [
      "Latest checkpoint saved to ./experiments/cpc_2025-05-14_06-46-08/last_checkpoint.pt at epoch 6\n"
     ]
    },
    {
     "name": "stderr",
     "output_type": "stream",
     "text": [
      "100%|██████████| 29/29 [01:10<00:00,  2.42s/it, loss/step=1.98, norm=0.462]\n",
      "  7%|▋         | 7/100 [20:42<4:00:22, 155.08s/it]"
     ]
    },
    {
     "name": "stdout",
     "output_type": "stream",
     "text": [
      "Epoch 7: loss = 1.9823\n"
     ]
    },
    {
     "name": "stderr",
     "output_type": "stream",
     "text": [
      "  7%|▋         | 7/100 [22:33<4:00:22, 155.08s/it]"
     ]
    },
    {
     "name": "stdout",
     "output_type": "stream",
     "text": [
      "Epoch [7/100] Acc@1: 0.43%, Acc@5: 2.93%\n",
      "Model saved to ./experiments/cpc_2025-05-14_06-46-08/weights.pth\n"
     ]
    },
    {
     "name": "stderr",
     "output_type": "stream",
     "text": [
      "  8%|▊         | 8/100 [22:33<4:10:32, 163.39s/it]"
     ]
    },
    {
     "name": "stdout",
     "output_type": "stream",
     "text": [
      "Latest checkpoint saved to ./experiments/cpc_2025-05-14_06-46-08/last_checkpoint.pt at epoch 7\n"
     ]
    },
    {
     "name": "stderr",
     "output_type": "stream",
     "text": [
      "100%|██████████| 29/29 [01:26<00:00,  3.00s/it, loss/step=1.99, norm=0.347]\n",
      "  8%|▊         | 8/100 [24:00<4:10:32, 163.39s/it]"
     ]
    },
    {
     "name": "stdout",
     "output_type": "stream",
     "text": [
      "Epoch 8: loss = 1.9867\n"
     ]
    },
    {
     "name": "stderr",
     "output_type": "stream",
     "text": [
      "  8%|▊         | 8/100 [24:59<4:10:32, 163.39s/it]"
     ]
    },
    {
     "name": "stdout",
     "output_type": "stream",
     "text": [
      "Epoch [8/100] Acc@1: 0.22%, Acc@5: 2.49%\n"
     ]
    },
    {
     "name": "stderr",
     "output_type": "stream",
     "text": [
      "  9%|▉         | 9/100 [24:59<3:59:25, 157.87s/it]"
     ]
    },
    {
     "name": "stdout",
     "output_type": "stream",
     "text": [
      "Latest checkpoint saved to ./experiments/cpc_2025-05-14_06-46-08/last_checkpoint.pt at epoch 8\n"
     ]
    },
    {
     "name": "stderr",
     "output_type": "stream",
     "text": [
      "100%|██████████| 29/29 [00:56<00:00,  1.96s/it, loss/step=1.98, norm=0.341]\n",
      "  9%|▉         | 9/100 [25:56<3:59:25, 157.87s/it]"
     ]
    },
    {
     "name": "stdout",
     "output_type": "stream",
     "text": [
      "Epoch 9: loss = 1.9711\n"
     ]
    },
    {
     "name": "stderr",
     "output_type": "stream",
     "text": [
      "  9%|▉         | 9/100 [27:37<3:59:25, 157.87s/it]"
     ]
    },
    {
     "name": "stdout",
     "output_type": "stream",
     "text": [
      "Epoch [9/100] Acc@1: 0.43%, Acc@5: 2.28%\n",
      "Model saved to ./experiments/cpc_2025-05-14_06-46-08/weights.pth\n"
     ]
    },
    {
     "name": "stderr",
     "output_type": "stream",
     "text": [
      " 10%|█         | 10/100 [27:37<3:56:51, 157.91s/it]"
     ]
    },
    {
     "name": "stdout",
     "output_type": "stream",
     "text": [
      "Latest checkpoint saved to ./experiments/cpc_2025-05-14_06-46-08/last_checkpoint.pt at epoch 9\n"
     ]
    },
    {
     "name": "stderr",
     "output_type": "stream",
     "text": [
      "100%|██████████| 29/29 [01:21<00:00,  2.81s/it, loss/step=1.97, norm=0.381]\n",
      " 10%|█         | 10/100 [28:59<3:56:51, 157.91s/it]"
     ]
    },
    {
     "name": "stdout",
     "output_type": "stream",
     "text": [
      "Epoch 10: loss = 1.9621\n"
     ]
    },
    {
     "name": "stderr",
     "output_type": "stream",
     "text": [
      " 10%|█         | 10/100 [29:59<3:56:51, 157.91s/it]"
     ]
    },
    {
     "name": "stdout",
     "output_type": "stream",
     "text": [
      "Epoch [10/100] Acc@1: 0.43%, Acc@5: 2.06%\n",
      "Model saved to ./experiments/cpc_2025-05-14_06-46-08/weights.pth\n"
     ]
    },
    {
     "name": "stderr",
     "output_type": "stream",
     "text": [
      " 11%|█         | 11/100 [30:00<3:47:25, 153.32s/it]"
     ]
    },
    {
     "name": "stdout",
     "output_type": "stream",
     "text": [
      "Latest checkpoint saved to ./experiments/cpc_2025-05-14_06-46-08/last_checkpoint.pt at epoch 10\n"
     ]
    },
    {
     "name": "stderr",
     "output_type": "stream",
     "text": [
      "100%|██████████| 29/29 [01:23<00:00,  2.86s/it, loss/step=1.96, norm=0.34]\n",
      " 11%|█         | 11/100 [31:23<3:47:25, 153.32s/it]"
     ]
    },
    {
     "name": "stdout",
     "output_type": "stream",
     "text": [
      "Epoch 11: loss = 1.9518\n"
     ]
    },
    {
     "name": "stderr",
     "output_type": "stream",
     "text": [
      " 11%|█         | 11/100 [32:35<3:47:25, 153.32s/it]"
     ]
    },
    {
     "name": "stdout",
     "output_type": "stream",
     "text": [
      "Epoch [11/100] Acc@1: 0.43%, Acc@5: 2.49%\n",
      "Model saved to ./experiments/cpc_2025-05-14_06-46-08/weights.pth\n"
     ]
    },
    {
     "name": "stderr",
     "output_type": "stream",
     "text": [
      " 12%|█▏        | 12/100 [32:35<3:45:47, 153.95s/it]"
     ]
    },
    {
     "name": "stdout",
     "output_type": "stream",
     "text": [
      "Latest checkpoint saved to ./experiments/cpc_2025-05-14_06-46-08/last_checkpoint.pt at epoch 11\n"
     ]
    },
    {
     "name": "stderr",
     "output_type": "stream",
     "text": [
      "100%|██████████| 29/29 [01:10<00:00,  2.43s/it, loss/step=1.92, norm=0.222]\n",
      " 12%|█▏        | 12/100 [33:46<3:45:47, 153.95s/it]"
     ]
    },
    {
     "name": "stdout",
     "output_type": "stream",
     "text": [
      "Epoch 12: loss = 1.9470\n"
     ]
    },
    {
     "name": "stderr",
     "output_type": "stream",
     "text": [
      " 12%|█▏        | 12/100 [34:49<3:45:47, 153.95s/it]"
     ]
    },
    {
     "name": "stdout",
     "output_type": "stream",
     "text": [
      "Epoch [12/100] Acc@1: 0.11%, Acc@5: 1.41%\n",
      "Model saved to ./experiments/cpc_2025-05-14_06-46-08/weights.pth\n"
     ]
    },
    {
     "name": "stderr",
     "output_type": "stream",
     "text": [
      " 13%|█▎        | 13/100 [34:50<3:34:38, 148.03s/it]"
     ]
    },
    {
     "name": "stdout",
     "output_type": "stream",
     "text": [
      "Latest checkpoint saved to ./experiments/cpc_2025-05-14_06-46-08/last_checkpoint.pt at epoch 12\n"
     ]
    },
    {
     "name": "stderr",
     "output_type": "stream",
     "text": [
      "100%|██████████| 29/29 [01:15<00:00,  2.61s/it, loss/step=1.94, norm=0.309]\n",
      " 13%|█▎        | 13/100 [36:06<3:34:38, 148.03s/it]"
     ]
    },
    {
     "name": "stdout",
     "output_type": "stream",
     "text": [
      "Epoch 13: loss = 1.9254\n"
     ]
    },
    {
     "name": "stderr",
     "output_type": "stream",
     "text": [
      " 13%|█▎        | 13/100 [37:55<3:34:38, 148.03s/it]"
     ]
    },
    {
     "name": "stdout",
     "output_type": "stream",
     "text": [
      "Epoch [13/100] Acc@1: 0.00%, Acc@5: 0.98%\n",
      "Model saved to ./experiments/cpc_2025-05-14_06-46-08/weights.pth\n"
     ]
    },
    {
     "name": "stderr",
     "output_type": "stream",
     "text": [
      " 14%|█▍        | 14/100 [37:56<3:48:27, 159.39s/it]"
     ]
    },
    {
     "name": "stdout",
     "output_type": "stream",
     "text": [
      "Latest checkpoint saved to ./experiments/cpc_2025-05-14_06-46-08/last_checkpoint.pt at epoch 13\n"
     ]
    },
    {
     "name": "stderr",
     "output_type": "stream",
     "text": [
      "100%|██████████| 29/29 [01:36<00:00,  3.34s/it, loss/step=1.89, norm=0.208]\n",
      " 14%|█▍        | 14/100 [39:32<3:48:27, 159.39s/it]"
     ]
    },
    {
     "name": "stdout",
     "output_type": "stream",
     "text": [
      "Epoch 14: loss = 1.9131\n"
     ]
    },
    {
     "name": "stderr",
     "output_type": "stream",
     "text": [
      " 14%|█▍        | 14/100 [40:30<3:48:27, 159.39s/it]"
     ]
    },
    {
     "name": "stdout",
     "output_type": "stream",
     "text": [
      "Epoch [14/100] Acc@1: 0.00%, Acc@5: 1.08%\n",
      "Model saved to ./experiments/cpc_2025-05-14_06-46-08/weights.pth\n"
     ]
    },
    {
     "name": "stderr",
     "output_type": "stream",
     "text": [
      " 15%|█▌        | 15/100 [40:31<3:44:12, 158.26s/it]"
     ]
    },
    {
     "name": "stdout",
     "output_type": "stream",
     "text": [
      "Latest checkpoint saved to ./experiments/cpc_2025-05-14_06-46-08/last_checkpoint.pt at epoch 14\n"
     ]
    },
    {
     "name": "stderr",
     "output_type": "stream",
     "text": [
      "100%|██████████| 29/29 [00:56<00:00,  1.93s/it, loss/step=1.89, norm=0.204]\n",
      " 15%|█▌        | 15/100 [41:27<3:44:12, 158.26s/it]"
     ]
    },
    {
     "name": "stdout",
     "output_type": "stream",
     "text": [
      "Epoch 15: loss = 1.8918\n"
     ]
    },
    {
     "name": "stderr",
     "output_type": "stream",
     "text": [
      " 15%|█▌        | 15/100 [43:05<3:44:12, 158.26s/it]"
     ]
    },
    {
     "name": "stdout",
     "output_type": "stream",
     "text": [
      "Epoch [15/100] Acc@1: 0.11%, Acc@5: 0.76%\n",
      "Model saved to ./experiments/cpc_2025-05-14_06-46-08/weights.pth\n"
     ]
    },
    {
     "name": "stderr",
     "output_type": "stream",
     "text": [
      " 16%|█▌        | 16/100 [43:06<3:40:06, 157.22s/it]"
     ]
    },
    {
     "name": "stdout",
     "output_type": "stream",
     "text": [
      "Latest checkpoint saved to ./experiments/cpc_2025-05-14_06-46-08/last_checkpoint.pt at epoch 15\n"
     ]
    },
    {
     "name": "stderr",
     "output_type": "stream",
     "text": [
      "100%|██████████| 29/29 [01:32<00:00,  3.20s/it, loss/step=1.84, norm=0.355]\n",
      " 16%|█▌        | 16/100 [44:39<3:40:06, 157.22s/it]"
     ]
    },
    {
     "name": "stdout",
     "output_type": "stream",
     "text": [
      "Epoch 16: loss = 1.8547\n"
     ]
    },
    {
     "name": "stderr",
     "output_type": "stream",
     "text": [
      " 16%|█▌        | 16/100 [45:41<3:40:06, 157.22s/it]"
     ]
    },
    {
     "name": "stdout",
     "output_type": "stream",
     "text": [
      "Epoch [16/100] Acc@1: 0.11%, Acc@5: 0.54%\n",
      "Model saved to ./experiments/cpc_2025-05-14_06-46-08/weights.pth\n"
     ]
    },
    {
     "name": "stderr",
     "output_type": "stream",
     "text": [
      " 17%|█▋        | 17/100 [45:42<3:36:49, 156.74s/it]"
     ]
    },
    {
     "name": "stdout",
     "output_type": "stream",
     "text": [
      "Latest checkpoint saved to ./experiments/cpc_2025-05-14_06-46-08/last_checkpoint.pt at epoch 16\n"
     ]
    },
    {
     "name": "stderr",
     "output_type": "stream",
     "text": [
      "100%|██████████| 29/29 [01:27<00:00,  3.01s/it, loss/step=1.8, norm=0.287]\n",
      " 17%|█▋        | 17/100 [47:09<3:36:49, 156.74s/it]"
     ]
    },
    {
     "name": "stdout",
     "output_type": "stream",
     "text": [
      "Epoch 17: loss = 1.7965\n"
     ]
    },
    {
     "name": "stderr",
     "output_type": "stream",
     "text": [
      " 17%|█▋        | 17/100 [48:25<3:36:49, 156.74s/it]"
     ]
    },
    {
     "name": "stdout",
     "output_type": "stream",
     "text": [
      "Epoch [17/100] Acc@1: 0.11%, Acc@5: 0.43%\n",
      "Model saved to ./experiments/cpc_2025-05-14_06-46-08/weights.pth\n"
     ]
    },
    {
     "name": "stderr",
     "output_type": "stream",
     "text": [
      " 18%|█▊        | 18/100 [48:26<3:37:11, 158.92s/it]"
     ]
    },
    {
     "name": "stdout",
     "output_type": "stream",
     "text": [
      "Latest checkpoint saved to ./experiments/cpc_2025-05-14_06-46-08/last_checkpoint.pt at epoch 17\n"
     ]
    },
    {
     "name": "stderr",
     "output_type": "stream",
     "text": [
      "100%|██████████| 29/29 [01:15<00:00,  2.61s/it, loss/step=1.79, norm=0.173]\n",
      " 18%|█▊        | 18/100 [49:41<3:37:11, 158.92s/it]"
     ]
    },
    {
     "name": "stdout",
     "output_type": "stream",
     "text": [
      "Epoch 18: loss = 1.7526\n"
     ]
    },
    {
     "name": "stderr",
     "output_type": "stream",
     "text": [
      " 18%|█▊        | 18/100 [50:40<3:37:11, 158.92s/it]"
     ]
    },
    {
     "name": "stdout",
     "output_type": "stream",
     "text": [
      "Epoch [18/100] Acc@1: 0.33%, Acc@5: 0.54%\n",
      "Model saved to ./experiments/cpc_2025-05-14_06-46-08/weights.pth\n"
     ]
    },
    {
     "name": "stderr",
     "output_type": "stream",
     "text": [
      " 19%|█▉        | 19/100 [50:41<3:25:07, 151.94s/it]"
     ]
    },
    {
     "name": "stdout",
     "output_type": "stream",
     "text": [
      "Latest checkpoint saved to ./experiments/cpc_2025-05-14_06-46-08/last_checkpoint.pt at epoch 18\n"
     ]
    },
    {
     "name": "stderr",
     "output_type": "stream",
     "text": [
      "100%|██████████| 29/29 [01:21<00:00,  2.82s/it, loss/step=1.7, norm=0.216]\n",
      " 19%|█▉        | 19/100 [52:03<3:25:07, 151.94s/it]"
     ]
    },
    {
     "name": "stdout",
     "output_type": "stream",
     "text": [
      "Epoch 19: loss = 1.7117\n"
     ]
    },
    {
     "name": "stderr",
     "output_type": "stream",
     "text": [
      " 19%|█▉        | 19/100 [53:06<3:25:07, 151.94s/it]"
     ]
    },
    {
     "name": "stdout",
     "output_type": "stream",
     "text": [
      "Epoch [19/100] Acc@1: 0.11%, Acc@5: 0.43%\n",
      "Model saved to ./experiments/cpc_2025-05-14_06-46-08/weights.pth\n"
     ]
    },
    {
     "name": "stderr",
     "output_type": "stream",
     "text": [
      " 20%|██        | 20/100 [53:07<3:20:01, 150.02s/it]"
     ]
    },
    {
     "name": "stdout",
     "output_type": "stream",
     "text": [
      "Latest checkpoint saved to ./experiments/cpc_2025-05-14_06-46-08/last_checkpoint.pt at epoch 19\n"
     ]
    },
    {
     "name": "stderr",
     "output_type": "stream",
     "text": [
      "100%|██████████| 29/29 [01:09<00:00,  2.40s/it, loss/step=1.63, norm=0.165]\n",
      " 20%|██        | 20/100 [54:16<3:20:01, 150.02s/it]"
     ]
    },
    {
     "name": "stdout",
     "output_type": "stream",
     "text": [
      "Epoch 20: loss = 1.6812\n"
     ]
    },
    {
     "name": "stderr",
     "output_type": "stream",
     "text": [
      " 20%|██        | 20/100 [55:35<3:20:01, 150.02s/it]"
     ]
    },
    {
     "name": "stdout",
     "output_type": "stream",
     "text": [
      "Epoch [20/100] Acc@1: 0.11%, Acc@5: 0.33%\n",
      "Model saved to ./experiments/cpc_2025-05-14_06-46-08/weights.pth\n"
     ]
    },
    {
     "name": "stderr",
     "output_type": "stream",
     "text": [
      " 21%|██        | 21/100 [55:36<3:17:10, 149.75s/it]"
     ]
    },
    {
     "name": "stdout",
     "output_type": "stream",
     "text": [
      "Latest checkpoint saved to ./experiments/cpc_2025-05-14_06-46-08/last_checkpoint.pt at epoch 20\n"
     ]
    },
    {
     "name": "stderr",
     "output_type": "stream",
     "text": [
      "100%|██████████| 29/29 [01:20<00:00,  2.79s/it, loss/step=1.61, norm=0.194]\n",
      " 21%|██        | 21/100 [56:57<3:17:10, 149.75s/it]"
     ]
    },
    {
     "name": "stdout",
     "output_type": "stream",
     "text": [
      "Epoch 21: loss = 1.6660\n"
     ]
    },
    {
     "name": "stderr",
     "output_type": "stream",
     "text": [
      " 21%|██        | 21/100 [58:32<3:17:10, 149.75s/it]"
     ]
    },
    {
     "name": "stdout",
     "output_type": "stream",
     "text": [
      "Epoch [21/100] Acc@1: 0.00%, Acc@5: 0.54%\n",
      "Model saved to ./experiments/cpc_2025-05-14_06-46-08/weights.pth\n"
     ]
    },
    {
     "name": "stderr",
     "output_type": "stream",
     "text": [
      " 22%|██▏       | 22/100 [58:32<3:25:02, 157.72s/it]"
     ]
    },
    {
     "name": "stdout",
     "output_type": "stream",
     "text": [
      "Latest checkpoint saved to ./experiments/cpc_2025-05-14_06-46-08/last_checkpoint.pt at epoch 21\n"
     ]
    },
    {
     "name": "stderr",
     "output_type": "stream",
     "text": [
      "100%|██████████| 29/29 [01:30<00:00,  3.13s/it, loss/step=1.62, norm=0.224]\n",
      " 22%|██▏       | 22/100 [1:00:03<3:25:02, 157.72s/it]"
     ]
    },
    {
     "name": "stdout",
     "output_type": "stream",
     "text": [
      "Epoch 22: loss = 1.6487\n"
     ]
    },
    {
     "name": "stderr",
     "output_type": "stream",
     "text": [
      " 22%|██▏       | 22/100 [1:01:09<3:25:02, 157.72s/it]"
     ]
    },
    {
     "name": "stdout",
     "output_type": "stream",
     "text": [
      "Epoch [22/100] Acc@1: 0.00%, Acc@5: 0.22%\n",
      "Model saved to ./experiments/cpc_2025-05-14_06-46-08/weights.pth\n"
     ]
    },
    {
     "name": "stderr",
     "output_type": "stream",
     "text": [
      " 23%|██▎       | 23/100 [1:01:10<3:22:18, 157.64s/it]"
     ]
    },
    {
     "name": "stdout",
     "output_type": "stream",
     "text": [
      "Latest checkpoint saved to ./experiments/cpc_2025-05-14_06-46-08/last_checkpoint.pt at epoch 22\n"
     ]
    },
    {
     "name": "stderr",
     "output_type": "stream",
     "text": [
      "100%|██████████| 29/29 [01:25<00:00,  2.95s/it, loss/step=1.67, norm=0.321]\n",
      " 23%|██▎       | 23/100 [1:02:35<3:22:18, 157.64s/it]"
     ]
    },
    {
     "name": "stdout",
     "output_type": "stream",
     "text": [
      "Epoch 23: loss = 1.6338\n"
     ]
    },
    {
     "name": "stderr",
     "output_type": "stream",
     "text": [
      " 23%|██▎       | 23/100 [1:03:46<3:22:18, 157.64s/it]"
     ]
    },
    {
     "name": "stdout",
     "output_type": "stream",
     "text": [
      "Epoch [23/100] Acc@1: 0.00%, Acc@5: 0.22%\n",
      "Model saved to ./experiments/cpc_2025-05-14_06-46-08/weights.pth\n"
     ]
    },
    {
     "name": "stderr",
     "output_type": "stream",
     "text": [
      " 24%|██▍       | 24/100 [1:03:47<3:19:32, 157.53s/it]"
     ]
    },
    {
     "name": "stdout",
     "output_type": "stream",
     "text": [
      "Latest checkpoint saved to ./experiments/cpc_2025-05-14_06-46-08/last_checkpoint.pt at epoch 23\n"
     ]
    },
    {
     "name": "stderr",
     "output_type": "stream",
     "text": [
      "100%|██████████| 29/29 [01:17<00:00,  2.67s/it, loss/step=1.58, norm=0.198]\n",
      " 24%|██▍       | 24/100 [1:05:05<3:19:32, 157.53s/it]"
     ]
    },
    {
     "name": "stdout",
     "output_type": "stream",
     "text": [
      "Epoch 24: loss = 1.6184\n"
     ]
    },
    {
     "name": "stderr",
     "output_type": "stream",
     "text": [
      " 24%|██▍       | 24/100 [1:06:06<3:19:32, 157.53s/it]"
     ]
    },
    {
     "name": "stdout",
     "output_type": "stream",
     "text": [
      "Epoch [24/100] Acc@1: 0.00%, Acc@5: 0.00%\n",
      "Model saved to ./experiments/cpc_2025-05-14_06-46-08/weights.pth\n"
     ]
    },
    {
     "name": "stderr",
     "output_type": "stream",
     "text": [
      " 25%|██▌       | 25/100 [1:06:07<3:10:24, 152.33s/it]"
     ]
    },
    {
     "name": "stdout",
     "output_type": "stream",
     "text": [
      "Latest checkpoint saved to ./experiments/cpc_2025-05-14_06-46-08/last_checkpoint.pt at epoch 24\n"
     ]
    },
    {
     "name": "stderr",
     "output_type": "stream",
     "text": [
      "100%|██████████| 29/29 [01:21<00:00,  2.81s/it, loss/step=1.64, norm=0.185]\n",
      " 25%|██▌       | 25/100 [1:07:29<3:10:24, 152.33s/it]"
     ]
    },
    {
     "name": "stdout",
     "output_type": "stream",
     "text": [
      "Epoch 25: loss = 1.6064\n"
     ]
    },
    {
     "name": "stderr",
     "output_type": "stream",
     "text": [
      " 25%|██▌       | 25/100 [1:08:30<3:10:24, 152.33s/it]"
     ]
    },
    {
     "name": "stdout",
     "output_type": "stream",
     "text": [
      "Epoch [25/100] Acc@1: 0.00%, Acc@5: 0.11%\n",
      "Model saved to ./experiments/cpc_2025-05-14_06-46-08/weights.pth\n"
     ]
    },
    {
     "name": "stderr",
     "output_type": "stream",
     "text": [
      " 26%|██▌       | 26/100 [1:08:30<3:04:25, 149.54s/it]"
     ]
    },
    {
     "name": "stdout",
     "output_type": "stream",
     "text": [
      "Latest checkpoint saved to ./experiments/cpc_2025-05-14_06-46-08/last_checkpoint.pt at epoch 25\n"
     ]
    },
    {
     "name": "stderr",
     "output_type": "stream",
     "text": [
      "100%|██████████| 29/29 [01:20<00:00,  2.78s/it, loss/step=1.56, norm=0.204]\n",
      " 26%|██▌       | 26/100 [1:09:51<3:04:25, 149.54s/it]"
     ]
    },
    {
     "name": "stdout",
     "output_type": "stream",
     "text": [
      "Epoch 26: loss = 1.5971\n"
     ]
    },
    {
     "name": "stderr",
     "output_type": "stream",
     "text": [
      " 26%|██▌       | 26/100 [1:11:14<3:04:25, 149.54s/it]"
     ]
    },
    {
     "name": "stdout",
     "output_type": "stream",
     "text": [
      "Epoch [26/100] Acc@1: 0.00%, Acc@5: 0.22%\n",
      "Model saved to ./experiments/cpc_2025-05-14_06-46-08/weights.pth\n"
     ]
    },
    {
     "name": "stderr",
     "output_type": "stream",
     "text": [
      " 27%|██▋       | 27/100 [1:11:14<3:07:12, 153.87s/it]"
     ]
    },
    {
     "name": "stdout",
     "output_type": "stream",
     "text": [
      "Latest checkpoint saved to ./experiments/cpc_2025-05-14_06-46-08/last_checkpoint.pt at epoch 26\n"
     ]
    },
    {
     "name": "stderr",
     "output_type": "stream",
     "text": [
      "100%|██████████| 29/29 [01:10<00:00,  2.43s/it, loss/step=1.61, norm=0.302]\n",
      " 27%|██▋       | 27/100 [1:12:25<3:07:12, 153.87s/it]"
     ]
    },
    {
     "name": "stdout",
     "output_type": "stream",
     "text": [
      "Epoch 27: loss = 1.5903\n"
     ]
    },
    {
     "name": "stderr",
     "output_type": "stream",
     "text": [
      " 27%|██▋       | 27/100 [1:13:24<3:07:12, 153.87s/it]"
     ]
    },
    {
     "name": "stdout",
     "output_type": "stream",
     "text": [
      "Epoch [27/100] Acc@1: 0.00%, Acc@5: 0.11%\n",
      "Model saved to ./experiments/cpc_2025-05-14_06-46-08/weights.pth\n"
     ]
    },
    {
     "name": "stderr",
     "output_type": "stream",
     "text": [
      " 28%|██▊       | 28/100 [1:13:25<2:56:22, 146.98s/it]"
     ]
    },
    {
     "name": "stdout",
     "output_type": "stream",
     "text": [
      "Latest checkpoint saved to ./experiments/cpc_2025-05-14_06-46-08/last_checkpoint.pt at epoch 27\n"
     ]
    },
    {
     "name": "stderr",
     "output_type": "stream",
     "text": [
      "100%|██████████| 29/29 [01:36<00:00,  3.32s/it, loss/step=1.58, norm=0.227]\n",
      " 28%|██▊       | 28/100 [1:15:01<2:56:22, 146.98s/it]"
     ]
    },
    {
     "name": "stdout",
     "output_type": "stream",
     "text": [
      "Epoch 28: loss = 1.5769\n"
     ]
    },
    {
     "name": "stderr",
     "output_type": "stream",
     "text": [
      " 28%|██▊       | 28/100 [1:16:22<2:56:22, 146.98s/it]"
     ]
    },
    {
     "name": "stdout",
     "output_type": "stream",
     "text": [
      "Epoch [28/100] Acc@1: 0.11%, Acc@5: 0.22%\n",
      "Model saved to ./experiments/cpc_2025-05-14_06-46-08/weights.pth\n"
     ]
    },
    {
     "name": "stderr",
     "output_type": "stream",
     "text": [
      " 29%|██▉       | 29/100 [1:16:22<3:04:42, 156.10s/it]"
     ]
    },
    {
     "name": "stdout",
     "output_type": "stream",
     "text": [
      "Latest checkpoint saved to ./experiments/cpc_2025-05-14_06-46-08/last_checkpoint.pt at epoch 28\n"
     ]
    },
    {
     "name": "stderr",
     "output_type": "stream",
     "text": [
      "100%|██████████| 29/29 [01:04<00:00,  2.22s/it, loss/step=1.6, norm=0.173]\n",
      " 29%|██▉       | 29/100 [1:17:27<3:04:42, 156.10s/it]"
     ]
    },
    {
     "name": "stdout",
     "output_type": "stream",
     "text": [
      "Epoch 29: loss = 1.5730\n"
     ]
    },
    {
     "name": "stderr",
     "output_type": "stream",
     "text": [
      " 29%|██▉       | 29/100 [1:18:27<3:04:42, 156.10s/it]"
     ]
    },
    {
     "name": "stdout",
     "output_type": "stream",
     "text": [
      "Epoch [29/100] Acc@1: 0.11%, Acc@5: 0.33%\n",
      "Model saved to ./experiments/cpc_2025-05-14_06-46-08/weights.pth\n"
     ]
    },
    {
     "name": "stderr",
     "output_type": "stream",
     "text": [
      " 30%|███       | 30/100 [1:18:28<2:51:27, 146.96s/it]"
     ]
    },
    {
     "name": "stdout",
     "output_type": "stream",
     "text": [
      "Latest checkpoint saved to ./experiments/cpc_2025-05-14_06-46-08/last_checkpoint.pt at epoch 29\n"
     ]
    },
    {
     "name": "stderr",
     "output_type": "stream",
     "text": [
      "100%|██████████| 29/29 [01:18<00:00,  2.71s/it, loss/step=1.55, norm=0.264]\n",
      " 30%|███       | 30/100 [1:19:47<2:51:27, 146.96s/it]"
     ]
    },
    {
     "name": "stdout",
     "output_type": "stream",
     "text": [
      "Epoch 30: loss = 1.5665\n"
     ]
    },
    {
     "name": "stderr",
     "output_type": "stream",
     "text": [
      " 30%|███       | 30/100 [1:21:41<2:51:27, 146.96s/it]"
     ]
    },
    {
     "name": "stdout",
     "output_type": "stream",
     "text": [
      "Epoch [30/100] Acc@1: 0.00%, Acc@5: 0.11%\n",
      "Model saved to ./experiments/cpc_2025-05-14_06-46-08/weights.pth\n"
     ]
    },
    {
     "name": "stderr",
     "output_type": "stream",
     "text": [
      " 31%|███       | 31/100 [1:21:42<3:05:11, 161.03s/it]"
     ]
    },
    {
     "name": "stdout",
     "output_type": "stream",
     "text": [
      "Latest checkpoint saved to ./experiments/cpc_2025-05-14_06-46-08/last_checkpoint.pt at epoch 30\n"
     ]
    },
    {
     "name": "stderr",
     "output_type": "stream",
     "text": [
      "100%|██████████| 29/29 [01:29<00:00,  3.07s/it, loss/step=1.55, norm=0.193]\n",
      " 31%|███       | 31/100 [1:23:11<3:05:11, 161.03s/it]"
     ]
    },
    {
     "name": "stdout",
     "output_type": "stream",
     "text": [
      "Epoch 31: loss = 1.5611\n"
     ]
    },
    {
     "name": "stderr",
     "output_type": "stream",
     "text": [
      " 31%|███       | 31/100 [1:24:11<3:05:11, 161.03s/it]"
     ]
    },
    {
     "name": "stdout",
     "output_type": "stream",
     "text": [
      "Epoch [31/100] Acc@1: 0.00%, Acc@5: 0.11%\n",
      "Model saved to ./experiments/cpc_2025-05-14_06-46-08/weights.pth\n"
     ]
    },
    {
     "name": "stderr",
     "output_type": "stream",
     "text": [
      " 32%|███▏      | 32/100 [1:24:11<2:58:31, 157.53s/it]"
     ]
    },
    {
     "name": "stdout",
     "output_type": "stream",
     "text": [
      "Latest checkpoint saved to ./experiments/cpc_2025-05-14_06-46-08/last_checkpoint.pt at epoch 31\n"
     ]
    },
    {
     "name": "stderr",
     "output_type": "stream",
     "text": [
      "100%|██████████| 29/29 [01:04<00:00,  2.21s/it, loss/step=1.54, norm=0.19]\n",
      " 32%|███▏      | 32/100 [1:25:15<2:58:31, 157.53s/it]"
     ]
    },
    {
     "name": "stdout",
     "output_type": "stream",
     "text": [
      "Epoch 32: loss = 1.5545\n"
     ]
    },
    {
     "name": "stderr",
     "output_type": "stream",
     "text": [
      " 32%|███▏      | 32/100 [1:26:59<2:58:31, 157.53s/it]"
     ]
    },
    {
     "name": "stdout",
     "output_type": "stream",
     "text": [
      "Epoch [32/100] Acc@1: 0.00%, Acc@5: 0.22%\n",
      "Model saved to ./experiments/cpc_2025-05-14_06-46-08/weights.pth\n"
     ]
    },
    {
     "name": "stderr",
     "output_type": "stream",
     "text": [
      " 33%|███▎      | 33/100 [1:26:59<2:59:25, 160.68s/it]"
     ]
    },
    {
     "name": "stdout",
     "output_type": "stream",
     "text": [
      "Latest checkpoint saved to ./experiments/cpc_2025-05-14_06-46-08/last_checkpoint.pt at epoch 32\n"
     ]
    },
    {
     "name": "stderr",
     "output_type": "stream",
     "text": [
      "100%|██████████| 29/29 [01:19<00:00,  2.73s/it, loss/step=1.54, norm=0.253]\n",
      " 33%|███▎      | 33/100 [1:28:18<2:59:25, 160.68s/it]"
     ]
    },
    {
     "name": "stdout",
     "output_type": "stream",
     "text": [
      "Epoch 33: loss = 1.5549\n"
     ]
    },
    {
     "name": "stderr",
     "output_type": "stream",
     "text": [
      " 33%|███▎      | 33/100 [1:29:21<2:59:25, 160.68s/it]"
     ]
    },
    {
     "name": "stdout",
     "output_type": "stream",
     "text": [
      "Epoch [33/100] Acc@1: 0.00%, Acc@5: 0.11%\n"
     ]
    },
    {
     "name": "stderr",
     "output_type": "stream",
     "text": [
      " 34%|███▍      | 34/100 [1:29:21<2:50:36, 155.09s/it]"
     ]
    },
    {
     "name": "stdout",
     "output_type": "stream",
     "text": [
      "Latest checkpoint saved to ./experiments/cpc_2025-05-14_06-46-08/last_checkpoint.pt at epoch 33\n"
     ]
    },
    {
     "name": "stderr",
     "output_type": "stream",
     "text": [
      "100%|██████████| 29/29 [01:30<00:00,  3.13s/it, loss/step=1.52, norm=0.196]\n",
      " 34%|███▍      | 34/100 [1:30:52<2:50:36, 155.09s/it]"
     ]
    },
    {
     "name": "stdout",
     "output_type": "stream",
     "text": [
      "Epoch 34: loss = 1.5511\n"
     ]
    },
    {
     "name": "stderr",
     "output_type": "stream",
     "text": [
      " 34%|███▍      | 34/100 [1:32:15<2:50:36, 155.09s/it]"
     ]
    },
    {
     "name": "stdout",
     "output_type": "stream",
     "text": [
      "Epoch [34/100] Acc@1: 0.00%, Acc@5: 0.11%\n",
      "Model saved to ./experiments/cpc_2025-05-14_06-46-08/weights.pth\n"
     ]
    },
    {
     "name": "stderr",
     "output_type": "stream",
     "text": [
      " 35%|███▌      | 35/100 [1:32:16<2:54:22, 160.96s/it]"
     ]
    },
    {
     "name": "stdout",
     "output_type": "stream",
     "text": [
      "Latest checkpoint saved to ./experiments/cpc_2025-05-14_06-46-08/last_checkpoint.pt at epoch 34\n"
     ]
    },
    {
     "name": "stderr",
     "output_type": "stream",
     "text": [
      "100%|██████████| 29/29 [01:10<00:00,  2.42s/it, loss/step=1.55, norm=0.142]\n",
      " 35%|███▌      | 35/100 [1:33:26<2:54:22, 160.96s/it]"
     ]
    },
    {
     "name": "stdout",
     "output_type": "stream",
     "text": [
      "Epoch 35: loss = 1.5425\n"
     ]
    },
    {
     "name": "stderr",
     "output_type": "stream",
     "text": [
      " 35%|███▌      | 35/100 [1:34:29<2:54:22, 160.96s/it]"
     ]
    },
    {
     "name": "stdout",
     "output_type": "stream",
     "text": [
      "Epoch [35/100] Acc@1: 0.00%, Acc@5: 0.11%\n",
      "Model saved to ./experiments/cpc_2025-05-14_06-46-08/weights.pth\n"
     ]
    },
    {
     "name": "stderr",
     "output_type": "stream",
     "text": [
      " 36%|███▌      | 36/100 [1:34:30<2:42:57, 152.78s/it]"
     ]
    },
    {
     "name": "stdout",
     "output_type": "stream",
     "text": [
      "Latest checkpoint saved to ./experiments/cpc_2025-05-14_06-46-08/last_checkpoint.pt at epoch 35\n"
     ]
    },
    {
     "name": "stderr",
     "output_type": "stream",
     "text": [
      "100%|██████████| 29/29 [01:20<00:00,  2.77s/it, loss/step=1.54, norm=0.14]\n",
      " 36%|███▌      | 36/100 [1:35:50<2:42:57, 152.78s/it]"
     ]
    },
    {
     "name": "stdout",
     "output_type": "stream",
     "text": [
      "Epoch 36: loss = 1.5399\n"
     ]
    },
    {
     "name": "stderr",
     "output_type": "stream",
     "text": [
      " 36%|███▌      | 36/100 [1:37:13<2:42:57, 152.78s/it]"
     ]
    },
    {
     "name": "stdout",
     "output_type": "stream",
     "text": [
      "Epoch [36/100] Acc@1: 0.00%, Acc@5: 0.11%\n",
      "Model saved to ./experiments/cpc_2025-05-14_06-46-08/weights.pth\n"
     ]
    },
    {
     "name": "stderr",
     "output_type": "stream",
     "text": [
      " 37%|███▋      | 37/100 [1:37:14<2:43:59, 156.17s/it]"
     ]
    },
    {
     "name": "stdout",
     "output_type": "stream",
     "text": [
      "Latest checkpoint saved to ./experiments/cpc_2025-05-14_06-46-08/last_checkpoint.pt at epoch 36\n"
     ]
    },
    {
     "name": "stderr",
     "output_type": "stream",
     "text": [
      "100%|██████████| 29/29 [01:40<00:00,  3.48s/it, loss/step=1.51, norm=0.159]\n",
      " 37%|███▋      | 37/100 [1:38:55<2:43:59, 156.17s/it]"
     ]
    },
    {
     "name": "stdout",
     "output_type": "stream",
     "text": [
      "Epoch 37: loss = 1.5380\n"
     ]
    },
    {
     "name": "stderr",
     "output_type": "stream",
     "text": [
      " 37%|███▋      | 37/100 [1:39:58<2:43:59, 156.17s/it]"
     ]
    },
    {
     "name": "stdout",
     "output_type": "stream",
     "text": [
      "Epoch [37/100] Acc@1: 0.00%, Acc@5: 0.22%\n",
      "Model saved to ./experiments/cpc_2025-05-14_06-46-08/weights.pth\n"
     ]
    },
    {
     "name": "stderr",
     "output_type": "stream",
     "text": [
      " 38%|███▊      | 38/100 [1:39:59<2:44:02, 158.75s/it]"
     ]
    },
    {
     "name": "stdout",
     "output_type": "stream",
     "text": [
      "Latest checkpoint saved to ./experiments/cpc_2025-05-14_06-46-08/last_checkpoint.pt at epoch 37\n"
     ]
    },
    {
     "name": "stderr",
     "output_type": "stream",
     "text": [
      "100%|██████████| 29/29 [01:14<00:00,  2.57s/it, loss/step=1.54, norm=0.184]\n",
      " 38%|███▊      | 38/100 [1:41:13<2:44:02, 158.75s/it]"
     ]
    },
    {
     "name": "stdout",
     "output_type": "stream",
     "text": [
      "Epoch 38: loss = 1.5371\n"
     ]
    },
    {
     "name": "stderr",
     "output_type": "stream",
     "text": [
      " 38%|███▊      | 38/100 [1:42:53<2:44:02, 158.75s/it]"
     ]
    },
    {
     "name": "stdout",
     "output_type": "stream",
     "text": [
      "Epoch [38/100] Acc@1: 0.00%, Acc@5: 0.22%\n",
      "Model saved to ./experiments/cpc_2025-05-14_06-46-08/weights.pth\n"
     ]
    },
    {
     "name": "stderr",
     "output_type": "stream",
     "text": [
      " 39%|███▉      | 39/100 [1:42:54<2:46:30, 163.78s/it]"
     ]
    },
    {
     "name": "stdout",
     "output_type": "stream",
     "text": [
      "Latest checkpoint saved to ./experiments/cpc_2025-05-14_06-46-08/last_checkpoint.pt at epoch 38\n"
     ]
    },
    {
     "name": "stderr",
     "output_type": "stream",
     "text": [
      "100%|██████████| 29/29 [01:16<00:00,  2.63s/it, loss/step=1.55, norm=0.158]\n",
      " 39%|███▉      | 39/100 [1:44:10<2:46:30, 163.78s/it]"
     ]
    },
    {
     "name": "stdout",
     "output_type": "stream",
     "text": [
      "Epoch 39: loss = 1.5363\n"
     ]
    },
    {
     "name": "stderr",
     "output_type": "stream",
     "text": [
      " 39%|███▉      | 39/100 [1:45:17<2:46:30, 163.78s/it]"
     ]
    },
    {
     "name": "stdout",
     "output_type": "stream",
     "text": [
      "Epoch [39/100] Acc@1: 0.00%, Acc@5: 0.11%\n",
      "Model saved to ./experiments/cpc_2025-05-14_06-46-08/weights.pth\n"
     ]
    },
    {
     "name": "stderr",
     "output_type": "stream",
     "text": [
      " 40%|████      | 40/100 [1:45:18<2:37:52, 157.88s/it]"
     ]
    },
    {
     "name": "stdout",
     "output_type": "stream",
     "text": [
      "Latest checkpoint saved to ./experiments/cpc_2025-05-14_06-46-08/last_checkpoint.pt at epoch 39\n"
     ]
    },
    {
     "name": "stderr",
     "output_type": "stream",
     "text": [
      "100%|██████████| 29/29 [01:39<00:00,  3.43s/it, loss/step=1.48, norm=0.13]\n",
      " 40%|████      | 40/100 [1:46:58<2:37:52, 157.88s/it]"
     ]
    },
    {
     "name": "stdout",
     "output_type": "stream",
     "text": [
      "Epoch 40: loss = 1.5331\n"
     ]
    },
    {
     "name": "stderr",
     "output_type": "stream",
     "text": [
      " 40%|████      | 40/100 [1:48:21<2:37:52, 157.88s/it]"
     ]
    },
    {
     "name": "stdout",
     "output_type": "stream",
     "text": [
      "Epoch [40/100] Acc@1: 0.00%, Acc@5: 0.11%\n",
      "Model saved to ./experiments/cpc_2025-05-14_06-46-08/weights.pth\n"
     ]
    },
    {
     "name": "stderr",
     "output_type": "stream",
     "text": [
      " 41%|████      | 41/100 [1:48:22<2:42:55, 165.68s/it]"
     ]
    },
    {
     "name": "stdout",
     "output_type": "stream",
     "text": [
      "Latest checkpoint saved to ./experiments/cpc_2025-05-14_06-46-08/last_checkpoint.pt at epoch 40\n"
     ]
    },
    {
     "name": "stderr",
     "output_type": "stream",
     "text": [
      "100%|██████████| 29/29 [01:16<00:00,  2.63s/it, loss/step=1.51, norm=0.148]\n",
      " 41%|████      | 41/100 [1:49:38<2:42:55, 165.68s/it]"
     ]
    },
    {
     "name": "stdout",
     "output_type": "stream",
     "text": [
      "Epoch 41: loss = 1.5261\n"
     ]
    },
    {
     "name": "stderr",
     "output_type": "stream",
     "text": [
      " 41%|████      | 41/100 [1:51:09<2:42:55, 165.68s/it]"
     ]
    },
    {
     "name": "stdout",
     "output_type": "stream",
     "text": [
      "Epoch [41/100] Acc@1: 0.00%, Acc@5: 0.11%\n",
      "Model saved to ./experiments/cpc_2025-05-14_06-46-08/weights.pth\n"
     ]
    },
    {
     "name": "stderr",
     "output_type": "stream",
     "text": [
      " 42%|████▏     | 42/100 [1:51:09<2:40:33, 166.10s/it]"
     ]
    },
    {
     "name": "stdout",
     "output_type": "stream",
     "text": [
      "Latest checkpoint saved to ./experiments/cpc_2025-05-14_06-46-08/last_checkpoint.pt at epoch 41\n"
     ]
    },
    {
     "name": "stderr",
     "output_type": "stream",
     "text": [
      "100%|██████████| 29/29 [01:22<00:00,  2.85s/it, loss/step=1.53, norm=0.204]\n",
      " 42%|████▏     | 42/100 [1:52:32<2:40:33, 166.10s/it]"
     ]
    },
    {
     "name": "stdout",
     "output_type": "stream",
     "text": [
      "Epoch 42: loss = 1.5306\n"
     ]
    },
    {
     "name": "stderr",
     "output_type": "stream",
     "text": [
      " 42%|████▏     | 42/100 [1:53:50<2:40:33, 166.10s/it]"
     ]
    },
    {
     "name": "stdout",
     "output_type": "stream",
     "text": [
      "Epoch [42/100] Acc@1: 0.00%, Acc@5: 0.22%\n"
     ]
    },
    {
     "name": "stderr",
     "output_type": "stream",
     "text": [
      " 43%|████▎     | 43/100 [1:53:50<2:36:20, 164.58s/it]"
     ]
    },
    {
     "name": "stdout",
     "output_type": "stream",
     "text": [
      "Latest checkpoint saved to ./experiments/cpc_2025-05-14_06-46-08/last_checkpoint.pt at epoch 42\n"
     ]
    },
    {
     "name": "stderr",
     "output_type": "stream",
     "text": [
      "100%|██████████| 29/29 [01:36<00:00,  3.33s/it, loss/step=1.53, norm=0.139]\n",
      " 43%|████▎     | 43/100 [1:55:27<2:36:20, 164.58s/it]"
     ]
    },
    {
     "name": "stdout",
     "output_type": "stream",
     "text": [
      "Epoch 43: loss = 1.5250\n"
     ]
    },
    {
     "name": "stderr",
     "output_type": "stream",
     "text": [
      " 43%|████▎     | 43/100 [1:56:26<2:36:20, 164.58s/it]"
     ]
    },
    {
     "name": "stdout",
     "output_type": "stream",
     "text": [
      "Epoch [43/100] Acc@1: 0.00%, Acc@5: 0.11%\n",
      "Model saved to ./experiments/cpc_2025-05-14_06-46-08/weights.pth\n"
     ]
    },
    {
     "name": "stderr",
     "output_type": "stream",
     "text": [
      " 44%|████▍     | 44/100 [1:56:27<2:31:23, 162.20s/it]"
     ]
    },
    {
     "name": "stdout",
     "output_type": "stream",
     "text": [
      "Latest checkpoint saved to ./experiments/cpc_2025-05-14_06-46-08/last_checkpoint.pt at epoch 43\n"
     ]
    },
    {
     "name": "stderr",
     "output_type": "stream",
     "text": [
      "100%|██████████| 29/29 [01:10<00:00,  2.43s/it, loss/step=1.54, norm=0.172]\n",
      " 44%|████▍     | 44/100 [1:57:37<2:31:23, 162.20s/it]"
     ]
    },
    {
     "name": "stdout",
     "output_type": "stream",
     "text": [
      "Epoch 44: loss = 1.5234\n"
     ]
    },
    {
     "name": "stderr",
     "output_type": "stream",
     "text": [
      " 44%|████▍     | 44/100 [1:59:02<2:31:23, 162.20s/it]"
     ]
    },
    {
     "name": "stdout",
     "output_type": "stream",
     "text": [
      "Epoch [44/100] Acc@1: 0.00%, Acc@5: 0.11%\n",
      "Model saved to ./experiments/cpc_2025-05-14_06-46-08/weights.pth\n"
     ]
    },
    {
     "name": "stderr",
     "output_type": "stream",
     "text": [
      " 45%|████▌     | 45/100 [1:59:02<2:26:48, 160.16s/it]"
     ]
    },
    {
     "name": "stdout",
     "output_type": "stream",
     "text": [
      "Latest checkpoint saved to ./experiments/cpc_2025-05-14_06-46-08/last_checkpoint.pt at epoch 44\n"
     ]
    },
    {
     "name": "stderr",
     "output_type": "stream",
     "text": [
      "100%|██████████| 29/29 [01:14<00:00,  2.56s/it, loss/step=1.52, norm=0.102]\n",
      " 45%|████▌     | 45/100 [2:00:17<2:26:48, 160.16s/it]"
     ]
    },
    {
     "name": "stdout",
     "output_type": "stream",
     "text": [
      "Epoch 45: loss = 1.5281\n"
     ]
    },
    {
     "name": "stderr",
     "output_type": "stream",
     "text": [
      " 45%|████▌     | 45/100 [2:01:22<2:26:48, 160.16s/it]"
     ]
    },
    {
     "name": "stdout",
     "output_type": "stream",
     "text": [
      "Epoch [45/100] Acc@1: 0.00%, Acc@5: 0.22%\n"
     ]
    },
    {
     "name": "stderr",
     "output_type": "stream",
     "text": [
      " 46%|████▌     | 46/100 [2:01:22<2:18:40, 154.09s/it]"
     ]
    },
    {
     "name": "stdout",
     "output_type": "stream",
     "text": [
      "Latest checkpoint saved to ./experiments/cpc_2025-05-14_06-46-08/last_checkpoint.pt at epoch 45\n"
     ]
    },
    {
     "name": "stderr",
     "output_type": "stream",
     "text": [
      "100%|██████████| 29/29 [01:34<00:00,  3.25s/it, loss/step=1.5, norm=0.175]\n",
      " 46%|████▌     | 46/100 [2:02:56<2:18:40, 154.09s/it]"
     ]
    },
    {
     "name": "stdout",
     "output_type": "stream",
     "text": [
      "Epoch 46: loss = 1.5227\n"
     ]
    },
    {
     "name": "stderr",
     "output_type": "stream",
     "text": [
      " 46%|████▌     | 46/100 [2:04:11<2:18:40, 154.09s/it]"
     ]
    },
    {
     "name": "stdout",
     "output_type": "stream",
     "text": [
      "Epoch [46/100] Acc@1: 0.00%, Acc@5: 0.33%\n",
      "Model saved to ./experiments/cpc_2025-05-14_06-46-08/weights.pth\n"
     ]
    },
    {
     "name": "stderr",
     "output_type": "stream",
     "text": [
      " 47%|████▋     | 47/100 [2:04:11<2:20:07, 158.64s/it]"
     ]
    },
    {
     "name": "stdout",
     "output_type": "stream",
     "text": [
      "Latest checkpoint saved to ./experiments/cpc_2025-05-14_06-46-08/last_checkpoint.pt at epoch 46\n"
     ]
    },
    {
     "name": "stderr",
     "output_type": "stream",
     "text": [
      "100%|██████████| 29/29 [01:18<00:00,  2.70s/it, loss/step=1.5, norm=0.151]\n",
      " 47%|████▋     | 47/100 [2:05:30<2:20:07, 158.64s/it]"
     ]
    },
    {
     "name": "stdout",
     "output_type": "stream",
     "text": [
      "Epoch 47: loss = 1.5227\n"
     ]
    },
    {
     "name": "stderr",
     "output_type": "stream",
     "text": [
      " 47%|████▋     | 47/100 [2:07:03<2:20:07, 158.64s/it]"
     ]
    },
    {
     "name": "stdout",
     "output_type": "stream",
     "text": [
      "Epoch [47/100] Acc@1: 0.00%, Acc@5: 0.22%\n",
      "Model saved to ./experiments/cpc_2025-05-14_06-46-08/weights.pth\n"
     ]
    },
    {
     "name": "stderr",
     "output_type": "stream",
     "text": [
      " 48%|████▊     | 48/100 [2:07:03<2:20:54, 162.59s/it]"
     ]
    },
    {
     "name": "stdout",
     "output_type": "stream",
     "text": [
      "Latest checkpoint saved to ./experiments/cpc_2025-05-14_06-46-08/last_checkpoint.pt at epoch 47\n"
     ]
    },
    {
     "name": "stderr",
     "output_type": "stream",
     "text": [
      "100%|██████████| 29/29 [01:25<00:00,  2.93s/it, loss/step=1.57, norm=0.216]\n",
      " 48%|████▊     | 48/100 [2:08:28<2:20:54, 162.59s/it]"
     ]
    },
    {
     "name": "stdout",
     "output_type": "stream",
     "text": [
      "Epoch 48: loss = 1.5206\n"
     ]
    },
    {
     "name": "stderr",
     "output_type": "stream",
     "text": [
      " 48%|████▊     | 48/100 [2:09:48<2:20:54, 162.59s/it]"
     ]
    },
    {
     "name": "stdout",
     "output_type": "stream",
     "text": [
      "Epoch [48/100] Acc@1: 0.00%, Acc@5: 0.43%\n",
      "Model saved to ./experiments/cpc_2025-05-14_06-46-08/weights.pth\n"
     ]
    },
    {
     "name": "stderr",
     "output_type": "stream",
     "text": [
      " 49%|████▉     | 49/100 [2:09:49<2:18:58, 163.51s/it]"
     ]
    },
    {
     "name": "stdout",
     "output_type": "stream",
     "text": [
      "Latest checkpoint saved to ./experiments/cpc_2025-05-14_06-46-08/last_checkpoint.pt at epoch 48\n"
     ]
    },
    {
     "name": "stderr",
     "output_type": "stream",
     "text": [
      "100%|██████████| 29/29 [01:39<00:00,  3.44s/it, loss/step=1.47, norm=0.121]\n",
      " 49%|████▉     | 49/100 [2:11:29<2:18:58, 163.51s/it]"
     ]
    },
    {
     "name": "stdout",
     "output_type": "stream",
     "text": [
      "Epoch 49: loss = 1.5225\n"
     ]
    },
    {
     "name": "stderr",
     "output_type": "stream",
     "text": [
      " 49%|████▉     | 49/100 [2:12:29<2:18:58, 163.51s/it]"
     ]
    },
    {
     "name": "stdout",
     "output_type": "stream",
     "text": [
      "Epoch [49/100] Acc@1: 0.00%, Acc@5: 0.22%\n"
     ]
    },
    {
     "name": "stderr",
     "output_type": "stream",
     "text": [
      " 50%|█████     | 50/100 [2:12:30<2:15:36, 162.74s/it]"
     ]
    },
    {
     "name": "stdout",
     "output_type": "stream",
     "text": [
      "Latest checkpoint saved to ./experiments/cpc_2025-05-14_06-46-08/last_checkpoint.pt at epoch 49\n"
     ]
    },
    {
     "name": "stderr",
     "output_type": "stream",
     "text": [
      "100%|██████████| 29/29 [01:16<00:00,  2.65s/it, loss/step=1.57, norm=0.161]\n",
      " 50%|█████     | 50/100 [2:13:47<2:15:36, 162.74s/it]"
     ]
    },
    {
     "name": "stdout",
     "output_type": "stream",
     "text": [
      "Epoch 50: loss = 1.5221\n"
     ]
    },
    {
     "name": "stderr",
     "output_type": "stream",
     "text": [
      " 50%|█████     | 50/100 [2:15:07<2:15:36, 162.74s/it]"
     ]
    },
    {
     "name": "stdout",
     "output_type": "stream",
     "text": [
      "Epoch [50/100] Acc@1: 0.00%, Acc@5: 0.11%\n"
     ]
    },
    {
     "name": "stderr",
     "output_type": "stream",
     "text": [
      " 51%|█████     | 51/100 [2:15:07<2:11:38, 161.20s/it]"
     ]
    },
    {
     "name": "stdout",
     "output_type": "stream",
     "text": [
      "Latest checkpoint saved to ./experiments/cpc_2025-05-14_06-46-08/last_checkpoint.pt at epoch 50\n"
     ]
    },
    {
     "name": "stderr",
     "output_type": "stream",
     "text": [
      "100%|██████████| 29/29 [01:36<00:00,  3.32s/it, loss/step=1.51, norm=0.133]\n",
      " 51%|█████     | 51/100 [2:16:44<2:11:38, 161.20s/it]"
     ]
    },
    {
     "name": "stdout",
     "output_type": "stream",
     "text": [
      "Epoch 51: loss = 1.5182\n"
     ]
    },
    {
     "name": "stderr",
     "output_type": "stream",
     "text": [
      " 51%|█████     | 51/100 [2:17:45<2:11:38, 161.20s/it]"
     ]
    },
    {
     "name": "stdout",
     "output_type": "stream",
     "text": [
      "Epoch [51/100] Acc@1: 0.00%, Acc@5: 0.22%\n",
      "Model saved to ./experiments/cpc_2025-05-14_06-46-08/weights.pth\n"
     ]
    },
    {
     "name": "stderr",
     "output_type": "stream",
     "text": [
      " 52%|█████▏    | 52/100 [2:17:46<2:08:15, 160.32s/it]"
     ]
    },
    {
     "name": "stdout",
     "output_type": "stream",
     "text": [
      "Latest checkpoint saved to ./experiments/cpc_2025-05-14_06-46-08/last_checkpoint.pt at epoch 51\n"
     ]
    },
    {
     "name": "stderr",
     "output_type": "stream",
     "text": [
      "100%|██████████| 29/29 [01:03<00:00,  2.17s/it, loss/step=1.49, norm=0.111]\n",
      " 52%|█████▏    | 52/100 [2:18:49<2:08:15, 160.32s/it]"
     ]
    },
    {
     "name": "stdout",
     "output_type": "stream",
     "text": [
      "Epoch 52: loss = 1.5165\n"
     ]
    },
    {
     "name": "stderr",
     "output_type": "stream",
     "text": [
      " 52%|█████▏    | 52/100 [2:20:05<2:08:15, 160.32s/it]"
     ]
    },
    {
     "name": "stdout",
     "output_type": "stream",
     "text": [
      "Epoch [52/100] Acc@1: 0.00%, Acc@5: 0.22%\n",
      "Model saved to ./experiments/cpc_2025-05-14_06-46-08/weights.pth\n"
     ]
    },
    {
     "name": "stderr",
     "output_type": "stream",
     "text": [
      " 53%|█████▎    | 53/100 [2:20:05<2:00:42, 154.10s/it]"
     ]
    },
    {
     "name": "stdout",
     "output_type": "stream",
     "text": [
      "Latest checkpoint saved to ./experiments/cpc_2025-05-14_06-46-08/last_checkpoint.pt at epoch 52\n"
     ]
    },
    {
     "name": "stderr",
     "output_type": "stream",
     "text": [
      "100%|██████████| 29/29 [01:36<00:00,  3.33s/it, loss/step=1.51, norm=0.126]\n",
      " 53%|█████▎    | 53/100 [2:21:42<2:00:42, 154.10s/it]"
     ]
    },
    {
     "name": "stdout",
     "output_type": "stream",
     "text": [
      "Epoch 53: loss = 1.5145\n"
     ]
    },
    {
     "name": "stderr",
     "output_type": "stream",
     "text": [
      " 53%|█████▎    | 53/100 [2:23:05<2:00:42, 154.10s/it]"
     ]
    },
    {
     "name": "stdout",
     "output_type": "stream",
     "text": [
      "Epoch [53/100] Acc@1: 0.00%, Acc@5: 0.22%\n",
      "Model saved to ./experiments/cpc_2025-05-14_06-46-08/weights.pth\n"
     ]
    },
    {
     "name": "stderr",
     "output_type": "stream",
     "text": [
      " 54%|█████▍    | 54/100 [2:23:06<2:04:15, 162.07s/it]"
     ]
    },
    {
     "name": "stdout",
     "output_type": "stream",
     "text": [
      "Latest checkpoint saved to ./experiments/cpc_2025-05-14_06-46-08/last_checkpoint.pt at epoch 53\n"
     ]
    },
    {
     "name": "stderr",
     "output_type": "stream",
     "text": [
      "100%|██████████| 29/29 [01:30<00:00,  3.13s/it, loss/step=1.52, norm=0.122]\n",
      " 54%|█████▍    | 54/100 [2:24:37<2:04:15, 162.07s/it]"
     ]
    },
    {
     "name": "stdout",
     "output_type": "stream",
     "text": [
      "Epoch 54: loss = 1.5158\n"
     ]
    },
    {
     "name": "stderr",
     "output_type": "stream",
     "text": [
      " 54%|█████▍    | 54/100 [2:25:57<2:04:15, 162.07s/it]"
     ]
    },
    {
     "name": "stdout",
     "output_type": "stream",
     "text": [
      "Epoch [54/100] Acc@1: 0.00%, Acc@5: 0.11%\n"
     ]
    },
    {
     "name": "stderr",
     "output_type": "stream",
     "text": [
      " 55%|█████▌    | 55/100 [2:25:57<2:03:33, 164.75s/it]"
     ]
    },
    {
     "name": "stdout",
     "output_type": "stream",
     "text": [
      "Latest checkpoint saved to ./experiments/cpc_2025-05-14_06-46-08/last_checkpoint.pt at epoch 54\n"
     ]
    },
    {
     "name": "stderr",
     "output_type": "stream",
     "text": [
      "100%|██████████| 29/29 [01:34<00:00,  3.24s/it, loss/step=1.49, norm=0.128]\n",
      " 55%|█████▌    | 55/100 [2:27:31<2:03:33, 164.75s/it]"
     ]
    },
    {
     "name": "stdout",
     "output_type": "stream",
     "text": [
      "Epoch 55: loss = 1.5148\n"
     ]
    },
    {
     "name": "stderr",
     "output_type": "stream",
     "text": [
      " 55%|█████▌    | 55/100 [2:28:31<2:03:33, 164.75s/it]"
     ]
    },
    {
     "name": "stdout",
     "output_type": "stream",
     "text": [
      "Epoch [55/100] Acc@1: 0.00%, Acc@5: 0.00%\n"
     ]
    },
    {
     "name": "stderr",
     "output_type": "stream",
     "text": [
      " 56%|█████▌    | 56/100 [2:28:32<1:58:40, 161.82s/it]"
     ]
    },
    {
     "name": "stdout",
     "output_type": "stream",
     "text": [
      "Latest checkpoint saved to ./experiments/cpc_2025-05-14_06-46-08/last_checkpoint.pt at epoch 55\n"
     ]
    },
    {
     "name": "stderr",
     "output_type": "stream",
     "text": [
      "100%|██████████| 29/29 [01:24<00:00,  2.90s/it, loss/step=1.51, norm=0.175]\n",
      " 56%|█████▌    | 56/100 [2:29:56<1:58:40, 161.82s/it]"
     ]
    },
    {
     "name": "stdout",
     "output_type": "stream",
     "text": [
      "Epoch 56: loss = 1.5148\n"
     ]
    },
    {
     "name": "stderr",
     "output_type": "stream",
     "text": [
      " 56%|█████▌    | 56/100 [2:31:19<1:58:40, 161.82s/it]"
     ]
    },
    {
     "name": "stdout",
     "output_type": "stream",
     "text": [
      "Epoch [56/100] Acc@1: 0.00%, Acc@5: 0.11%\n"
     ]
    },
    {
     "name": "stderr",
     "output_type": "stream",
     "text": [
      " 57%|█████▋    | 57/100 [2:31:19<1:57:11, 163.53s/it]"
     ]
    },
    {
     "name": "stdout",
     "output_type": "stream",
     "text": [
      "Latest checkpoint saved to ./experiments/cpc_2025-05-14_06-46-08/last_checkpoint.pt at epoch 56\n"
     ]
    },
    {
     "name": "stderr",
     "output_type": "stream",
     "text": [
      "100%|██████████| 29/29 [01:29<00:00,  3.08s/it, loss/step=1.48, norm=0.17]\n",
      " 57%|█████▋    | 57/100 [2:32:49<1:57:11, 163.53s/it]"
     ]
    },
    {
     "name": "stdout",
     "output_type": "stream",
     "text": [
      "Epoch 57: loss = 1.5120\n"
     ]
    },
    {
     "name": "stderr",
     "output_type": "stream",
     "text": [
      " 57%|█████▋    | 57/100 [2:33:47<1:57:11, 163.53s/it]"
     ]
    },
    {
     "name": "stdout",
     "output_type": "stream",
     "text": [
      "Epoch [57/100] Acc@1: 0.00%, Acc@5: 0.22%\n",
      "Model saved to ./experiments/cpc_2025-05-14_06-46-08/weights.pth\n"
     ]
    },
    {
     "name": "stderr",
     "output_type": "stream",
     "text": [
      " 58%|█████▊    | 58/100 [2:33:48<1:51:19, 159.03s/it]"
     ]
    },
    {
     "name": "stdout",
     "output_type": "stream",
     "text": [
      "Latest checkpoint saved to ./experiments/cpc_2025-05-14_06-46-08/last_checkpoint.pt at epoch 57\n"
     ]
    },
    {
     "name": "stderr",
     "output_type": "stream",
     "text": [
      "100%|██████████| 29/29 [01:13<00:00,  2.55s/it, loss/step=1.56, norm=0.134]\n",
      " 58%|█████▊    | 58/100 [2:35:02<1:51:19, 159.03s/it]"
     ]
    },
    {
     "name": "stdout",
     "output_type": "stream",
     "text": [
      "Epoch 58: loss = 1.5165\n"
     ]
    },
    {
     "name": "stderr",
     "output_type": "stream",
     "text": [
      " 58%|█████▊    | 58/100 [2:36:34<1:51:19, 159.03s/it]"
     ]
    },
    {
     "name": "stdout",
     "output_type": "stream",
     "text": [
      "Epoch [58/100] Acc@1: 0.00%, Acc@5: 0.22%\n"
     ]
    },
    {
     "name": "stderr",
     "output_type": "stream",
     "text": [
      " 59%|█████▉    | 59/100 [2:36:34<1:50:07, 161.15s/it]"
     ]
    },
    {
     "name": "stdout",
     "output_type": "stream",
     "text": [
      "Latest checkpoint saved to ./experiments/cpc_2025-05-14_06-46-08/last_checkpoint.pt at epoch 58\n"
     ]
    },
    {
     "name": "stderr",
     "output_type": "stream",
     "text": [
      "100%|██████████| 29/29 [01:33<00:00,  3.22s/it, loss/step=1.53, norm=0.181]\n",
      " 59%|█████▉    | 59/100 [2:38:07<1:50:07, 161.15s/it]"
     ]
    },
    {
     "name": "stdout",
     "output_type": "stream",
     "text": [
      "Epoch 59: loss = 1.5144\n"
     ]
    },
    {
     "name": "stderr",
     "output_type": "stream",
     "text": [
      " 59%|█████▉    | 59/100 [2:39:24<1:50:07, 161.15s/it]"
     ]
    },
    {
     "name": "stdout",
     "output_type": "stream",
     "text": [
      "Epoch [59/100] Acc@1: 0.00%, Acc@5: 0.11%\n"
     ]
    },
    {
     "name": "stderr",
     "output_type": "stream",
     "text": [
      " 60%|██████    | 60/100 [2:39:25<1:49:22, 164.05s/it]"
     ]
    },
    {
     "name": "stdout",
     "output_type": "stream",
     "text": [
      "Latest checkpoint saved to ./experiments/cpc_2025-05-14_06-46-08/last_checkpoint.pt at epoch 59\n"
     ]
    },
    {
     "name": "stderr",
     "output_type": "stream",
     "text": [
      "100%|██████████| 29/29 [01:36<00:00,  3.31s/it, loss/step=1.52, norm=0.173]\n",
      " 60%|██████    | 60/100 [2:41:01<1:49:22, 164.05s/it]"
     ]
    },
    {
     "name": "stdout",
     "output_type": "stream",
     "text": [
      "Epoch 60: loss = 1.5109\n"
     ]
    },
    {
     "name": "stderr",
     "output_type": "stream",
     "text": [
      " 60%|██████    | 60/100 [2:42:18<1:49:22, 164.05s/it]"
     ]
    },
    {
     "name": "stdout",
     "output_type": "stream",
     "text": [
      "Epoch [60/100] Acc@1: 0.00%, Acc@5: 0.11%\n",
      "Model saved to ./experiments/cpc_2025-05-14_06-46-08/weights.pth\n"
     ]
    },
    {
     "name": "stderr",
     "output_type": "stream",
     "text": [
      " 61%|██████    | 61/100 [2:42:19<1:48:33, 167.00s/it]"
     ]
    },
    {
     "name": "stdout",
     "output_type": "stream",
     "text": [
      "Latest checkpoint saved to ./experiments/cpc_2025-05-14_06-46-08/last_checkpoint.pt at epoch 60\n"
     ]
    },
    {
     "name": "stderr",
     "output_type": "stream",
     "text": [
      "100%|██████████| 29/29 [01:35<00:00,  3.29s/it, loss/step=1.53, norm=0.118]\n",
      " 61%|██████    | 61/100 [2:43:54<1:48:33, 167.00s/it]"
     ]
    },
    {
     "name": "stdout",
     "output_type": "stream",
     "text": [
      "Epoch 61: loss = 1.5129\n"
     ]
    },
    {
     "name": "stderr",
     "output_type": "stream",
     "text": [
      " 61%|██████    | 61/100 [2:44:55<1:48:33, 167.00s/it]"
     ]
    },
    {
     "name": "stdout",
     "output_type": "stream",
     "text": [
      "Epoch [61/100] Acc@1: 0.00%, Acc@5: 0.00%\n"
     ]
    },
    {
     "name": "stderr",
     "output_type": "stream",
     "text": [
      " 62%|██████▏   | 62/100 [2:44:56<1:43:54, 164.06s/it]"
     ]
    },
    {
     "name": "stdout",
     "output_type": "stream",
     "text": [
      "Latest checkpoint saved to ./experiments/cpc_2025-05-14_06-46-08/last_checkpoint.pt at epoch 61\n"
     ]
    },
    {
     "name": "stderr",
     "output_type": "stream",
     "text": [
      "100%|██████████| 29/29 [01:27<00:00,  3.02s/it, loss/step=1.53, norm=0.18]\n",
      " 62%|██████▏   | 62/100 [2:46:24<1:43:54, 164.06s/it]"
     ]
    },
    {
     "name": "stdout",
     "output_type": "stream",
     "text": [
      "Epoch 62: loss = 1.5105\n"
     ]
    },
    {
     "name": "stderr",
     "output_type": "stream",
     "text": [
      " 62%|██████▏   | 62/100 [2:47:49<1:43:54, 164.06s/it]"
     ]
    },
    {
     "name": "stdout",
     "output_type": "stream",
     "text": [
      "Epoch [62/100] Acc@1: 0.00%, Acc@5: 0.00%\n",
      "Model saved to ./experiments/cpc_2025-05-14_06-46-08/weights.pth\n"
     ]
    },
    {
     "name": "stderr",
     "output_type": "stream",
     "text": [
      " 63%|██████▎   | 63/100 [2:47:50<1:42:57, 166.97s/it]"
     ]
    },
    {
     "name": "stdout",
     "output_type": "stream",
     "text": [
      "Latest checkpoint saved to ./experiments/cpc_2025-05-14_06-46-08/last_checkpoint.pt at epoch 62\n"
     ]
    },
    {
     "name": "stderr",
     "output_type": "stream",
     "text": [
      "100%|██████████| 29/29 [01:32<00:00,  3.18s/it, loss/step=1.54, norm=0.116]\n",
      " 63%|██████▎   | 63/100 [2:49:22<1:42:57, 166.97s/it]"
     ]
    },
    {
     "name": "stdout",
     "output_type": "stream",
     "text": [
      "Epoch 63: loss = 1.5089\n"
     ]
    },
    {
     "name": "stderr",
     "output_type": "stream",
     "text": [
      " 63%|██████▎   | 63/100 [2:50:22<1:42:57, 166.97s/it]"
     ]
    },
    {
     "name": "stdout",
     "output_type": "stream",
     "text": [
      "Epoch [63/100] Acc@1: 0.00%, Acc@5: 0.22%\n",
      "Model saved to ./experiments/cpc_2025-05-14_06-46-08/weights.pth\n"
     ]
    },
    {
     "name": "stderr",
     "output_type": "stream",
     "text": [
      " 64%|██████▍   | 64/100 [2:50:23<1:37:41, 162.83s/it]"
     ]
    },
    {
     "name": "stdout",
     "output_type": "stream",
     "text": [
      "Latest checkpoint saved to ./experiments/cpc_2025-05-14_06-46-08/last_checkpoint.pt at epoch 63\n"
     ]
    },
    {
     "name": "stderr",
     "output_type": "stream",
     "text": [
      "100%|██████████| 29/29 [01:10<00:00,  2.42s/it, loss/step=1.51, norm=0.138]\n",
      " 64%|██████▍   | 64/100 [2:51:33<1:37:41, 162.83s/it]"
     ]
    },
    {
     "name": "stdout",
     "output_type": "stream",
     "text": [
      "Epoch 64: loss = 1.5094\n"
     ]
    },
    {
     "name": "stderr",
     "output_type": "stream",
     "text": [
      " 64%|██████▍   | 64/100 [2:53:03<1:37:41, 162.83s/it]"
     ]
    },
    {
     "name": "stdout",
     "output_type": "stream",
     "text": [
      "Epoch [64/100] Acc@1: 0.00%, Acc@5: 0.11%\n"
     ]
    },
    {
     "name": "stderr",
     "output_type": "stream",
     "text": [
      " 65%|██████▌   | 65/100 [2:53:04<1:34:36, 162.19s/it]"
     ]
    },
    {
     "name": "stdout",
     "output_type": "stream",
     "text": [
      "Latest checkpoint saved to ./experiments/cpc_2025-05-14_06-46-08/last_checkpoint.pt at epoch 64\n"
     ]
    },
    {
     "name": "stderr",
     "output_type": "stream",
     "text": [
      "100%|██████████| 29/29 [01:09<00:00,  2.40s/it, loss/step=1.51, norm=0.137]\n",
      " 65%|██████▌   | 65/100 [2:54:13<1:34:36, 162.19s/it]"
     ]
    },
    {
     "name": "stdout",
     "output_type": "stream",
     "text": [
      "Epoch 65: loss = 1.5086\n"
     ]
    },
    {
     "name": "stderr",
     "output_type": "stream",
     "text": [
      " 65%|██████▌   | 65/100 [2:55:18<1:34:36, 162.19s/it]"
     ]
    },
    {
     "name": "stdout",
     "output_type": "stream",
     "text": [
      "Epoch [65/100] Acc@1: 0.00%, Acc@5: 0.11%\n",
      "Model saved to ./experiments/cpc_2025-05-14_06-46-08/weights.pth\n"
     ]
    },
    {
     "name": "stderr",
     "output_type": "stream",
     "text": [
      " 66%|██████▌   | 66/100 [2:55:19<1:27:16, 154.01s/it]"
     ]
    },
    {
     "name": "stdout",
     "output_type": "stream",
     "text": [
      "Latest checkpoint saved to ./experiments/cpc_2025-05-14_06-46-08/last_checkpoint.pt at epoch 65\n"
     ]
    },
    {
     "name": "stderr",
     "output_type": "stream",
     "text": [
      "100%|██████████| 29/29 [01:29<00:00,  3.07s/it, loss/step=1.5, norm=0.122]\n",
      " 66%|██████▌   | 66/100 [2:56:48<1:27:16, 154.01s/it]"
     ]
    },
    {
     "name": "stdout",
     "output_type": "stream",
     "text": [
      "Epoch 66: loss = 1.5079\n"
     ]
    },
    {
     "name": "stderr",
     "output_type": "stream",
     "text": [
      " 66%|██████▌   | 66/100 [2:58:06<1:27:16, 154.01s/it]"
     ]
    },
    {
     "name": "stdout",
     "output_type": "stream",
     "text": [
      "Epoch [66/100] Acc@1: 0.00%, Acc@5: 0.11%\n",
      "Model saved to ./experiments/cpc_2025-05-14_06-46-08/weights.pth\n"
     ]
    },
    {
     "name": "stderr",
     "output_type": "stream",
     "text": [
      " 67%|██████▋   | 67/100 [2:58:07<1:27:02, 158.25s/it]"
     ]
    },
    {
     "name": "stdout",
     "output_type": "stream",
     "text": [
      "Latest checkpoint saved to ./experiments/cpc_2025-05-14_06-46-08/last_checkpoint.pt at epoch 66\n"
     ]
    },
    {
     "name": "stderr",
     "output_type": "stream",
     "text": [
      "100%|██████████| 29/29 [01:42<00:00,  3.53s/it, loss/step=1.49, norm=0.147]\n",
      " 67%|██████▋   | 67/100 [2:59:49<1:27:02, 158.25s/it]"
     ]
    },
    {
     "name": "stdout",
     "output_type": "stream",
     "text": [
      "Epoch 67: loss = 1.5066\n"
     ]
    },
    {
     "name": "stderr",
     "output_type": "stream",
     "text": [
      " 67%|██████▋   | 67/100 [3:00:48<1:27:02, 158.25s/it]"
     ]
    },
    {
     "name": "stdout",
     "output_type": "stream",
     "text": [
      "Epoch [67/100] Acc@1: 0.00%, Acc@5: 0.11%\n",
      "Model saved to ./experiments/cpc_2025-05-14_06-46-08/weights.pth\n"
     ]
    },
    {
     "name": "stderr",
     "output_type": "stream",
     "text": [
      " 68%|██████▊   | 68/100 [3:00:48<1:24:57, 159.28s/it]"
     ]
    },
    {
     "name": "stdout",
     "output_type": "stream",
     "text": [
      "Latest checkpoint saved to ./experiments/cpc_2025-05-14_06-46-08/last_checkpoint.pt at epoch 67\n"
     ]
    },
    {
     "name": "stderr",
     "output_type": "stream",
     "text": [
      "100%|██████████| 29/29 [01:21<00:00,  2.81s/it, loss/step=1.51, norm=0.201]\n",
      " 68%|██████▊   | 68/100 [3:02:10<1:24:57, 159.28s/it]"
     ]
    },
    {
     "name": "stdout",
     "output_type": "stream",
     "text": [
      "Epoch 68: loss = 1.5061\n"
     ]
    },
    {
     "name": "stderr",
     "output_type": "stream",
     "text": [
      " 68%|██████▊   | 68/100 [3:03:37<1:24:57, 159.28s/it]"
     ]
    },
    {
     "name": "stdout",
     "output_type": "stream",
     "text": [
      "Epoch [68/100] Acc@1: 0.00%, Acc@5: 0.11%\n",
      "Model saved to ./experiments/cpc_2025-05-14_06-46-08/weights.pth\n"
     ]
    },
    {
     "name": "stderr",
     "output_type": "stream",
     "text": [
      " 69%|██████▉   | 69/100 [3:03:38<1:23:51, 162.32s/it]"
     ]
    },
    {
     "name": "stdout",
     "output_type": "stream",
     "text": [
      "Latest checkpoint saved to ./experiments/cpc_2025-05-14_06-46-08/last_checkpoint.pt at epoch 68\n"
     ]
    },
    {
     "name": "stderr",
     "output_type": "stream",
     "text": [
      "100%|██████████| 29/29 [01:35<00:00,  3.29s/it, loss/step=1.49, norm=0.148]\n",
      " 69%|██████▉   | 69/100 [3:05:13<1:23:51, 162.32s/it]"
     ]
    },
    {
     "name": "stdout",
     "output_type": "stream",
     "text": [
      "Epoch 69: loss = 1.5044\n"
     ]
    },
    {
     "name": "stderr",
     "output_type": "stream",
     "text": [
      " 69%|██████▉   | 69/100 [3:06:15<1:23:51, 162.32s/it]"
     ]
    },
    {
     "name": "stdout",
     "output_type": "stream",
     "text": [
      "Epoch [69/100] Acc@1: 0.00%, Acc@5: 0.11%\n",
      "Model saved to ./experiments/cpc_2025-05-14_06-46-08/weights.pth\n"
     ]
    },
    {
     "name": "stderr",
     "output_type": "stream",
     "text": [
      " 70%|███████   | 70/100 [3:06:15<1:20:25, 160.86s/it]"
     ]
    },
    {
     "name": "stdout",
     "output_type": "stream",
     "text": [
      "Latest checkpoint saved to ./experiments/cpc_2025-05-14_06-46-08/last_checkpoint.pt at epoch 69\n"
     ]
    },
    {
     "name": "stderr",
     "output_type": "stream",
     "text": [
      "100%|██████████| 29/29 [01:04<00:00,  2.24s/it, loss/step=1.48, norm=0.17]\n",
      " 70%|███████   | 70/100 [3:07:20<1:20:25, 160.86s/it]"
     ]
    },
    {
     "name": "stdout",
     "output_type": "stream",
     "text": [
      "Epoch 70: loss = 1.5056\n"
     ]
    },
    {
     "name": "stderr",
     "output_type": "stream",
     "text": [
      " 70%|███████   | 70/100 [3:08:47<1:20:25, 160.86s/it]"
     ]
    },
    {
     "name": "stdout",
     "output_type": "stream",
     "text": [
      "Epoch [70/100] Acc@1: 0.00%, Acc@5: 0.00%\n"
     ]
    },
    {
     "name": "stderr",
     "output_type": "stream",
     "text": [
      " 71%|███████   | 71/100 [3:08:47<1:16:27, 158.19s/it]"
     ]
    },
    {
     "name": "stdout",
     "output_type": "stream",
     "text": [
      "Latest checkpoint saved to ./experiments/cpc_2025-05-14_06-46-08/last_checkpoint.pt at epoch 70\n"
     ]
    },
    {
     "name": "stderr",
     "output_type": "stream",
     "text": [
      "100%|██████████| 29/29 [01:11<00:00,  2.45s/it, loss/step=1.51, norm=0.168]\n",
      " 71%|███████   | 71/100 [3:09:58<1:16:27, 158.19s/it]"
     ]
    },
    {
     "name": "stdout",
     "output_type": "stream",
     "text": [
      "Epoch 71: loss = 1.5078\n"
     ]
    },
    {
     "name": "stderr",
     "output_type": "stream",
     "text": [
      " 71%|███████   | 71/100 [3:11:03<1:16:27, 158.19s/it]"
     ]
    },
    {
     "name": "stdout",
     "output_type": "stream",
     "text": [
      "Epoch [71/100] Acc@1: 0.00%, Acc@5: 0.00%\n"
     ]
    },
    {
     "name": "stderr",
     "output_type": "stream",
     "text": [
      " 72%|███████▏  | 72/100 [3:11:03<1:10:42, 151.51s/it]"
     ]
    },
    {
     "name": "stdout",
     "output_type": "stream",
     "text": [
      "Latest checkpoint saved to ./experiments/cpc_2025-05-14_06-46-08/last_checkpoint.pt at epoch 71\n"
     ]
    },
    {
     "name": "stderr",
     "output_type": "stream",
     "text": [
      "100%|██████████| 29/29 [01:27<00:00,  3.01s/it, loss/step=1.57, norm=0.145]\n",
      " 72%|███████▏  | 72/100 [3:12:30<1:10:42, 151.51s/it]"
     ]
    },
    {
     "name": "stdout",
     "output_type": "stream",
     "text": [
      "Epoch 72: loss = 1.5060\n"
     ]
    },
    {
     "name": "stderr",
     "output_type": "stream",
     "text": [
      " 72%|███████▏  | 72/100 [3:13:52<1:10:42, 151.51s/it]"
     ]
    },
    {
     "name": "stdout",
     "output_type": "stream",
     "text": [
      "Epoch [72/100] Acc@1: 0.00%, Acc@5: 0.00%\n"
     ]
    },
    {
     "name": "stderr",
     "output_type": "stream",
     "text": [
      " 73%|███████▎  | 73/100 [3:13:52<1:10:31, 156.74s/it]"
     ]
    },
    {
     "name": "stdout",
     "output_type": "stream",
     "text": [
      "Latest checkpoint saved to ./experiments/cpc_2025-05-14_06-46-08/last_checkpoint.pt at epoch 72\n"
     ]
    },
    {
     "name": "stderr",
     "output_type": "stream",
     "text": [
      "100%|██████████| 29/29 [01:40<00:00,  3.47s/it, loss/step=1.52, norm=0.209]\n",
      " 73%|███████▎  | 73/100 [3:15:33<1:10:31, 156.74s/it]"
     ]
    },
    {
     "name": "stdout",
     "output_type": "stream",
     "text": [
      "Epoch 73: loss = 1.5039\n"
     ]
    },
    {
     "name": "stderr",
     "output_type": "stream",
     "text": [
      " 73%|███████▎  | 73/100 [3:16:34<1:10:31, 156.74s/it]"
     ]
    },
    {
     "name": "stdout",
     "output_type": "stream",
     "text": [
      "Epoch [73/100] Acc@1: 0.00%, Acc@5: 0.11%\n",
      "Model saved to ./experiments/cpc_2025-05-14_06-46-08/weights.pth\n"
     ]
    },
    {
     "name": "stderr",
     "output_type": "stream",
     "text": [
      " 74%|███████▍  | 74/100 [3:16:35<1:08:40, 158.50s/it]"
     ]
    },
    {
     "name": "stdout",
     "output_type": "stream",
     "text": [
      "Latest checkpoint saved to ./experiments/cpc_2025-05-14_06-46-08/last_checkpoint.pt at epoch 73\n"
     ]
    },
    {
     "name": "stderr",
     "output_type": "stream",
     "text": [
      "100%|██████████| 29/29 [01:21<00:00,  2.82s/it, loss/step=1.51, norm=0.152]\n",
      " 74%|███████▍  | 74/100 [3:17:56<1:08:40, 158.50s/it]"
     ]
    },
    {
     "name": "stdout",
     "output_type": "stream",
     "text": [
      "Epoch 74: loss = 1.5054\n"
     ]
    },
    {
     "name": "stderr",
     "output_type": "stream",
     "text": [
      " 74%|███████▍  | 74/100 [3:19:23<1:08:40, 158.50s/it]"
     ]
    },
    {
     "name": "stdout",
     "output_type": "stream",
     "text": [
      "Epoch [74/100] Acc@1: 0.00%, Acc@5: 0.00%\n"
     ]
    },
    {
     "name": "stderr",
     "output_type": "stream",
     "text": [
      " 75%|███████▌  | 75/100 [3:19:24<1:07:21, 161.64s/it]"
     ]
    },
    {
     "name": "stdout",
     "output_type": "stream",
     "text": [
      "Latest checkpoint saved to ./experiments/cpc_2025-05-14_06-46-08/last_checkpoint.pt at epoch 74\n"
     ]
    },
    {
     "name": "stderr",
     "output_type": "stream",
     "text": [
      "100%|██████████| 29/29 [01:33<00:00,  3.22s/it, loss/step=1.46, norm=0.187]\n",
      " 75%|███████▌  | 75/100 [3:20:57<1:07:21, 161.64s/it]"
     ]
    },
    {
     "name": "stdout",
     "output_type": "stream",
     "text": [
      "Epoch 75: loss = 1.5042\n"
     ]
    },
    {
     "name": "stderr",
     "output_type": "stream",
     "text": [
      " 75%|███████▌  | 75/100 [3:21:57<1:07:21, 161.64s/it]"
     ]
    },
    {
     "name": "stdout",
     "output_type": "stream",
     "text": [
      "Epoch [75/100] Acc@1: 0.00%, Acc@5: 0.00%\n"
     ]
    },
    {
     "name": "stderr",
     "output_type": "stream",
     "text": [
      " 76%|███████▌  | 76/100 [3:21:57<1:03:41, 159.23s/it]"
     ]
    },
    {
     "name": "stdout",
     "output_type": "stream",
     "text": [
      "Latest checkpoint saved to ./experiments/cpc_2025-05-14_06-46-08/last_checkpoint.pt at epoch 75\n"
     ]
    },
    {
     "name": "stderr",
     "output_type": "stream",
     "text": [
      "100%|██████████| 29/29 [01:07<00:00,  2.34s/it, loss/step=1.51, norm=0.191]\n",
      " 76%|███████▌  | 76/100 [3:23:05<1:03:41, 159.23s/it]"
     ]
    },
    {
     "name": "stdout",
     "output_type": "stream",
     "text": [
      "Epoch 76: loss = 1.5032\n"
     ]
    },
    {
     "name": "stderr",
     "output_type": "stream",
     "text": [
      " 76%|███████▌  | 76/100 [3:24:33<1:03:41, 159.23s/it]"
     ]
    },
    {
     "name": "stdout",
     "output_type": "stream",
     "text": [
      "Epoch [76/100] Acc@1: 0.00%, Acc@5: 0.33%\n",
      "Model saved to ./experiments/cpc_2025-05-14_06-46-08/weights.pth\n"
     ]
    },
    {
     "name": "stderr",
     "output_type": "stream",
     "text": [
      " 77%|███████▋  | 77/100 [3:24:34<1:00:44, 158.46s/it]"
     ]
    },
    {
     "name": "stdout",
     "output_type": "stream",
     "text": [
      "Latest checkpoint saved to ./experiments/cpc_2025-05-14_06-46-08/last_checkpoint.pt at epoch 76\n"
     ]
    },
    {
     "name": "stderr",
     "output_type": "stream",
     "text": [
      "100%|██████████| 29/29 [01:23<00:00,  2.88s/it, loss/step=1.48, norm=0.156]\n",
      " 77%|███████▋  | 77/100 [3:25:57<1:00:44, 158.46s/it]"
     ]
    },
    {
     "name": "stdout",
     "output_type": "stream",
     "text": [
      "Epoch 77: loss = 1.5035\n"
     ]
    },
    {
     "name": "stderr",
     "output_type": "stream",
     "text": [
      " 77%|███████▋  | 77/100 [3:27:27<1:00:44, 158.46s/it]"
     ]
    },
    {
     "name": "stdout",
     "output_type": "stream",
     "text": [
      "Epoch [77/100] Acc@1: 0.00%, Acc@5: 0.00%\n"
     ]
    },
    {
     "name": "stderr",
     "output_type": "stream",
     "text": [
      " 78%|███████▊  | 78/100 [3:27:28<59:46, 163.04s/it]  "
     ]
    },
    {
     "name": "stdout",
     "output_type": "stream",
     "text": [
      "Latest checkpoint saved to ./experiments/cpc_2025-05-14_06-46-08/last_checkpoint.pt at epoch 77\n"
     ]
    },
    {
     "name": "stderr",
     "output_type": "stream",
     "text": [
      "100%|██████████| 29/29 [01:34<00:00,  3.26s/it, loss/step=1.47, norm=0.198]\n",
      " 78%|███████▊  | 78/100 [3:29:02<59:46, 163.04s/it]"
     ]
    },
    {
     "name": "stdout",
     "output_type": "stream",
     "text": [
      "Epoch 78: loss = 1.5037\n"
     ]
    },
    {
     "name": "stderr",
     "output_type": "stream",
     "text": [
      " 78%|███████▊  | 78/100 [3:30:24<59:46, 163.04s/it]"
     ]
    },
    {
     "name": "stdout",
     "output_type": "stream",
     "text": [
      "Epoch [78/100] Acc@1: 0.00%, Acc@5: 0.22%\n"
     ]
    },
    {
     "name": "stderr",
     "output_type": "stream",
     "text": [
      " 79%|███████▉  | 79/100 [3:30:25<58:31, 167.22s/it]"
     ]
    },
    {
     "name": "stdout",
     "output_type": "stream",
     "text": [
      "Latest checkpoint saved to ./experiments/cpc_2025-05-14_06-46-08/last_checkpoint.pt at epoch 78\n"
     ]
    },
    {
     "name": "stderr",
     "output_type": "stream",
     "text": [
      "100%|██████████| 29/29 [01:32<00:00,  3.20s/it, loss/step=1.54, norm=0.124]\n",
      " 79%|███████▉  | 79/100 [3:31:57<58:31, 167.22s/it]"
     ]
    },
    {
     "name": "stdout",
     "output_type": "stream",
     "text": [
      "Epoch 79: loss = 1.5007\n"
     ]
    },
    {
     "name": "stderr",
     "output_type": "stream",
     "text": [
      " 79%|███████▉  | 79/100 [3:32:59<58:31, 167.22s/it]"
     ]
    },
    {
     "name": "stdout",
     "output_type": "stream",
     "text": [
      "Epoch [79/100] Acc@1: 0.00%, Acc@5: 0.00%\n",
      "Model saved to ./experiments/cpc_2025-05-14_06-46-08/weights.pth\n"
     ]
    },
    {
     "name": "stderr",
     "output_type": "stream",
     "text": [
      " 80%|████████  | 80/100 [3:32:59<54:28, 163.43s/it]"
     ]
    },
    {
     "name": "stdout",
     "output_type": "stream",
     "text": [
      "Latest checkpoint saved to ./experiments/cpc_2025-05-14_06-46-08/last_checkpoint.pt at epoch 79\n"
     ]
    },
    {
     "name": "stderr",
     "output_type": "stream",
     "text": [
      "100%|██████████| 29/29 [01:23<00:00,  2.86s/it, loss/step=1.47, norm=0.1]\n",
      " 80%|████████  | 80/100 [3:34:22<54:28, 163.43s/it]"
     ]
    },
    {
     "name": "stdout",
     "output_type": "stream",
     "text": [
      "Epoch 80: loss = 1.5013\n"
     ]
    },
    {
     "name": "stderr",
     "output_type": "stream",
     "text": [
      " 80%|████████  | 80/100 [3:35:46<54:28, 163.43s/it]"
     ]
    },
    {
     "name": "stdout",
     "output_type": "stream",
     "text": [
      "Epoch [80/100] Acc@1: 0.00%, Acc@5: 0.33%\n"
     ]
    },
    {
     "name": "stderr",
     "output_type": "stream",
     "text": [
      " 81%|████████  | 81/100 [3:35:46<52:06, 164.54s/it]"
     ]
    },
    {
     "name": "stdout",
     "output_type": "stream",
     "text": [
      "Latest checkpoint saved to ./experiments/cpc_2025-05-14_06-46-08/last_checkpoint.pt at epoch 80\n"
     ]
    },
    {
     "name": "stderr",
     "output_type": "stream",
     "text": [
      "100%|██████████| 29/29 [01:26<00:00,  2.97s/it, loss/step=1.49, norm=0.125]\n",
      " 81%|████████  | 81/100 [3:37:13<52:06, 164.54s/it]"
     ]
    },
    {
     "name": "stdout",
     "output_type": "stream",
     "text": [
      "Epoch 81: loss = 1.5027\n"
     ]
    },
    {
     "name": "stderr",
     "output_type": "stream",
     "text": [
      " 81%|████████  | 81/100 [3:38:11<52:06, 164.54s/it]"
     ]
    },
    {
     "name": "stdout",
     "output_type": "stream",
     "text": [
      "Epoch [81/100] Acc@1: 0.00%, Acc@5: 0.11%\n"
     ]
    },
    {
     "name": "stderr",
     "output_type": "stream",
     "text": [
      " 82%|████████▏ | 82/100 [3:38:11<47:36, 158.68s/it]"
     ]
    },
    {
     "name": "stdout",
     "output_type": "stream",
     "text": [
      "Latest checkpoint saved to ./experiments/cpc_2025-05-14_06-46-08/last_checkpoint.pt at epoch 81\n"
     ]
    },
    {
     "name": "stderr",
     "output_type": "stream",
     "text": [
      "100%|██████████| 29/29 [01:07<00:00,  2.33s/it, loss/step=1.49, norm=0.206]\n",
      " 82%|████████▏ | 82/100 [3:39:19<47:36, 158.68s/it]"
     ]
    },
    {
     "name": "stdout",
     "output_type": "stream",
     "text": [
      "Epoch 82: loss = 1.5002\n"
     ]
    },
    {
     "name": "stderr",
     "output_type": "stream",
     "text": [
      " 82%|████████▏ | 82/100 [3:40:52<47:36, 158.68s/it]"
     ]
    },
    {
     "name": "stdout",
     "output_type": "stream",
     "text": [
      "Epoch [82/100] Acc@1: 0.00%, Acc@5: 0.11%\n",
      "Model saved to ./experiments/cpc_2025-05-14_06-46-08/weights.pth\n"
     ]
    },
    {
     "name": "stderr",
     "output_type": "stream",
     "text": [
      " 83%|████████▎ | 83/100 [3:40:53<45:13, 159.60s/it]"
     ]
    },
    {
     "name": "stdout",
     "output_type": "stream",
     "text": [
      "Latest checkpoint saved to ./experiments/cpc_2025-05-14_06-46-08/last_checkpoint.pt at epoch 82\n"
     ]
    },
    {
     "name": "stderr",
     "output_type": "stream",
     "text": [
      "100%|██████████| 29/29 [01:42<00:00,  3.52s/it, loss/step=1.47, norm=0.109]\n",
      " 83%|████████▎ | 83/100 [3:42:35<45:13, 159.60s/it]"
     ]
    },
    {
     "name": "stdout",
     "output_type": "stream",
     "text": [
      "Epoch 83: loss = 1.4982\n"
     ]
    },
    {
     "name": "stderr",
     "output_type": "stream",
     "text": [
      " 83%|████████▎ | 83/100 [3:43:41<45:13, 159.60s/it]"
     ]
    },
    {
     "name": "stdout",
     "output_type": "stream",
     "text": [
      "Epoch [83/100] Acc@1: 0.00%, Acc@5: 0.00%\n",
      "Model saved to ./experiments/cpc_2025-05-14_06-46-08/weights.pth\n"
     ]
    },
    {
     "name": "stderr",
     "output_type": "stream",
     "text": [
      " 84%|████████▍ | 84/100 [3:43:41<43:14, 162.16s/it]"
     ]
    },
    {
     "name": "stdout",
     "output_type": "stream",
     "text": [
      "Latest checkpoint saved to ./experiments/cpc_2025-05-14_06-46-08/last_checkpoint.pt at epoch 83\n"
     ]
    },
    {
     "name": "stderr",
     "output_type": "stream",
     "text": [
      "100%|██████████| 29/29 [01:35<00:00,  3.28s/it, loss/step=1.51, norm=0.178]\n",
      " 84%|████████▍ | 84/100 [3:45:16<43:14, 162.16s/it]"
     ]
    },
    {
     "name": "stdout",
     "output_type": "stream",
     "text": [
      "Epoch 84: loss = 1.5003\n"
     ]
    },
    {
     "name": "stderr",
     "output_type": "stream",
     "text": [
      " 84%|████████▍ | 84/100 [3:46:39<43:14, 162.16s/it]"
     ]
    },
    {
     "name": "stdout",
     "output_type": "stream",
     "text": [
      "Epoch [84/100] Acc@1: 0.00%, Acc@5: 0.11%\n"
     ]
    },
    {
     "name": "stderr",
     "output_type": "stream",
     "text": [
      " 85%|████████▌ | 85/100 [3:46:40<41:46, 167.11s/it]"
     ]
    },
    {
     "name": "stdout",
     "output_type": "stream",
     "text": [
      "Latest checkpoint saved to ./experiments/cpc_2025-05-14_06-46-08/last_checkpoint.pt at epoch 84\n"
     ]
    },
    {
     "name": "stderr",
     "output_type": "stream",
     "text": [
      "100%|██████████| 29/29 [01:38<00:00,  3.41s/it, loss/step=1.47, norm=0.187]\n",
      " 85%|████████▌ | 85/100 [3:48:19<41:46, 167.11s/it]"
     ]
    },
    {
     "name": "stdout",
     "output_type": "stream",
     "text": [
      "Epoch 85: loss = 1.4997\n"
     ]
    },
    {
     "name": "stderr",
     "output_type": "stream",
     "text": [
      " 85%|████████▌ | 85/100 [3:49:23<41:46, 167.11s/it]"
     ]
    },
    {
     "name": "stdout",
     "output_type": "stream",
     "text": [
      "Epoch [85/100] Acc@1: 0.00%, Acc@5: 0.11%\n"
     ]
    },
    {
     "name": "stderr",
     "output_type": "stream",
     "text": [
      " 86%|████████▌ | 86/100 [3:49:23<38:43, 165.95s/it]"
     ]
    },
    {
     "name": "stdout",
     "output_type": "stream",
     "text": [
      "Latest checkpoint saved to ./experiments/cpc_2025-05-14_06-46-08/last_checkpoint.pt at epoch 85\n"
     ]
    },
    {
     "name": "stderr",
     "output_type": "stream",
     "text": [
      "100%|██████████| 29/29 [01:19<00:00,  2.73s/it, loss/step=1.46, norm=0.185]\n",
      " 86%|████████▌ | 86/100 [3:50:42<38:43, 165.95s/it]"
     ]
    },
    {
     "name": "stdout",
     "output_type": "stream",
     "text": [
      "Epoch 86: loss = 1.4980\n"
     ]
    },
    {
     "name": "stderr",
     "output_type": "stream",
     "text": [
      " 86%|████████▌ | 86/100 [3:52:18<38:43, 165.95s/it]"
     ]
    },
    {
     "name": "stdout",
     "output_type": "stream",
     "text": [
      "Epoch [86/100] Acc@1: 0.00%, Acc@5: 0.00%\n",
      "Model saved to ./experiments/cpc_2025-05-14_06-46-08/weights.pth\n"
     ]
    },
    {
     "name": "stderr",
     "output_type": "stream",
     "text": [
      " 87%|████████▋ | 87/100 [3:52:19<36:35, 168.90s/it]"
     ]
    },
    {
     "name": "stdout",
     "output_type": "stream",
     "text": [
      "Latest checkpoint saved to ./experiments/cpc_2025-05-14_06-46-08/last_checkpoint.pt at epoch 86\n"
     ]
    },
    {
     "name": "stderr",
     "output_type": "stream",
     "text": [
      "100%|██████████| 29/29 [01:16<00:00,  2.64s/it, loss/step=1.48, norm=0.134]\n",
      " 87%|████████▋ | 87/100 [3:53:36<36:35, 168.90s/it]"
     ]
    },
    {
     "name": "stdout",
     "output_type": "stream",
     "text": [
      "Epoch 87: loss = 1.5000\n"
     ]
    },
    {
     "name": "stderr",
     "output_type": "stream",
     "text": [
      " 87%|████████▋ | 87/100 [3:54:42<36:35, 168.90s/it]"
     ]
    },
    {
     "name": "stdout",
     "output_type": "stream",
     "text": [
      "Epoch [87/100] Acc@1: 0.00%, Acc@5: 0.11%\n"
     ]
    },
    {
     "name": "stderr",
     "output_type": "stream",
     "text": [
      " 88%|████████▊ | 88/100 [3:54:43<32:15, 161.30s/it]"
     ]
    },
    {
     "name": "stdout",
     "output_type": "stream",
     "text": [
      "Latest checkpoint saved to ./experiments/cpc_2025-05-14_06-46-08/last_checkpoint.pt at epoch 87\n"
     ]
    },
    {
     "name": "stderr",
     "output_type": "stream",
     "text": [
      "100%|██████████| 29/29 [01:42<00:00,  3.54s/it, loss/step=1.5, norm=0.171]\n",
      " 88%|████████▊ | 88/100 [3:56:25<32:15, 161.30s/it]"
     ]
    },
    {
     "name": "stdout",
     "output_type": "stream",
     "text": [
      "Epoch 88: loss = 1.4982\n"
     ]
    },
    {
     "name": "stderr",
     "output_type": "stream",
     "text": [
      " 88%|████████▊ | 88/100 [3:57:52<32:15, 161.30s/it]"
     ]
    },
    {
     "name": "stdout",
     "output_type": "stream",
     "text": [
      "Epoch [88/100] Acc@1: 0.00%, Acc@5: 0.22%\n"
     ]
    },
    {
     "name": "stderr",
     "output_type": "stream",
     "text": [
      " 89%|████████▉ | 89/100 [3:57:53<31:10, 170.07s/it]"
     ]
    },
    {
     "name": "stdout",
     "output_type": "stream",
     "text": [
      "Latest checkpoint saved to ./experiments/cpc_2025-05-14_06-46-08/last_checkpoint.pt at epoch 88\n"
     ]
    },
    {
     "name": "stderr",
     "output_type": "stream",
     "text": [
      "100%|██████████| 29/29 [01:13<00:00,  2.52s/it, loss/step=1.48, norm=0.143]\n",
      " 89%|████████▉ | 89/100 [3:59:06<31:10, 170.07s/it]"
     ]
    },
    {
     "name": "stdout",
     "output_type": "stream",
     "text": [
      "Epoch 89: loss = 1.4959\n"
     ]
    },
    {
     "name": "stderr",
     "output_type": "stream",
     "text": [
      " 89%|████████▉ | 89/100 [4:00:32<31:10, 170.07s/it]"
     ]
    },
    {
     "name": "stdout",
     "output_type": "stream",
     "text": [
      "Epoch [89/100] Acc@1: 0.00%, Acc@5: 0.11%\n",
      "Model saved to ./experiments/cpc_2025-05-14_06-46-08/weights.pth\n"
     ]
    },
    {
     "name": "stderr",
     "output_type": "stream",
     "text": [
      " 90%|█████████ | 90/100 [4:00:33<27:49, 166.97s/it]"
     ]
    },
    {
     "name": "stdout",
     "output_type": "stream",
     "text": [
      "Latest checkpoint saved to ./experiments/cpc_2025-05-14_06-46-08/last_checkpoint.pt at epoch 89\n"
     ]
    },
    {
     "name": "stderr",
     "output_type": "stream",
     "text": [
      "100%|██████████| 29/29 [01:20<00:00,  2.78s/it, loss/step=1.5, norm=0.102]\n",
      " 90%|█████████ | 90/100 [4:01:53<27:49, 166.97s/it]"
     ]
    },
    {
     "name": "stdout",
     "output_type": "stream",
     "text": [
      "Epoch 90: loss = 1.4989\n"
     ]
    },
    {
     "name": "stderr",
     "output_type": "stream",
     "text": [
      " 90%|█████████ | 90/100 [4:03:18<27:49, 166.97s/it]"
     ]
    },
    {
     "name": "stdout",
     "output_type": "stream",
     "text": [
      "Epoch [90/100] Acc@1: 0.00%, Acc@5: 0.11%\n"
     ]
    },
    {
     "name": "stderr",
     "output_type": "stream",
     "text": [
      " 91%|█████████ | 91/100 [4:03:18<24:59, 166.56s/it]"
     ]
    },
    {
     "name": "stdout",
     "output_type": "stream",
     "text": [
      "Latest checkpoint saved to ./experiments/cpc_2025-05-14_06-46-08/last_checkpoint.pt at epoch 90\n"
     ]
    },
    {
     "name": "stderr",
     "output_type": "stream",
     "text": [
      "100%|██████████| 29/29 [01:33<00:00,  3.23s/it, loss/step=1.48, norm=0.0971]\n",
      " 91%|█████████ | 91/100 [4:04:52<24:59, 166.56s/it]"
     ]
    },
    {
     "name": "stdout",
     "output_type": "stream",
     "text": [
      "Epoch 91: loss = 1.5007\n"
     ]
    },
    {
     "name": "stderr",
     "output_type": "stream",
     "text": [
      " 91%|█████████ | 91/100 [4:05:52<24:59, 166.56s/it]"
     ]
    },
    {
     "name": "stdout",
     "output_type": "stream",
     "text": [
      "Epoch [91/100] Acc@1: 0.00%, Acc@5: 0.00%\n"
     ]
    },
    {
     "name": "stderr",
     "output_type": "stream",
     "text": [
      " 92%|█████████▏| 92/100 [4:05:53<21:43, 162.93s/it]"
     ]
    },
    {
     "name": "stdout",
     "output_type": "stream",
     "text": [
      "Latest checkpoint saved to ./experiments/cpc_2025-05-14_06-46-08/last_checkpoint.pt at epoch 91\n"
     ]
    },
    {
     "name": "stderr",
     "output_type": "stream",
     "text": [
      "100%|██████████| 29/29 [01:09<00:00,  2.39s/it, loss/step=1.49, norm=0.101]\n",
      " 92%|█████████▏| 92/100 [4:07:02<21:43, 162.93s/it]"
     ]
    },
    {
     "name": "stdout",
     "output_type": "stream",
     "text": [
      "Epoch 92: loss = 1.4976\n"
     ]
    },
    {
     "name": "stderr",
     "output_type": "stream",
     "text": [
      " 92%|█████████▏| 92/100 [4:08:46<21:43, 162.93s/it]"
     ]
    },
    {
     "name": "stdout",
     "output_type": "stream",
     "text": [
      "Epoch [92/100] Acc@1: 0.00%, Acc@5: 0.22%\n"
     ]
    },
    {
     "name": "stderr",
     "output_type": "stream",
     "text": [
      " 93%|█████████▎| 93/100 [4:08:47<19:24, 166.30s/it]"
     ]
    },
    {
     "name": "stdout",
     "output_type": "stream",
     "text": [
      "Latest checkpoint saved to ./experiments/cpc_2025-05-14_06-46-08/last_checkpoint.pt at epoch 92\n"
     ]
    },
    {
     "name": "stderr",
     "output_type": "stream",
     "text": [
      "100%|██████████| 29/29 [01:12<00:00,  2.50s/it, loss/step=1.54, norm=0.2]\n",
      " 93%|█████████▎| 93/100 [4:09:59<19:24, 166.30s/it]"
     ]
    },
    {
     "name": "stdout",
     "output_type": "stream",
     "text": [
      "Epoch 93: loss = 1.5009\n"
     ]
    },
    {
     "name": "stderr",
     "output_type": "stream",
     "text": [
      " 93%|█████████▎| 93/100 [4:11:07<19:24, 166.30s/it]"
     ]
    },
    {
     "name": "stdout",
     "output_type": "stream",
     "text": [
      "Epoch [93/100] Acc@1: 0.00%, Acc@5: 0.00%\n"
     ]
    },
    {
     "name": "stderr",
     "output_type": "stream",
     "text": [
      " 94%|█████████▍| 94/100 [4:11:07<15:51, 158.56s/it]"
     ]
    },
    {
     "name": "stdout",
     "output_type": "stream",
     "text": [
      "Latest checkpoint saved to ./experiments/cpc_2025-05-14_06-46-08/last_checkpoint.pt at epoch 93\n"
     ]
    },
    {
     "name": "stderr",
     "output_type": "stream",
     "text": [
      "100%|██████████| 29/29 [01:32<00:00,  3.18s/it, loss/step=1.56, norm=0.128]\n",
      " 94%|█████████▍| 94/100 [4:12:40<15:51, 158.56s/it]"
     ]
    },
    {
     "name": "stdout",
     "output_type": "stream",
     "text": [
      "Epoch 94: loss = 1.4973\n"
     ]
    },
    {
     "name": "stderr",
     "output_type": "stream",
     "text": [
      " 94%|█████████▍| 94/100 [4:14:07<15:51, 158.56s/it]"
     ]
    },
    {
     "name": "stdout",
     "output_type": "stream",
     "text": [
      "Epoch [94/100] Acc@1: 0.00%, Acc@5: 0.22%\n"
     ]
    },
    {
     "name": "stderr",
     "output_type": "stream",
     "text": [
      " 95%|█████████▌| 95/100 [4:14:07<13:44, 164.88s/it]"
     ]
    },
    {
     "name": "stdout",
     "output_type": "stream",
     "text": [
      "Latest checkpoint saved to ./experiments/cpc_2025-05-14_06-46-08/last_checkpoint.pt at epoch 94\n"
     ]
    },
    {
     "name": "stderr",
     "output_type": "stream",
     "text": [
      "100%|██████████| 29/29 [01:37<00:00,  3.36s/it, loss/step=1.51, norm=0.132]\n",
      " 95%|█████████▌| 95/100 [4:15:44<13:44, 164.88s/it]"
     ]
    },
    {
     "name": "stdout",
     "output_type": "stream",
     "text": [
      "Epoch 95: loss = 1.4981\n"
     ]
    },
    {
     "name": "stderr",
     "output_type": "stream",
     "text": [
      " 95%|█████████▌| 95/100 [4:16:48<13:44, 164.88s/it]"
     ]
    },
    {
     "name": "stdout",
     "output_type": "stream",
     "text": [
      "Epoch [95/100] Acc@1: 0.00%, Acc@5: 0.22%\n"
     ]
    },
    {
     "name": "stderr",
     "output_type": "stream",
     "text": [
      " 96%|█████████▌| 96/100 [4:16:49<10:55, 163.93s/it]"
     ]
    },
    {
     "name": "stdout",
     "output_type": "stream",
     "text": [
      "Latest checkpoint saved to ./experiments/cpc_2025-05-14_06-46-08/last_checkpoint.pt at epoch 95\n"
     ]
    },
    {
     "name": "stderr",
     "output_type": "stream",
     "text": [
      "100%|██████████| 29/29 [01:26<00:00,  2.99s/it, loss/step=1.53, norm=0.103]\n",
      " 96%|█████████▌| 96/100 [4:18:16<10:55, 163.93s/it]"
     ]
    },
    {
     "name": "stdout",
     "output_type": "stream",
     "text": [
      "Epoch 96: loss = 1.4991\n"
     ]
    },
    {
     "name": "stderr",
     "output_type": "stream",
     "text": [
      " 96%|█████████▌| 96/100 [4:19:47<10:55, 163.93s/it]"
     ]
    },
    {
     "name": "stdout",
     "output_type": "stream",
     "text": [
      "Epoch [96/100] Acc@1: 0.00%, Acc@5: 0.22%\n"
     ]
    },
    {
     "name": "stderr",
     "output_type": "stream",
     "text": [
      " 97%|█████████▋| 97/100 [4:19:47<08:24, 168.25s/it]"
     ]
    },
    {
     "name": "stdout",
     "output_type": "stream",
     "text": [
      "Latest checkpoint saved to ./experiments/cpc_2025-05-14_06-46-08/last_checkpoint.pt at epoch 96\n"
     ]
    },
    {
     "name": "stderr",
     "output_type": "stream",
     "text": [
      "100%|██████████| 29/29 [01:26<00:00,  2.98s/it, loss/step=1.46, norm=0.101]\n",
      " 97%|█████████▋| 97/100 [4:21:14<08:24, 168.25s/it]"
     ]
    },
    {
     "name": "stdout",
     "output_type": "stream",
     "text": [
      "Epoch 97: loss = 1.4971\n"
     ]
    },
    {
     "name": "stderr",
     "output_type": "stream",
     "text": [
      " 97%|█████████▋| 97/100 [4:22:15<08:24, 168.25s/it]"
     ]
    },
    {
     "name": "stdout",
     "output_type": "stream",
     "text": [
      "Epoch [97/100] Acc@1: 0.00%, Acc@5: 0.22%\n"
     ]
    },
    {
     "name": "stderr",
     "output_type": "stream",
     "text": [
      " 98%|█████████▊| 98/100 [4:22:15<05:24, 162.18s/it]"
     ]
    },
    {
     "name": "stdout",
     "output_type": "stream",
     "text": [
      "Latest checkpoint saved to ./experiments/cpc_2025-05-14_06-46-08/last_checkpoint.pt at epoch 97\n"
     ]
    },
    {
     "name": "stderr",
     "output_type": "stream",
     "text": [
      "100%|██████████| 29/29 [01:09<00:00,  2.39s/it, loss/step=1.5, norm=0.152]\n",
      " 98%|█████████▊| 98/100 [4:23:25<05:24, 162.18s/it]"
     ]
    },
    {
     "name": "stdout",
     "output_type": "stream",
     "text": [
      "Epoch 98: loss = 1.4989\n"
     ]
    },
    {
     "name": "stderr",
     "output_type": "stream",
     "text": [
      " 98%|█████████▊| 98/100 [4:24:53<05:24, 162.18s/it]"
     ]
    },
    {
     "name": "stdout",
     "output_type": "stream",
     "text": [
      "Epoch [98/100] Acc@1: 0.00%, Acc@5: 0.22%\n"
     ]
    },
    {
     "name": "stderr",
     "output_type": "stream",
     "text": [
      " 99%|█████████▉| 99/100 [4:24:53<02:41, 161.00s/it]"
     ]
    },
    {
     "name": "stdout",
     "output_type": "stream",
     "text": [
      "Latest checkpoint saved to ./experiments/cpc_2025-05-14_06-46-08/last_checkpoint.pt at epoch 98\n"
     ]
    },
    {
     "name": "stderr",
     "output_type": "stream",
     "text": [
      "100%|██████████| 29/29 [01:36<00:00,  3.33s/it, loss/step=1.49, norm=0.192]\n",
      " 99%|█████████▉| 99/100 [4:26:30<02:41, 161.00s/it]"
     ]
    },
    {
     "name": "stdout",
     "output_type": "stream",
     "text": [
      "Epoch 99: loss = 1.5009\n"
     ]
    },
    {
     "name": "stderr",
     "output_type": "stream",
     "text": [
      " 99%|█████████▉| 99/100 [4:27:36<02:41, 161.00s/it]"
     ]
    },
    {
     "name": "stdout",
     "output_type": "stream",
     "text": [
      "Epoch [99/100] Acc@1: 0.00%, Acc@5: 0.11%\n"
     ]
    },
    {
     "name": "stderr",
     "output_type": "stream",
     "text": [
      "100%|██████████| 100/100 [4:27:36<00:00, 160.57s/it]"
     ]
    },
    {
     "name": "stdout",
     "output_type": "stream",
     "text": [
      "Latest checkpoint saved to ./experiments/cpc_2025-05-14_06-46-08/last_checkpoint.pt at epoch 99\n",
      "Training complete.\n"
     ]
    },
    {
     "name": "stderr",
     "output_type": "stream",
     "text": [
      "\n"
     ]
    }
   ],
   "source": [
    "# add the label encoder angles to the config\n",
    "config.update(**label_encoder_angles)\n",
    "# dump the config\n",
    "path = os.path.join(\"./experiments\", config[\"experiment_name\"])\n",
    "os.makedirs(path, exist_ok=True)\n",
    "with open(os.path.join(path, \"config.yaml\"), \"w\") as f:\n",
    "    yaml.dump(config, f, default_flow_style=False)\n",
    "\n",
    "optim = torch.optim.AdamW(\n",
    "    model.parameters(),\n",
    "    lr=config[\"learning_rate\"],\n",
    "    weight_decay=config[\"weight_decay\"],\n",
    ")\n",
    "scheduler = torch.optim.lr_scheduler.CosineAnnealingLR(\n",
    "    optim,\n",
    "    T_max=config[\"num_epochs\"],\n",
    "    eta_min=1e-6,\n",
    ")\n",
    "\n",
    "scaler = torch.amp.GradScaler(device=device.type, enabled=True)\n",
    "writer = SummaryWriter(\n",
    "    log_dir=os.path.join(\"./experiments/\", config[\"experiment_name\"]),\n",
    ")\n",
    "tracker = Tracker(\"loss/epoch\", mode=\"min\")\n",
    "\n",
    "start_epoch = 0\n",
    "# resume training from a checkpoint if it exists\n",
    "checkpoint_path = config[\"checkpoint_path\"]\n",
    "if checkpoint_path and os.path.exists(checkpoint_path):\n",
    "    checkpoint = torch.load(checkpoint_path)\n",
    "    model.load_state_dict(checkpoint[\"state_dict\"])\n",
    "    optim.load_state_dict(checkpoint[\"opt_state_dict\"])\n",
    "    scheduler.load_state_dict(checkpoint[\"sch_state_dict\"])\n",
    "    start_epoch = checkpoint[\"epoch\"]\n",
    "    print(f\"Resuming training from epoch {start_epoch}\")\n",
    "\n",
    "step = 0\n",
    "with tqdm(range(start_epoch, config[\"num_epochs\"])) as master_bar:\n",
    "    for epoch in master_bar:\n",
    "        model.train()\n",
    "        avg_loss, total_num, top1, feature_bank = 0.0, 0, 0, []\n",
    "        with tqdm(train_loader) as pbar:\n",
    "            for xb, yb in pbar:\n",
    "                xb = xb.to(device)\n",
    "                optim.zero_grad()\n",
    "\n",
    "                with torch.amp.autocast(device_type=device.type,\n",
    "                                        enabled=True):\n",
    "                    c_t, z_fut, _ = model(xb)\n",
    "                    loss = nt_xent_loss(c_t, z_fut)\n",
    "\n",
    "                scaler.scale(loss).backward()\n",
    "                # clip gradients\n",
    "                scaler.unscale_(optim)\n",
    "                norm = torch.nn.utils.clip_grad_norm_(\n",
    "                    model.parameters(), 1.0, norm_type=2\n",
    "                )\n",
    "                scaler.step(optim)\n",
    "                scaler.update()\n",
    "\n",
    "                avg_loss += loss.item()\n",
    "\n",
    "                pbar.set_postfix(\n",
    "                    {\"loss/step\": loss.item(), \"norm\": norm.item()})\n",
    "                writer.add_scalar(\"loss/step\", loss.item(), step)\n",
    "                writer.add_scalar(\"norm/step\", norm.item(), step)\n",
    "                step += 1\n",
    "\n",
    "        avg_loss /= len(train_loader)\n",
    "        writer.add_scalar(\"loss/epoch\", avg_loss, epoch)\n",
    "        master_bar.write(f\"Epoch {epoch}: loss = {avg_loss:.4f}\")\n",
    "        scheduler.step()\n",
    "        writer.add_scalar(\n",
    "            \"learning_rate/epoch\",\n",
    "            optim.param_groups[0][\"lr\"],\n",
    "            epoch,\n",
    "        )\n",
    "\n",
    "        # evaluate the model\n",
    "        knn_evaluate(\n",
    "            model,\n",
    "            memory_loader,\n",
    "            test_loader,\n",
    "            epoch,\n",
    "            config,\n",
    "            master_bar,\n",
    "            writer,\n",
    "            device,\n",
    "        )\n",
    "\n",
    "        writer.flush()\n",
    "        if tracker.operator(avg_loss, tracker.best):\n",
    "            tracker.best = avg_loss\n",
    "            # Save the model checkpoint\n",
    "            checkpoint_path = os.path.join(\n",
    "                \"./experiments\", f\"{config['experiment_name']}/weights.pth\"\n",
    "            )\n",
    "            torch.save(model.state_dict(), checkpoint_path)\n",
    "            print(f\"Model saved to {checkpoint_path}\")\n",
    "        # save the latest checkpoint\n",
    "        checkpoint_path = os.path.join(\n",
    "            \"./experiments\", f\"{config['experiment_name']}/last_checkpoint.pt\")\n",
    "        torch.save({\n",
    "            \"state_dict\": model.state_dict(),\n",
    "            \"opt_state_dict\": optim.state_dict(),\n",
    "            \"sch_state_dict\": scheduler.state_dict(),\n",
    "            \"epoch\": epoch}, checkpoint_path)\n",
    "        print(\n",
    "            f\"Latest checkpoint saved to {checkpoint_path} at epoch {epoch}\"\n",
    "        )\n",
    "\n",
    "writer.close()\n",
    "print(\"Training complete.\")"
   ]
  },
  {
   "cell_type": "markdown",
   "id": "209a0886",
   "metadata": {},
   "source": [
    "##### **Notes**\n",
    "\n",
    "- training has very dramatic gradient that dances around and loss is very noisy\n",
    "- use of gradient clipping and data normalization per sample (try whole batch normalization too) reduced the noisy loss but more improvements can be done\n",
    "- TODO: introduce the silhoutte score to determining if the clustering is improving during training\n",
    "\n",
    "##### **Updates on 07/05/2025**\n",
    "- changes to CPC model and loss based on training implement discussed in paper resolve most of the problem oberseved before\n",
    "\n",
    "##### **Updates on 12/05/2025**\n",
    "\n",
    "- use of more negative sampling in training dataset\n",
    "\n",
    "#### **Updates on 14/05/2025**\n",
    "\n",
    "- use of knn evaluation to track clustering (indication of learning but very slow compared to SimCLR and MoCo)"
   ]
  },
  {
   "cell_type": "markdown",
   "id": "4e75ad57",
   "metadata": {},
   "source": [
    "### **Linear-probing**"
   ]
  },
  {
   "cell_type": "code",
   "execution_count": null,
   "id": "bfeeadac",
   "metadata": {},
   "outputs": [],
   "source": [
    "from torch.utils.data import Dataset\n",
    "import h5py\n",
    "from model_builder.core import Learner, DataLoaders, SaveModelCallback\n",
    "from model_builder.core.metrics import multiclass_accuracy\n",
    "from datetime import datetime\n",
    "import yaml\n",
    "import os"
   ]
  },
  {
   "cell_type": "code",
   "execution_count": null,
   "id": "672cb50c",
   "metadata": {},
   "outputs": [],
   "source": [
    "device = \"cuda\" if torch.cuda.is_available() else \"cpu\""
   ]
  },
  {
   "cell_type": "code",
   "execution_count": null,
   "id": "f196bf6a",
   "metadata": {},
   "outputs": [],
   "source": [
    "config = {\n",
    "    \"num_epochs\": 5,\n",
    "    \"lr\": 1e-3,\n",
    "    \"weight_decay\": 1e-4,\n",
    "    \"bs\": 512,\n",
    "    \"drop_rate\": 0.2,\n",
    "    \"drop_path_rate\": 0.7,\n",
    "    \"experiment_name\": f\"cpc_linear_probing_{datetime.now().strftime('%Y-%m-%d_%H-%M-%S')}\",\n",
    "    \"pretrained_backbone\": \"./experiments/cpc_2025-05-12_15-50-11/weights.pth\",\n",
    "}\n",
    "\n",
    "with open(\"label_encoder_angles.yaml\", \"r\") as f:\n",
    "    label_encoder = yaml.safe_load(f)\n",
    "    config.update(**label_encoder)\n",
    "\n",
    "config"
   ]
  },
  {
   "cell_type": "code",
   "execution_count": null,
   "id": "1ed74912",
   "metadata": {},
   "outputs": [],
   "source": [
    "# load the best model\n",
    "model = timm.create_model(\n",
    "    \"resnet18\",\n",
    "    in_chans=4,\n",
    "    num_classes=225,\n",
    "    drop_rate=config[\"drop_rate\"],\n",
    "    drop_path_rate=config[\"drop_path_rate\"],\n",
    ")\n",
    "\n",
    "linear_name = \"fc\"\n",
    "\n",
    "weights = torch.load(\n",
    "    config[\"pretrained_backbone\"], weights_only=True, map_location=device\n",
    ")\n",
    "\n",
    "# clean out ssl base encoder weights\n",
    "for k in list(weights.keys()):\n",
    "    # retain only encoder up to before the embedding layer\n",
    "    if k.startswith('encoder') and not k.startswith('encoder.%s' % linear_name):\n",
    "        # remove prefix\n",
    "        weights[k[len(\"encoder.\"):]] = weights[k]\n",
    "    # delete renamed or unused k\n",
    "    del weights[k]\n",
    "\n",
    "msg = model.load_state_dict(\n",
    "    weights, strict=False)\n",
    "assert msg.missing_keys == \\\n",
    "    [f\"{linear_name}.weight\", f\"{linear_name}.bias\"], \\\n",
    "    \"Missing keys: %s\" % msg.missing_keys\n",
    "\n",
    "in_features = model.fc.in_features\n",
    "model.fc = nn.Identity()"
   ]
  },
  {
   "cell_type": "code",
   "execution_count": null,
   "id": "bad96684",
   "metadata": {},
   "outputs": [],
   "source": [
    "class R22_Dataset(Dataset):\n",
    "    \"\"\"\n",
    "    Avoid loading the entire dataset into memory.\n",
    "    \"\"\"\n",
    "\n",
    "    def __init__(self, h5_path,\n",
    "                 input_label=\"iq_data\",\n",
    "                 target_label=\"angles\",\n",
    "                 transform=None):\n",
    "        self.h5_path = h5_path\n",
    "        self.input_label = input_label\n",
    "        self.target_label = target_label\n",
    "        self.transform = transform\n",
    "        self._file = None\n",
    "\n",
    "    def _ensure_open(self):\n",
    "        if self._file is None:\n",
    "            # open in read-only, latest libver, SWMR if you know no writers\n",
    "            self._file = h5py.File(\n",
    "                self.h5_path, 'r', libver='latest', swmr=True)\n",
    "            self._x = self._file[self.input_label]\n",
    "            self._y = self._file[self.target_label]\n",
    "\n",
    "    def __len__(self):\n",
    "        self._ensure_open()\n",
    "        return self._x.shape[0]\n",
    "\n",
    "    def __getitem__(self, idx):\n",
    "        self._ensure_open()\n",
    "        x = self._x[idx]\n",
    "        y = self._y[idx]\n",
    "        if self.transform:\n",
    "            x = self.transform(x)\n",
    "        return x, y\n",
    "\n",
    "    def __del__(self):\n",
    "        if self._file is not None:\n",
    "            self._file.close()"
   ]
  },
  {
   "cell_type": "code",
   "execution_count": null,
   "id": "c4b7c669",
   "metadata": {},
   "outputs": [],
   "source": [
    "# training config\n",
    "bs = config[\"bs\"]\n",
    "prefetch_factor = 2\n",
    "num_workers = 8\n",
    "persistent_workers = True\n",
    "pin_memory = True\n",
    "\n",
    "\n",
    "# create a dataset\n",
    "train_ds = R22_Dataset(\n",
    "    \"datasets/train_preprocessed.h5\",\n",
    "    transform=lambda x: torch.from_numpy(x).float()\n",
    ")\n",
    "\n",
    "print(f\"train_ds: {len(train_ds):,}\")\n",
    "\n",
    "val_ds = R22_Dataset(\n",
    "    \"datasets/test_preprocessed.h5\",\n",
    "    transform=lambda x: torch.from_numpy(x).float()\n",
    ")\n",
    "print(f\"val_ds: {len(val_ds):,}\")\n",
    "\n",
    "dls = DataLoaders.create(\n",
    "    train_ds,\n",
    "    val_ds,\n",
    "    bs=bs,\n",
    "    prefetch_factor=prefetch_factor,\n",
    "    num_workers=num_workers,\n",
    "    persistent_workers=persistent_workers,\n",
    "    pin_memory=pin_memory,\n",
    ")"
   ]
  },
  {
   "cell_type": "code",
   "execution_count": null,
   "id": "6ac61afe",
   "metadata": {},
   "outputs": [],
   "source": [
    "import re\n",
    "\n",
    "\n",
    "def sanity_check(state_dict, pretrained_backbone, linear_name):\n",
    "    \"\"\"\n",
    "    check that the pretrained weights (especially the BN layers) are not updated in the linear probing step\n",
    "    \"\"\"\n",
    "    print(\"=> loading '{}' for sanity check\".format(pretrained_backbone))\n",
    "    state_dict_pre = torch.load(\n",
    "        pretrained_backbone, weights_only=True, map_location=\"cpu\"\n",
    "    )\n",
    "\n",
    "    # define pattern to ignore linear layers\n",
    "    pattern = r'%s(\\.weight|\\.[0-9]+\\.weight|\\.bias|\\.[0-9]+\\.bias)' % re.escape(\n",
    "        linear_name)\n",
    "    for k in list(state_dict.keys()):\n",
    "        if re.search(pattern, k):\n",
    "            continue\n",
    "\n",
    "        k_pre = k\n",
    "\n",
    "        assert ((state_dict[k].cpu() == state_dict_pre[k_pre]).all()), \\\n",
    "            \"{} is changed in linear probing training\".format(k)\n",
    "    print(\"=> sanity check passed\")"
   ]
  },
  {
   "cell_type": "code",
   "execution_count": null,
   "id": "6610189f",
   "metadata": {},
   "outputs": [],
   "source": [
    "from copy import deepcopy\n",
    "\n",
    "\n",
    "class LinearClassifier(nn.Module):\n",
    "    def __init__(self, encoder: nn.Module,\n",
    "                 linear_name: str,\n",
    "                 feature_dim: int,\n",
    "                 num_classes: int):\n",
    "        super(LinearClassifier, self).__init__()\n",
    "        self.encoder = deepcopy(encoder)\n",
    "        setattr(self.encoder, linear_name, nn.Identity())\n",
    "        self.fc = nn.Linear(feature_dim, num_classes)\n",
    "\n",
    "    def forward(self, x: torch.Tensor):\n",
    "        with torch.no_grad():\n",
    "            x = self.encoder(x)\n",
    "        x = self.fc(x)\n",
    "        return x"
   ]
  },
  {
   "cell_type": "code",
   "execution_count": null,
   "id": "311d3e9f",
   "metadata": {},
   "outputs": [],
   "source": [
    "model = LinearClassifier(\n",
    "    encoder=model,\n",
    "    linear_name=linear_name,\n",
    "    feature_dim=in_features,\n",
    "    num_classes=config[\"nclasses\"],\n",
    ")"
   ]
  },
  {
   "cell_type": "code",
   "execution_count": null,
   "id": "95c29bef",
   "metadata": {},
   "outputs": [],
   "source": [
    "learner_probing = Learner(\n",
    "    dls=dls,\n",
    "    model=model,\n",
    "    opt_func=torch.optim.Adam,\n",
    "    loss_func=torch.nn.CrossEntropyLoss(),\n",
    "    metrics=[multiclass_accuracy],\n",
    "    model_dir=os.path.join(\n",
    "        \"./experiments\", f\"{config['experiment_name']}\"),\n",
    ").to_fp16()"
   ]
  },
  {
   "cell_type": "code",
   "execution_count": null,
   "id": "42ba7bb2",
   "metadata": {},
   "outputs": [],
   "source": [
    "learner_probing.lr_find(start_lr=1e-5, num_it=1000)\n",
    "learner_probing.recorder.plot(suggestion=True, show_grid=True)"
   ]
  },
  {
   "cell_type": "code",
   "execution_count": null,
   "id": "c1b44403",
   "metadata": {},
   "outputs": [],
   "source": [
    "sanity_check(\n",
    "    model.state_dict(), config[\"pretrained_backbone\"], linear_name,\n",
    ")"
   ]
  },
  {
   "cell_type": "code",
   "execution_count": null,
   "id": "7f4b49af",
   "metadata": {},
   "outputs": [],
   "source": [
    "learner_probing.fit_fc(\n",
    "    5,\n",
    "    curve_type=\"cosine\",\n",
    "    lr=5.68e-03,\n",
    "    cbs=[SaveModelCallback(learner_probing, \"val_loss\",\n",
    "                           name=\"resnet18_w_frozen_cpc\")],\n",
    ")"
   ]
  },
  {
   "cell_type": "code",
   "execution_count": null,
   "id": "a30edddf",
   "metadata": {},
   "outputs": [],
   "source": [
    "learner_probing.recorder.plot_results()"
   ]
  },
  {
   "cell_type": "code",
   "execution_count": null,
   "id": "b78817c2",
   "metadata": {},
   "outputs": [],
   "source": [
    "loss, acc = learner_probing.validate(plot_cm=True)"
   ]
  }
 ],
 "metadata": {
  "kernelspec": {
   "display_name": "venv",
   "language": "python",
   "name": "python3"
  },
  "language_info": {
   "codemirror_mode": {
    "name": "ipython",
    "version": 3
   },
   "file_extension": ".py",
   "mimetype": "text/x-python",
   "name": "python",
   "nbconvert_exporter": "python",
   "pygments_lexer": "ipython3",
   "version": "3.10.12"
  }
 },
 "nbformat": 4,
 "nbformat_minor": 5
}
